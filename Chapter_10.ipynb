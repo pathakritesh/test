{
 "cells": [
  {
   "cell_type": "markdown",
   "metadata": {},
   "source": [
    "# Examples Chapter 10"
   ]
  },
  {
   "cell_type": "code",
   "execution_count": null,
   "metadata": {},
   "outputs": [],
   "source": [
    "#Problem 10.1 \n",
    "#Write a program to receive three integers from keyboard and get their sum \n",
    "#and product calculated through a user-defined function cal_sum_prod( ).\n",
    "\n",
    "def cal_sum_prod(a,b,c):\n",
    "    ss = a+b+c\n",
    "    pp = a*b*c\n",
    "    return ss,pp\n",
    "x = int(input('enter value of x: '))\n",
    "y = int(input('enter value of y: '))\n",
    "z = int(input('enter value of z: '))\n",
    "s,p = cal_sum_prod(x,y,z)\n",
    "print(s,p)"
   ]
  },
  {
   "cell_type": "code",
   "execution_count": null,
   "metadata": {
    "scrolled": true
   },
   "outputs": [],
   "source": [
    "#Problem 10.2\n",
    "#Pangram is a sentence that uses every letter of the alphabet. \n",
    "#Write a program that checks whether a given string is pangram or not, \n",
    "#through a user-defined function ispangram( ).\n",
    "\n",
    "def ispangram(s):\n",
    "    alphaset = set('abcdefghijklmnopqrstuvwxyz') \n",
    "    return alphaset <= set(s.lower()) \n",
    "print (ispangram('The Quick brown fox jumps over the lazy dog')) \n",
    "print (ispangram('Crazy Fredrick bought many very exquisite opal jewels'))"
   ]
  },
  {
   "cell_type": "code",
   "execution_count": null,
   "metadata": {},
   "outputs": [],
   "source": [
    "#Problem 10.3 \n",
    "#  Write a Python program that accepts a hyphen-separated sequence of words as input \n",
    "#  and call a function convert( ) which converts it into a hyphen-separated sequence\n",
    "#  after sorting them alphabetically. For example, if the input string is \n",
    "# 'here-come-the-dots-followed-by-dashes' then, the converted string should be \n",
    "# 'by-come-dashes-dots-followed-here-the' \n",
    "\n",
    "def convert(s1):\n",
    "    items = [s for s in s1.split('-')] \n",
    "    items.sort()\n",
    "    s2 = '-'.join(items)\n",
    "    return s2\n",
    "s = 'here-come-the-dots-followed-by-dashes' \n",
    "t = convert(s)\n",
    "print(t)\n"
   ]
  },
  {
   "cell_type": "code",
   "execution_count": null,
   "metadata": {},
   "outputs": [],
   "source": [
    "#Problem 10.4 \n",
    "#Write a Python function to create and return a list containing tuples of the form (x, x**2, x**3) \n",
    "#for all x between 1 and 20 (both included). \n",
    "\n",
    "def generate_list(): \n",
    "    lst = list() \n",
    "    for i in range(1,11): \n",
    "        lst.append((i,i**2,i**3)) \n",
    "    return lst \n",
    "l = generate_list() \n",
    "print(l)"
   ]
  },
  {
   "cell_type": "code",
   "execution_count": null,
   "metadata": {},
   "outputs": [],
   "source": [
    "#Problem 10.5 \n",
    "#A palindrome is a word or phrase which reads the same in both directions. \n",
    "#Given below are some palindromic strings: \n",
    "#deed level Malayalam Rats live on no evil star Murder for a jar of red rum Write a program \n",
    "#that defines a function ispalindrome( ) which checks whether a given string is a palindrome or \n",
    "#not. Ignore spaces while checking for palindrome. \n",
    "\n",
    "def ispalindrome(s): \n",
    "    t = s.lower() \n",
    "    left = 0 \n",
    "    right = len(t) - 1 \n",
    "    while right >= left: \n",
    "        if t[left] == '': \n",
    "            left   = 1\n",
    "        if t[right] == '': \n",
    "            right -= 1 \n",
    "        if t[ left] != t[ right]: \n",
    "            return False \n",
    "        left  = 1 \n",
    "        right -= 1 \n",
    "        return True \n",
    "print(ispalindrome('Malayalam')) \n",
    "print(ispalindrome('Rats live on no evil star')) \n",
    "print(ispalindrome('Murder for a jar of red rum')) "
   ]
  },
  {
   "cell_type": "code",
   "execution_count": null,
   "metadata": {},
   "outputs": [],
   "source": [
    "#Problem 10.6 \n",
    "#Write a program that defines a function convert( ) that receives a string containing a sequence \n",
    "#of whitespace separated words and returns a string after removing all duplicate words and \n",
    "#sorting them alphanumerically. For example, if the string passed to convert( ) is\n",
    "#'Sakhi was a Hindu because her mother was a Hindu, and Sakhi's mother was a Hindu because her \n",
    "#father was a Hindu then, the output should be: Hindu Hindu, Sakhi Sakhi's a and because \n",
    "#father her mother was \n",
    "\n",
    "def convert(s): \n",
    "    words = [word for word in s.split(' ')] \n",
    "    return ' '.join(sorted(list(set(words)))) \n",
    "s = 'I felt happy because I saw the others were happy and because I knew I should feel happy, but I wasn\\' t really happy' \n",
    "t = convert(s) \n",
    "print(t) \n",
    "s = 'Sakhi was a Hindu because her mother was a Hindu, and Sakhi\\'s mother was a Hindu because her father was a Hindu' \n",
    "t = convert(s) \n",
    "print(t)"
   ]
  },
  {
   "cell_type": "code",
   "execution_count": null,
   "metadata": {},
   "outputs": [],
   "source": [
    "#Problem 10.7 \n",
    "#Write a program that defines a function count_alphabets_digits( ) that accepts a string and \n",
    "#calculates the number of alphabets and digits in it. It should return these values as a \n",
    "#dictionary. Call this function for some sample strings. \n",
    "\n",
    "def count_alphabets_digits(s): \n",
    "    d ={'Digits':0,'Alphabets':0} \n",
    "    for ch in s: \n",
    "        if ch.isalpha(): \n",
    "            d['Alphabets'] += 1 \n",
    "        elif ch.isdigit(): \n",
    "            d['Digits'] += 1 \n",
    "        else: \n",
    "            pass \n",
    "    return(d) \n",
    "d = count_alphabets_digits('James Bond 007') \n",
    "print(d) \n",
    "d = count_alphabets_digits('Kholi Number 420') \n",
    "print(d)"
   ]
  },
  {
   "cell_type": "code",
   "execution_count": null,
   "metadata": {},
   "outputs": [],
   "source": [
    "#Problem 10.8 \n",
    "#Write a program that defines a function pascal_triangle( ) that displays a Pascal \n",
    "#Triangle of level received as parameter to the function. A Pascal's Triangle of level 5 is \n",
    "#shown below. \n",
    "#    1 \n",
    "#   1 1 \n",
    "#  1 2 1 \n",
    "# 1 3 3 1 \n",
    "#1 4 6 4 1 \n",
    "\n",
    "def pascal_triangle(n): \n",
    "    row = [1] \n",
    "    z = [0] \n",
    "    for x in range(n): \n",
    "        print(row) \n",
    "        row = [l+r for l, r in zip(row+z,z+row)] \n",
    "pascal_triangle(5)"
   ]
  },
  {
   "cell_type": "code",
   "execution_count": null,
   "metadata": {},
   "outputs": [],
   "source": [
    "#Problem 10.9 \n",
    "#Following data shows names, ages and marks of students in a class: \n",
    "#Anil, 21, 80 Sohail, 20, 90 Sunil, 20, 91 Shobha, 18, 93 Anil, 19, 85 \n",
    "#Write a program to sort this data on multiple keys in the order name, age and marks. \n",
    "\n",
    "import operator \n",
    "lst = [(' Anil', 21, 80), (' Sohail', 20, 90), \n",
    "       (' Sunil', 20, 91), (' Shobha', 18, 93), \n",
    "       (' Anil', 19, 85), (' Shobha', 20, 92)] \n",
    "print(sorted( lst, key = operator.itemgetter( 0, 1, 2))) \n",
    "print( sorted( lst, key = lambda tpl : (tpl[0], tpl[1], tpl[2])))"
   ]
  },
  {
   "cell_type": "code",
   "execution_count": null,
   "metadata": {},
   "outputs": [],
   "source": [
    "#Problem 10.10 \n",
    "#Write a program that defines a function called frequency( ) which computes the frequency of \n",
    "#words present in a string passed to it. The frequencies should be returned in sorted order \n",
    "#by words in the string. \n",
    "\n",
    "def frequency (s): \n",
    "    freq = {} \n",
    "    for word in s.split(): \n",
    "        freq[word] = freq.get(word,0) +1 \n",
    "    return freq \n",
    "sentence = 'It is true for all that that that that\\that that that refers to is not the same that\\that that that refers to' \n",
    "d = frequency(sentence) \n",
    "words = sorted(d) \n",
    "for w in words:\n",
    "    print ('% s:% d' % (w, d[ w]))"
   ]
  },
  {
   "cell_type": "code",
   "execution_count": null,
   "metadata": {},
   "outputs": [],
   "source": []
  },
  {
   "cell_type": "markdown",
   "metadata": {},
   "source": [
    "# Excercise Chapter 10"
   ]
  },
  {
   "cell_type": "code",
   "execution_count": null,
   "metadata": {},
   "outputs": [],
   "source": [
    "#(a) Write a program that defines a function count_lower_upper( ) that accepts a string \n",
    "#and calculates the number of uppercase and lowercase alphabets in it.  \n",
    "#It should return these values as a dictionary. Call this function for some sample strings. \n",
    "\n",
    "def count_lower_upper(s): \n",
    "    d ={'upper':0,'lower':0} \n",
    "    for ch in s:\n",
    "        if ch.isupper(): \n",
    "            d['upper'] += 1 \n",
    "        elif ch.islower(): \n",
    "            d['lower'] += 1 \n",
    "        else: \n",
    "            pass \n",
    "    return(d) \n",
    "d = count_lower_upper('James Bond') \n",
    "print(d) \n",
    "d = count_lower_upper('Kholi Number') \n",
    "print(d)\n",
    "    \n"
   ]
  },
  {
   "cell_type": "code",
   "execution_count": null,
   "metadata": {},
   "outputs": [],
   "source": [
    "#(b) Write a program that defines a function compute()that calculates the value of n+nn+nnn+nnnn, \n",
    "#where n is digit received by the function. Test the function for digits 4 and 7.\n",
    "def compute(n):\n",
    "    x = [n,n*n,n*n*n,n*n*n*n]\n",
    "    y = x[0] + x[1] + x[2] + x[3]\n",
    "    return x,y\n",
    "print(compute(4))\n",
    "print(compute(7))"
   ]
  },
  {
   "cell_type": "code",
   "execution_count": null,
   "metadata": {},
   "outputs": [],
   "source": [
    "#(c) Write a program that defines a function create_array() \n",
    "#   to create and return a 3D array whose dimensions are passed to the function.\n",
    "#   Also initialize each element of this array to a value passed to the function. \n",
    "\n",
    "def create_array(m,n,o):\n",
    "    array = [[ ['*' for col in range(m)] for col in range(n)] for row in range(o)]\n",
    "    return array\n",
    "print(create_array(6,4,3))"
   ]
  },
  {
   "cell_type": "code",
   "execution_count": null,
   "metadata": {},
   "outputs": [],
   "source": [
    "#(d) \n",
    "# Write a program that defines a function create_list() to create and return a list \n",
    "# which is an intersection of two lists passed to it.\n",
    "\n",
    "def create_list():\n",
    "    a = [1,2,3,4,5]\n",
    "    b = [1,2,3]\n",
    "    c = set(a)\n",
    "    d = set(b)\n",
    "    e = c & d\n",
    "    f = list(e)\n",
    "    print(f)\n",
    "create_list()"
   ]
  },
  {
   "cell_type": "code",
   "execution_count": null,
   "metadata": {},
   "outputs": [],
   "source": [
    "#(e) Write a program that defines a function sanitize_list()  \n",
    "#    to remove all duplicate entries from the list that it receives. \n",
    "\n",
    "def sanitize_list():\n",
    "    a = [1,2,3,1,1,2,3]\n",
    "    b = set(a)\n",
    "    c = list(b)\n",
    "    print(c)\n",
    "sanitize_list()"
   ]
  },
  {
   "cell_type": "code",
   "execution_count": null,
   "metadata": {},
   "outputs": [],
   "source": [
    "#(a) A 5-digit positive integer is entered through the keyboard, \n",
    "# write a recursive function to calculate sum of digits of the 5-digit number.\n",
    "\n",
    "def sum_of_digit(n): \n",
    "    if n == 0: \n",
    "        return 0\n",
    "    return (n % 10 + sum_of_digit(int(n / 10)))\n",
    "num = int(input('enter 5 digit keyword: '))\n",
    "result = sum_of_digit(num) \n",
    "x = 100000\n",
    "if num<x:\n",
    "    print(\"Sum of digits in\",num,\"is\", result)\n",
    "else:\n",
    "    print('Oops entry is more than 5')"
   ]
  },
  {
   "cell_type": "code",
   "execution_count": null,
   "metadata": {},
   "outputs": [],
   "source": [
    "#(f) A positive integer is entered through the keyboard. \n",
    "# define a recursive function that obtains the prime factors of the number. \n",
    "\n",
    "def prime_factor(n):\n",
    "    if n==0 or n==1:\n",
    "        return 1\n",
    "    else:\n",
    "        return n*prime_factor(n-1)\n",
    "n = int(input('enter n value'))\n",
    "x = prime_factor(n)\n",
    "print(x)"
   ]
  },
  {
   "cell_type": "code",
   "execution_count": null,
   "metadata": {},
   "outputs": [],
   "source": [
    "#(g) Define a recursive function to obtain the first 25 numbers of a Fibonacci sequence. \n",
    "#In a Fibonacci sequence the sum of two successive terms gives the third term.  \n",
    "# Following are the first few terms of the Fibonacci sequence: 1 1 2 3 5 8 13 21 34 55 89... \n",
    "\n",
    "def fibonacci_sequence(n):\n",
    "    if n == 1:\n",
    "        return 1\n",
    "    elif n == 2:\n",
    "        return 1\n",
    "    elif n > 2:\n",
    "        return fibonacci_sequence(n-1) + fibonacci_sequence(n-2)\n",
    "for n in range(1,6):\n",
    "    print(n,':',fibonacci_sequence(n))"
   ]
  },
  {
   "cell_type": "code",
   "execution_count": 3,
   "metadata": {},
   "outputs": [
    {
     "name": "stdout",
     "output_type": "stream",
     "text": [
      "6\n"
     ]
    }
   ],
   "source": [
    "#(h) Define a recursive function to obtain the sum of first 25 natural numbers.\n",
    "\n",
    "def natural_numbers(n): \n",
    "    if n <= 1: \n",
    "        return n \n",
    "    return n + natural_numbers(n - 1) \n",
    "n = 3\n",
    "print(natural_numbers(n))"
   ]
  },
  {
   "cell_type": "code",
   "execution_count": null,
   "metadata": {},
   "outputs": [],
   "source": []
  }
 ],
 "metadata": {
  "kernelspec": {
   "display_name": "Python 3",
   "language": "python",
   "name": "python3"
  },
  "language_info": {
   "codemirror_mode": {
    "name": "ipython",
    "version": 3
   },
   "file_extension": ".py",
   "mimetype": "text/x-python",
   "name": "python",
   "nbconvert_exporter": "python",
   "pygments_lexer": "ipython3",
   "version": "3.7.3"
  },
  "toc": {
   "base_numbering": 1,
   "nav_menu": {},
   "number_sections": true,
   "sideBar": true,
   "skip_h1_title": false,
   "title_cell": "Table of Contents",
   "title_sidebar": "Contents",
   "toc_cell": false,
   "toc_position": {},
   "toc_section_display": true,
   "toc_window_display": false
  },
  "varInspector": {
   "cols": {
    "lenName": 16,
    "lenType": 16,
    "lenVar": 40
   },
   "kernels_config": {
    "python": {
     "delete_cmd_postfix": "",
     "delete_cmd_prefix": "del ",
     "library": "var_list.py",
     "varRefreshCmd": "print(var_dic_list())"
    },
    "r": {
     "delete_cmd_postfix": ") ",
     "delete_cmd_prefix": "rm(",
     "library": "var_list.r",
     "varRefreshCmd": "cat(var_dic_list()) "
    }
   },
   "types_to_exclude": [
    "module",
    "function",
    "builtin_function_or_method",
    "instance",
    "_Feature"
   ],
   "window_display": false
  }
 },
 "nbformat": 4,
 "nbformat_minor": 2
}
