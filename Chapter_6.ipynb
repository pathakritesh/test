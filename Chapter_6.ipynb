{
 "cells": [
  {
   "cell_type": "markdown",
   "metadata": {},
   "source": [
    "# Example "
   ]
  },
  {
   "cell_type": "code",
   "execution_count": 17,
   "metadata": {},
   "outputs": [
    {
     "name": "stdout",
     "output_type": "stream",
     "text": [
      "['Anil', 'Amol', 'Anuj', 'Aditya', 'Avi', 'Alka']\n",
      "['Anil', 'Amol', 'Anuj', 'Aditya', 'Avi', 'Alka', 'zulu']\n",
      "['Anil', 'Amol', 'Anuj', 'Aditya', 'Alka', 'zulu']\n",
      "['AnilKumar', 'Amol', 'Anuj', 'Aditya', 'Alka', 'zulu']\n",
      "['Aditya', 'Alka', 'Amol', 'AnilKumar', 'Anuj', 'zulu']\n",
      "['zulu', 'Anuj', 'AnilKumar', 'Amol', 'Alka', 'Aditya']\n"
     ]
    }
   ],
   "source": [
    "# Problem 6.1 Perform the following operations on a list of names. - \n",
    "#Create a list of 5 names - 'Anil', 'Amol', 'Aditya', 'Avi', 'Alka' - \n",
    "#Insert a name 'Anuj' before 'Aditya' - \n",
    "#Append a name 'Zulu' - Delete 'Avi' from the list - Replace 'Anil' with 'AnilKumar' - \n",
    "#Sort all the names in the list - Print reversed sorted list\n",
    "\n",
    "name = ['Anil', 'Amol', 'Aditya', 'Avi', 'Alka']\n",
    "name.insert(2,'Anuj')\n",
    "print(name)\n",
    "name.append('zulu')\n",
    "print(name)\n",
    "name.remove('Avi')\n",
    "print(name)\n",
    "i = name.index('Anil')\n",
    "name[i] = \"AnilKumar\"\n",
    "print(name)\n",
    "name.sort()\n",
    "print(name)\n",
    "name.reverse()\n",
    "print(name)"
   ]
  },
  {
   "cell_type": "code",
   "execution_count": 39,
   "metadata": {},
   "outputs": [
    {
     "name": "stdout",
     "output_type": "stream",
     "text": [
      "['1', '3', '5', '7', '9', '2', '4', '6', '8', '10']\n",
      "['11', '17', '29', '1', '3', '5', '7', '9', '2', '4', '6', '8', '10']\n",
      "['11', '17', '29', '1', '3', '5', '7', '9', '2', '4', 100, 200, 300]\n",
      "[]\n"
     ]
    }
   ],
   "source": [
    "#Problem 6.2 Perform the following operations on a list of names. - \n",
    "#Create a list of 5 odd numbers - \n",
    "#Create a list of 5 even numbers - \n",
    "#Combine the two lists - \n",
    "#Add prime numbers 11, 17, 29 at the beginning of the combined list - \n",
    "#Report how many elements are present in the list - \n",
    "#Replace last 3 numbers in the list with 100, 200, 300 - \n",
    "#Delete all the numbers in the list - Delete the list\n",
    "\n",
    "a = ['1','3','5','7','9']\n",
    "b = ['2','4','6','8','10']\n",
    "c = a+b\n",
    "print(c)\n",
    "e = ['11','17','29']+ c\n",
    "print(e)\n",
    "n = len(e)\n",
    "e[n-3:n]= [100,200,300]\n",
    "print(e)\n",
    "e[:] = []\n",
    "print(e)"
   ]
  },
  {
   "cell_type": "code",
   "execution_count": 42,
   "metadata": {},
   "outputs": [
    {
     "name": "stdout",
     "output_type": "stream",
     "text": [
      "[1, 2, 3, 4, 5]\n",
      "[1, 2]\n"
     ]
    }
   ],
   "source": [
    "#Problem 6.3 Write a program to implement a Stack data structure. \n",
    "#Stack is a Last In First Out (LIFO) \n",
    "#list in which addition and deletion takes place at the same end.\n",
    "\n",
    "l = []\n",
    "l.append(1)\n",
    "l.append(2)\n",
    "l.append(3)\n",
    "l.append(4)\n",
    "l.append(5)\n",
    "print(l)\n",
    "l.pop()\n",
    "l.pop()\n",
    "l.pop()\n",
    "print(l)"
   ]
  },
  {
   "cell_type": "code",
   "execution_count": 43,
   "metadata": {},
   "outputs": [
    {
     "name": "stdout",
     "output_type": "stream",
     "text": [
      "deque([' Suhana', ' Shabana', ' Shakila', ' Shakira', ' Sameera'])\n",
      " Suhana\n",
      " Shabana\n",
      " Shakila\n",
      "deque([' Shakira', ' Sameera'])\n"
     ]
    }
   ],
   "source": [
    "#Problem 6.4 Write a program to implement a Queue data structure. \n",
    "#Queue is a First In First Out (LIFO) list, \n",
    "#in which addition takes place at the rear end of the \n",
    "#queue and deletion takes place at the front end of the queue.\n",
    "\n",
    "\n",
    "import collections \n",
    "q = collections.deque( ) \n",
    "q.append(' Suhana') \n",
    "q.append(' Shabana') \n",
    "q.append(' Shakila') \n",
    "q.append(' Shakira') \n",
    "q.append(' Sameera') \n",
    "print( q) \n",
    "print( q.popleft( )) \n",
    "print( q.popleft( )) \n",
    "print( q.popleft( )) \n",
    "print( q)\n"
   ]
  },
  {
   "cell_type": "code",
   "execution_count": 35,
   "metadata": {},
   "outputs": [
    {
     "name": "stdout",
     "output_type": "stream",
     "text": [
      "[55, 70, 62, 55, 98, 72, 14, 19, 96, 84, 10, 94]\n"
     ]
    }
   ],
   "source": [
    "###Problem 6.5 Write a program to generate and store in a list 20 \n",
    "#random numbers in the range 10 to 100. \n",
    "#From this list delete all those entries which have value between 20 and 50. \n",
    "#Print the remaining list.\n",
    "\n",
    "import random\n",
    "a = []\n",
    "for i in range(15):\n",
    "    num = random.randint(10,100)\n",
    "    a.append(num)\n",
    "    print(a)\n",
    "    for num in a:\n",
    "        if num>20 and num<50:\n",
    "            a.remove(num)\n",
    "print(a)\n",
    "\n",
    "   \n"
   ]
  },
  {
   "cell_type": "code",
   "execution_count": 34,
   "metadata": {},
   "outputs": [
    {
     "name": "stdout",
     "output_type": "stream",
     "text": [
      "[0, 2, 4, 6, 8]\n"
     ]
    }
   ],
   "source": [
    "l = []\n",
    "for i in range(10):\n",
    "    if i%2==0:\n",
    "        l.append(i)\n",
    "print(l)"
   ]
  },
  {
   "cell_type": "code",
   "execution_count": 37,
   "metadata": {},
   "outputs": [
    {
     "data": {
      "text/plain": [
       "[0, 1, 8, 27, 64, 125, 216, 343, 512, 729]"
      ]
     },
     "execution_count": 37,
     "metadata": {},
     "output_type": "execute_result"
    }
   ],
   "source": [
    "l = [i**3 for i in range(10)]\n",
    "l"
   ]
  },
  {
   "cell_type": "code",
   "execution_count": 44,
   "metadata": {
    "scrolled": true
   },
   "outputs": [
    {
     "ename": "SyntaxError",
     "evalue": "invalid syntax (<ipython-input-44-1a86daaf7ca0>, line 13)",
     "output_type": "error",
     "traceback": [
      "\u001b[1;36m  File \u001b[1;32m\"<ipython-input-44-1a86daaf7ca0>\"\u001b[1;36m, line \u001b[1;32m13\u001b[0m\n\u001b[1;33m    for j in range(len(mat1[0])):\u001b[0m\n\u001b[1;37m                                ^\u001b[0m\n\u001b[1;31mSyntaxError\u001b[0m\u001b[1;31m:\u001b[0m invalid syntax\n"
     ]
    }
   ],
   "source": [
    "###Problem 6.6 Write a program to add two 3 x 4 matrices using\n",
    "#(a) lists (b) list comprehension\n",
    " \n",
    "mat1 = [[ 1, 2, 3, 4], [5, 6, 7, 8], [9, 10, 11, 12]] \n",
    "mat2 = [[ 1, 2, 3, 4], [5, 6, 7, 8], [9, 10, 11, 12]]\n",
    "mat3 = [[ 0, 0, 0, 0], [0, 0, 0, 0], [0, 0, 0, 0]]\n",
    "\n",
    "for i in range (len(mat1)):\n",
    "    for j in range(len(mat1[0])):\n",
    "        mat3[i][j] = mat1[i][j] + mat2[i][j]\n",
    "        print(mat3)\n",
    "        mat3 = [[mat1[i][j] + mat2[i][j] \n",
    "        for j in range(len(mat1[0])):\n",
    "                for i in range( len( mat1)): \n",
    "                    print( mat3)"
   ]
  },
  {
   "cell_type": "markdown",
   "metadata": {},
   "source": [
    "# Excercise"
   ]
  },
  {
   "cell_type": "code",
   "execution_count": 25,
   "metadata": {},
   "outputs": [
    {
     "name": "stdout",
     "output_type": "stream",
     "text": [
      "['1', '3', '2', '4', '6', '8', '5', '7']\n"
     ]
    }
   ],
   "source": [
    "#[A] Answer the following: \n",
    "#(a) Write a program to create a list of 5 odd integers. \n",
    "#Replace the third element with a list of 4 even integers. \n",
    "#Flatten, sort and print the list.\n",
    "\n",
    "l = ['1','3','5','7','9']\n",
    "x = l[0:2]+['2','4','6','8'] + l[2:4]\n",
    "print(x)\n",
    "l.sort()"
   ]
  },
  {
   "cell_type": "code",
   "execution_count": null,
   "metadata": {},
   "outputs": [],
   "source": [
    "#(b) Write a program that generates a list of integer \n",
    "#coordinates for all points in the first quadrant from (1, 1) to (5, 5). \n",
    "#Use list comprehension. \n",
    "\n"
   ]
  },
  {
   "cell_type": "code",
   "execution_count": null,
   "metadata": {},
   "outputs": [],
   "source": [
    "#(c) Write a program to flatten the following list using list comprehension:\n",
    "#mat1 = [[ 1, 2, 3, 4], [5, 6, 7, 8], [9, 10, 11, 12]] "
   ]
  },
  {
   "cell_type": "code",
   "execution_count": null,
   "metadata": {},
   "outputs": [],
   "source": [
    "#(d) Write a program using list comprehension to generate a list of numbers in \n",
    "#the range 2 to 50 that are divisible by 2 and 4. "
   ]
  },
  {
   "cell_type": "code",
   "execution_count": null,
   "metadata": {},
   "outputs": [],
   "source": [
    "#(e) Write a program using list comprehension to create a \n",
    "#list by multiplying each element in the list by 10. "
   ]
  },
  {
   "cell_type": "code",
   "execution_count": null,
   "metadata": {},
   "outputs": [],
   "source": [
    "#(f) Suppose there are two lists, each holding 5 strings. \n",
    "#Write a program to generate a list using list comprehension that consists of strings \n",
    "#that are concatenated by picking corresponding elements \n",
    "#from the two lists. "
   ]
  },
  {
   "cell_type": "code",
   "execution_count": null,
   "metadata": {},
   "outputs": [],
   "source": [
    "#(g) Write a program to generate first 20 Fibonacci numbers \n",
    "#using list comprehension."
   ]
  },
  {
   "cell_type": "code",
   "execution_count": null,
   "metadata": {},
   "outputs": [],
   "source": [
    "#(h) Suppose a list contains 20 integers generated randomly.\n",
    "#Receive a number from the keyboard and report position of \n",
    "#all occurrences of this number in the list."
   ]
  },
  {
   "cell_type": "code",
   "execution_count": null,
   "metadata": {},
   "outputs": [],
   "source": [
    "#(i) Suppose there are two lists— one contains questions \n",
    "#and another contains lists of 4 possible answers for each \n",
    "#question. Write a program to generate a list that contains \n",
    "#lists of question and its 4 possible answers. "
   ]
  },
  {
   "cell_type": "code",
   "execution_count": null,
   "metadata": {},
   "outputs": [],
   "source": [
    "#(j) Suppose a list has 20 numbers. Write a program that \n",
    "#removes all duplicates from this list."
   ]
  },
  {
   "cell_type": "code",
   "execution_count": null,
   "metadata": {},
   "outputs": [],
   "source": [
    "#(k) Write a program to generate two lists using list \n",
    "#comprehension. One list should contain first 20 odd \n",
    "#numbers and another should contain first 20 even numbers. "
   ]
  },
  {
   "cell_type": "code",
   "execution_count": null,
   "metadata": {},
   "outputs": [],
   "source": [
    "#(l) Suppose a list contains positive and negative numbers. \n",
    "#Write a program to create two lists— one containing \n",
    "#positive numbers and another containing negative numbers. "
   ]
  },
  {
   "cell_type": "code",
   "execution_count": 56,
   "metadata": {},
   "outputs": [
    {
     "ename": "AttributeError",
     "evalue": "'list' object has no attribute 'upper'",
     "output_type": "error",
     "traceback": [
      "\u001b[1;31m---------------------------------------------------------------------------\u001b[0m",
      "\u001b[1;31mAttributeError\u001b[0m                            Traceback (most recent call last)",
      "\u001b[1;32m<ipython-input-56-c233357a95de>\u001b[0m in \u001b[0;36m<module>\u001b[1;34m\u001b[0m\n\u001b[0;32m      3\u001b[0m \u001b[1;33m\u001b[0m\u001b[0m\n\u001b[0;32m      4\u001b[0m \u001b[0mname\u001b[0m \u001b[1;33m=\u001b[0m \u001b[1;33m[\u001b[0m\u001b[1;34m'ram'\u001b[0m\u001b[1;33m,\u001b[0m\u001b[1;34m'shyam'\u001b[0m\u001b[1;33m,\u001b[0m\u001b[1;34m'kumar'\u001b[0m\u001b[1;33m,\u001b[0m\u001b[1;34m'om'\u001b[0m\u001b[1;33m,\u001b[0m\u001b[1;34m'sam'\u001b[0m\u001b[1;33m]\u001b[0m\u001b[1;33m\u001b[0m\u001b[1;33m\u001b[0m\u001b[0m\n\u001b[1;32m----> 5\u001b[1;33m \u001b[0mname\u001b[0m\u001b[1;33m.\u001b[0m\u001b[0mupper\u001b[0m\u001b[1;33m(\u001b[0m\u001b[1;33m)\u001b[0m\u001b[1;33m\u001b[0m\u001b[1;33m\u001b[0m\u001b[0m\n\u001b[0m",
      "\u001b[1;31mAttributeError\u001b[0m: 'list' object has no attribute 'upper'"
     ]
    }
   ],
   "source": [
    "#(m) Suppose a list contains 5 strings. Write a program to\n",
    "#convert all these strings to uppercase. \n",
    "\n",
    "name = ['ram','shyam','kumar','om','sam']\n",
    "name.upper()"
   ]
  },
  {
   "cell_type": "code",
   "execution_count": null,
   "metadata": {},
   "outputs": [],
   "source": [
    "#(n) Write a program that converts list of temperatures in \n",
    "#Fahrenheit degrees to equivalent Celsius degrees. "
   ]
  },
  {
   "cell_type": "code",
   "execution_count": null,
   "metadata": {},
   "outputs": [],
   "source": [
    "#(o) Write a program to obtain a median value of a list of \n",
    "#numbers, without disturbing the order of the numbers in \n",
    "#the list. "
   ]
  },
  {
   "cell_type": "code",
   "execution_count": null,
   "metadata": {},
   "outputs": [],
   "source": [
    "#(p) A list contains only positive and negative integers.\n",
    "#Write a program to obtain the number of negative numbers \n",
    "#present in the list, without using a loop."
   ]
  }
 ],
 "metadata": {
  "celltoolbar": "Raw Cell Format",
  "kernelspec": {
   "display_name": "Python 3",
   "language": "python",
   "name": "python3"
  },
  "language_info": {
   "codemirror_mode": {
    "name": "ipython",
    "version": 3
   },
   "file_extension": ".py",
   "mimetype": "text/x-python",
   "name": "python",
   "nbconvert_exporter": "python",
   "pygments_lexer": "ipython3",
   "version": "3.7.3"
  }
 },
 "nbformat": 4,
 "nbformat_minor": 2
}
