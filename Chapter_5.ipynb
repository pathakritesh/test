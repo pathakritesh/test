{
 "cells": [
  {
   "cell_type": "code",
   "execution_count": null,
   "metadata": {},
   "outputs": [],
   "source": [
    "#Problem 5.1 \n",
    "#Write a program to receive radius of a circle, \n",
    "#and length and breadth of a rectangle in one call to input( ). \n",
    "#Calculate and print the circumference of circle and perimeter of rectangle.\n",
    "\n",
    "r,l,b = input('circle of radius,length and breadth of a circle').split()\n",
    "radius = int(r)\n",
    "length = int(l)\n",
    "breadth = int(b)\n",
    "print('circle circumference',2*3.14*radius)\n",
    "print('rectangle perimeter',2*length*breadth)"
   ]
  },
  {
   "cell_type": "code",
   "execution_count": 1,
   "metadata": {},
   "outputs": [
    {
     "name": "stdout",
     "output_type": "stream",
     "text": [
      "enter three values: 2 3 4\n",
      "square of a,b,c:  4 9 16\n",
      "cube of a,b,c  :  8 27 64\n"
     ]
    }
   ],
   "source": [
    "#Problem 5.2 \n",
    "#Write a program to receive 3 integers using one call to input( ). \n",
    "#The three integers signify starting value, \n",
    "#ending value and step value for a range. \n",
    "#The program should use these values to print the number, \n",
    "#its square and its cube, all properly right-aligned. \n",
    "#Try doing this in multiple ways.\n",
    "\n",
    "a,b,c = input('enter three values: ').split()\n",
    "d = int(a)**2\n",
    "d1 = int(a)**3\n",
    "e = int(b)**2\n",
    "e1 = int(b)**3\n",
    "f = int(c)**2\n",
    "f1 = int(c)**3\n",
    "print('square of a,b,c: ',d,e,f)\n",
    "print('cube of a,b,c  : ',d1,e1,f1)"
   ]
  },
  {
   "cell_type": "code",
   "execution_count": 3,
   "metadata": {},
   "outputs": [
    {
     "name": "stdout",
     "output_type": "stream",
     "text": [
      " Enter start, end, step values: 1 10 2\n",
      "    1      1       1\n",
      "\n",
      "    3      9      27\n",
      "\n",
      "    5     25     125\n",
      "\n",
      "    7     49     343\n",
      "\n",
      "    9     81     729\n",
      "\n"
     ]
    }
   ],
   "source": [
    "# one way\n",
    "\n",
    "start, end, step = input(' Enter start, end, step values: '). split( )\n",
    "for n in range( int( start), int( end), int( step)) : \n",
    "    print( f'{ n: > 5}{ n** 2: > 7}{ n** 3: > 8}') \n",
    "    print( )\n"
   ]
  },
  {
   "cell_type": "code",
   "execution_count": 94,
   "metadata": {},
   "outputs": [
    {
     "name": "stdout",
     "output_type": "stream",
     "text": [
      " Enter start, end, step values: 2 10 2\n",
      "2    4      8       \n",
      "4    16     64      \n",
      "6    36     216     \n",
      "8    64     512     \n"
     ]
    }
   ],
   "source": [
    "# another way\n",
    "start, end, step = input(' Enter start, end, step values: '). split( )\n",
    "for n in range(int(start),int(end),int(step)): \n",
    "    print('{0:<5}{1:<7}{2:<8}'.format(n,n**2,n**3))\n",
    " "
   ]
  },
  {
   "cell_type": "code",
   "execution_count": 4,
   "metadata": {},
   "outputs": [
    {
     "name": "stdout",
     "output_type": "stream",
     "text": [
      "Dilip          :9823077892\n",
      "Shekhar        :6784512345\n",
      "Vivek          :9823011245\n",
      "Riddhi         :9766556779\n"
     ]
    }
   ],
   "source": [
    "#Problem 5.3\n",
    "#Write a program to maintain names and cell numbers of 4 persons \n",
    "#and them print them systematically in a tabular form.\n",
    "contacts = {'Dilip':9823077892, 'Shekhar':6784512345, 'Vivek':9823011245, 'Riddhi':9766556779} \n",
    "for name, cellno in contacts.items():\n",
    "    print(f'{name:<15}:{cellno:<10}')"
   ]
  },
  {
   "cell_type": "code",
   "execution_count": 5,
   "metadata": {},
   "outputs": [
    {
     "name": "stdout",
     "output_type": "stream",
     "text": [
      "\n",
      "Max Value:             75 \n",
      "Min Value:             25 \n",
      "Mean:                  35 \n",
      "Std Dev:             0.56 \n",
      "Variance:             0.9\n"
     ]
    }
   ],
   "source": [
    "#Problem 5.4\n",
    "#Suppose there are 5 variables in a program— max, min, mean, sd and var, \n",
    "#having some suitable values. \n",
    "#Write a program to print these variables properly aligned \n",
    "#using multiple fstrings, but one call to print( ).\n",
    "\n",
    "\n",
    "min, max = 25, 75 \n",
    "mean = 35 \n",
    "sd = 0.56 \n",
    "var = 0.9 \n",
    "print( \n",
    "    f'\\n{\"Max Value:\":<15}{max:>10}', \n",
    "    f'\\n{\"Min Value:\":<15}{min:>10}', \n",
    "    f'\\n{\"Mean:\":<15}{mean:>10}', \n",
    "    f'\\n{\"Std Dev:\":<15}{sd:>10}', \n",
    "    f'\\n{\"Variance:\":<15}{var:>10}')\n"
   ]
  },
  {
   "cell_type": "code",
   "execution_count": 46,
   "metadata": {},
   "outputs": [
    {
     "name": "stdout",
     "output_type": "stream",
     "text": [
      "       1         1.0         1.0\n",
      "       2      1.4142      1.2599\n",
      "       3      1.7321      1.4422\n",
      "       4         2.0      1.5874\n",
      "       5      2.2361        1.71\n",
      "       6      2.4495      1.8171\n",
      "       7      2.6458      1.9129\n",
      "       8      2.8284         2.0\n",
      "       9         3.0      2.0801\n"
     ]
    }
   ],
   "source": [
    "#Problem 5.5 \n",
    "#Write a program that prints square root and cube root of \n",
    "#numbers from 1 to 10, up to 4 decimal places. \n",
    "#Ensure that the output is displayed in separate lines, \n",
    "#with number center-justified and square and cube roots, right-justified.\n",
    "\n",
    "import math\n",
    "width = 12\n",
    "precision = 5\n",
    "for n in range(1,10):  \n",
    "    s = math.sqrt(n) \n",
    "    c = math.pow( n,1/ 3) \n",
    "    print(f'{n:>8}{s:{width}.{precision}}{c:{width}.{precision}}')"
   ]
  },
  {
   "cell_type": "code",
   "execution_count": 61,
   "metadata": {},
   "outputs": [
    {
     "name": "stdout",
     "output_type": "stream",
     "text": [
      "Enter ages of 3 personsa d f\n",
      "a d f\n"
     ]
    }
   ],
   "source": [
    "#[A] Attempt the following: \n",
    "#(a) How will you make the following code more compact? \n",
    "#print(' Enter ages of 3 persons') age1 = input() age2 = input( ) age3 = input( ) \n",
    "\n",
    "age1,age2,age3 = input('Enter ages of 3 persons').split()\n",
    "print(age1,age2,age3)"
   ]
  },
  {
   "cell_type": "code",
   "execution_count": 63,
   "metadata": {},
   "outputs": [
    {
     "name": "stdout",
     "output_type": "stream",
     "text": [
      "enter the three numbers1.45 1.45 1.45\n",
      "1.45\n"
     ]
    }
   ],
   "source": [
    "#(b) Write a program to receive an arbitrary number of floats using one input( ) statement. \n",
    "#Calculate the average of floats received. \n",
    "\n",
    "a,b,c = input('enter the three numbers').split()\n",
    "d = float(a)\n",
    "e = float(b)\n",
    "f = float(c)\n",
    "g= (d+e+f)/3\n",
    "print(g)"
   ]
  },
  {
   "cell_type": "code",
   "execution_count": 64,
   "metadata": {},
   "outputs": [
    {
     "name": "stdout",
     "output_type": "stream",
     "text": [
      "entre Name of the person Years of service Diwali bonusram 2 100\n",
      "9.5\n"
     ]
    }
   ],
   "source": [
    "#(c) Write a program to receive the following using one input( ) statement.\n",
    "#Name of the person Years of service Diwali bonus received \n",
    "#Calculate and print the agreement deduction as per the following formula: \n",
    "#ded = 2 * years of service + bonus * 5.5 / 100 Add 2 to years of service and \n",
    "\n",
    "\n",
    "name,ser_year,diwali_bonus = input('entre Name of the person Years of service Diwali bonus').split()\n",
    "service = int(ser_year)\n",
    "bonus = int(diwali_bonus)\n",
    "ded = (2 *service) + bonus * (5.5 / 100)\n",
    "print(ded)\n"
   ]
  },
  {
   "cell_type": "code",
   "execution_count": 84,
   "metadata": {},
   "outputs": [
    {
     "name": "stdout",
     "output_type": "stream",
     "text": [
      "1.45,1.45,1.45!"
     ]
    }
   ],
   "source": [
    "#(d) What are the default values of sep and end with regards to print( ) function? \n",
    "print(a,b,c,sep=',',end='!')"
   ]
  },
  {
   "cell_type": "code",
   "execution_count": 91,
   "metadata": {},
   "outputs": [
    {
     "name": "stdout",
     "output_type": "stream",
     "text": [
      "enter values of star end and step2 12 2\n",
      "    2         4              8\n",
      "\n",
      "    4        16             64\n",
      "\n",
      "    6        36            216\n",
      "\n",
      "    8        64            512\n",
      "\n",
      "   10       100           1000\n",
      "\n"
     ]
    }
   ],
   "source": [
    "#(e) Write a program to receive 3 integers using one call to input( ). \n",
    "#The three integers signify starting value, ending value and step value for a range. \n",
    "#The program should use these values to print the number, \n",
    "#its square root and its cube root, all properly right-aligned. Try doing this in multiple ways. \n",
    "\n",
    "start,end,step = input('enter values of star end and step').split()\n",
    "for n in range(int(start),int(end),int(step)):\n",
    "    print(f'{n:>5}{n**2:>10}{n**3:>15}')"
   ]
  },
  {
   "cell_type": "code",
   "execution_count": 97,
   "metadata": {},
   "outputs": [
    {
     "name": "stdout",
     "output_type": "stream",
     "text": [
      "enter values of star end and step2 12 3\n",
      "    2         4              8\n",
      "    5        25            125\n",
      "    8        64            512\n",
      "   11       121           1331\n"
     ]
    }
   ],
   "source": [
    "start,end,step = input('enter values of star end and step').split()\n",
    "for n in range(int(start),int(end),int(step)):\n",
    "    print('{0:>5}{1:>10}{2:>15}'.format(n,n**2,n**3))\n",
    "    \n",
    " \n",
    " "
   ]
  },
  {
   "cell_type": "code",
   "execution_count": 99,
   "metadata": {},
   "outputs": [
    {
     "name": "stdout",
     "output_type": "stream",
     "text": [
      "12.34\n",
      "234.39\n",
      "444.34\n",
      "1.23\n",
      "34.67\n"
     ]
    }
   ],
   "source": [
    "#(f) Write a program to print the following values \n",
    "#a = 12.34, b = 234.39, c = 444.34, d = 1.23, e = 34.67 as \n",
    "#shown below a = 12.34 b = 234.39 c = 444.34 d = 1.23 e = 34.67\n",
    "a = 12.34; b = 234.39; c = 444.34; d = 1.23; e = 34.67\n",
    "print(a,b,c,d,e,sep='\\n')"
   ]
  },
  {
   "cell_type": "code",
   "execution_count": null,
   "metadata": {},
   "outputs": [],
   "source": []
  }
 ],
 "metadata": {
  "kernelspec": {
   "display_name": "Python 3",
   "language": "python",
   "name": "python3"
  },
  "language_info": {
   "codemirror_mode": {
    "name": "ipython",
    "version": 3
   },
   "file_extension": ".py",
   "mimetype": "text/x-python",
   "name": "python",
   "nbconvert_exporter": "python",
   "pygments_lexer": "ipython3",
   "version": "3.7.3"
  }
 },
 "nbformat": 4,
 "nbformat_minor": 2
}
