{
 "cells": [
  {
   "cell_type": "code",
   "execution_count": null,
   "metadata": {},
   "outputs": [],
   "source": [
    "[A]State whether the following statements are True or False: \n",
    "(a) To carry out conversion from an object to a basic type or vice versa it is necessary to provide the conversion functions. \n",
    "Ans: True\n",
    "\n",
    "(b) To carry out conversion from object of one user-defined type to another it is necessary to provide the conversion functions.\n",
    "Ans: True\n",
    "\n",
    "(c) A global function can call a class method as well as an instance method. \n",
    "Ans:\n",
    "\n",
    "(d) In Python a function, class, method and module are treated as objects. \n",
    "Ans:\n",
    "\n",
    "(e) A generator is a function that serves the same purpose as an iterator. \n",
    "Ans:\n",
    "\n",
    "[B] Answer the following: \n",
    "    \n",
    "\n",
    "(a) Which functions should be defined to overload the + and -operators? \n",
    "Ans: __add__ and __sub__\n",
    "\n",
    "\n",
    "(b) Which functions should be defined to overload the / and // operators? \n",
    "\n",
    "\n",
    "(c) What is the purpose of id( ) function? \n",
    "Ans: locate the postion in memory\n",
    "1\n",
    "(d) How will you define a structure Employee containing the attributes Name, Age, Salary, Address, Hobbies dynamically?\n",
    "\n",
    "\n",
    "(e) Is it necessary to mention the docstring for a function immediately below the def statement? \n",
    "Ans: No\n"
   ]
  },
  {
   "cell_type": "code",
   "execution_count": null,
   "metadata": {},
   "outputs": [],
   "source": [
    "#[D] Attempt the following:\n",
    "# (a) Write a program that uses a generator to create a set of unique words from a line input through the keyboard.\n",
    "def word():\n",
    "    a = set(input('enter word:'))\n",
    "    yield a\n",
    "for item in (word()):\n",
    "    print(item)"
   ]
  },
  {
   "cell_type": "code",
   "execution_count": null,
   "metadata": {},
   "outputs": [],
   "source": [
    "#not Solved# (b) Write a program that uses a generator to find out maximum marks obtained by a student \n",
    "#     and his name from tuples of multiple students.\n",
    "\n",
    "def student():\n",
    "    student1 = ('ram',100)\n",
    "    student2 = ('shyam',95)\n",
    "    yield student1>student2 or student1<student2\n",
    "    print(student1)\n",
    "student()\n"
   ]
  },
  {
   "cell_type": "code",
   "execution_count": null,
   "metadata": {},
   "outputs": [],
   "source": [
    "# (c) Write a program that uses a generator that generates characters from a string in reverse order.\n",
    "\n",
    "def rev_str(my_str):\n",
    "    length = len(my_str)\n",
    "    for i in range(length - 1, -1, -1):\n",
    "        yield my_str[i]\n",
    "\n",
    "\n",
    "# For loop to reverse the string\n",
    "for char in rev_str(\"hello\"):\n",
    "    print(char)\n",
    "\n"
   ]
  },
  {
   "cell_type": "code",
   "execution_count": null,
   "metadata": {},
   "outputs": [],
   "source": [
    "#Not Solved# (d) Write a program that converts date maintained by DMY object into a date in Date object.\n",
    "#     Define the conversion function in a Date Class\n",
    "\n",
    "class Date : \n",
    "    def _init_(self, s = '') :\n",
    "        self._dt = s \n",
    "    def display(self) :\n",
    "        print(self._dt) \n",
    "class DMY:\n",
    "    def _init_(self, d = 0, m = 0, y = 0 ) : \n",
    "        self._day = d\n",
    "        self._mth = m \n",
    "        self._yr = y \n",
    "    def _Date_(self) :\n",
    "        s = str(self._day) + '/' + str(self._mth) + '/' + str(self._yr)\n",
    "        return Date(s) \n",
    "    def display(self) :\n",
    "        print(self._day, '/', self._mth, '/', self._yr) \n",
    "        \n",
    "d2 = DMY(17,11,94)\n",
    "d1 = d2\n",
    "d1.display()\n",
    "print('d2 = ', end = '')\n",
    "d2.display()\n",
    "print(d2) "
   ]
  },
  {
   "cell_type": "code",
   "execution_count": null,
   "metadata": {},
   "outputs": [],
   "source": []
  }
 ],
 "metadata": {
  "kernelspec": {
   "display_name": "Python 3",
   "language": "python",
   "name": "python3"
  },
  "language_info": {
   "codemirror_mode": {
    "name": "ipython",
    "version": 3
   },
   "file_extension": ".py",
   "mimetype": "text/x-python",
   "name": "python",
   "nbconvert_exporter": "python",
   "pygments_lexer": "ipython3",
   "version": "3.7.3"
  }
 },
 "nbformat": 4,
 "nbformat_minor": 2
}
