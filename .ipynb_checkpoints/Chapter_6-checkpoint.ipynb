{
 "cells": [
  {
   "cell_type": "markdown",
   "metadata": {},
   "source": [
    "# Example "
   ]
  },
  {
   "cell_type": "code",
   "execution_count": null,
   "metadata": {},
   "outputs": [],
   "source": [
    "# Problem 6.1 Perform the following operations on a list of names. - \n",
    "#Create a list of 5 names - 'Anil', 'Amol', 'Aditya', 'Avi', 'Alka' - \n",
    "#Insert a name 'Anuj' before 'Aditya' - \n",
    "#Append a name 'Zulu' - Delete 'Avi' from the list - Replace 'Anil' with 'AnilKumar' - \n",
    "#Sort all the names in the list - Print reversed sorted list\n",
    "\n",
    "name = ['Anil', 'Amol', 'Aditya', 'Avi', 'Alka']\n",
    "name.insert(2,'Anuj')\n",
    "print(name)\n",
    "name.append('zulu')\n",
    "print(name)\n",
    "name.remove('Avi')\n",
    "print(name)\n",
    "i = name.index('Anil')\n",
    "name[i] = \"AnilKumar\"\n",
    "print(name)\n",
    "name.sort()\n",
    "print(name)\n",
    "name.reverse()\n",
    "print(name)"
   ]
  },
  {
   "cell_type": "code",
   "execution_count": null,
   "metadata": {},
   "outputs": [],
   "source": [
    "#Problem 6.2 Perform the following operations on a list of names. - \n",
    "#Create a list of 5 odd numbers - \n",
    "#Create a list of 5 even numbers - \n",
    "#Combine the two lists - \n",
    "#Add prime numbers 11, 17, 29 at the beginning of the combined list - \n",
    "#Report how many elements are present in the list - \n",
    "#Replace last 3 numbers in the list with 100, 200, 300 - \n",
    "#Delete all the numbers in the list - Delete the list\n",
    "\n",
    "a = ['1','3','5','7','9']\n",
    "b = ['2','4','6','8','10']\n",
    "c = a+b\n",
    "print(c)\n",
    "e = ['11','17','29']+ c\n",
    "print(e)\n",
    "n = len(e)\n",
    "e[n-3:n]= [100,200,300]\n",
    "print(e)\n",
    "e[:] = []\n",
    "print(e)"
   ]
  },
  {
   "cell_type": "code",
   "execution_count": null,
   "metadata": {},
   "outputs": [],
   "source": [
    "#Problem 6.3 Write a program to implement a Stack data structure. \n",
    "#Stack is a Last In First Out (LIFO) \n",
    "#list in which addition and deletion takes place at the same end.\n",
    "\n",
    "l = []\n",
    "l.append(1)\n",
    "l.append(2)\n",
    "l.append(3)\n",
    "l.append(4)\n",
    "l.append(5)\n",
    "print(l)\n",
    "l.pop()\n",
    "l.pop()\n",
    "l.pop()\n",
    "print(l)"
   ]
  },
  {
   "cell_type": "code",
   "execution_count": null,
   "metadata": {},
   "outputs": [],
   "source": [
    "#Problem 6.4 Write a program to implement a Queue data structure. \n",
    "#Queue is a First In First Out (LIFO) list, \n",
    "#in which addition takes place at the rear end of the \n",
    "#queue and deletion takes place at the front end of the queue.\n",
    "\n",
    "\n",
    "import collections \n",
    "q = collections.deque( ) \n",
    "q.append(' Suhana') \n",
    "q.append(' Shabana') \n",
    "q.append(' Shakila') \n",
    "q.append(' Shakira') \n",
    "q.append(' Sameera') \n",
    "print( q) \n",
    "print( q.popleft( )) \n",
    "print( q.popleft( )) \n",
    "print( q.popleft( )) \n",
    "print( q)\n"
   ]
  },
  {
   "cell_type": "code",
   "execution_count": null,
   "metadata": {},
   "outputs": [],
   "source": [
    "###Problem 6.5 Write a program to generate and store in a list 20 \n",
    "#random numbers in the range 10 to 100. \n",
    "#From this list delete all those entries which have value between 20 and 50. \n",
    "#Print the remaining list.\n",
    "\n",
    "import random\n",
    "a=[]\n",
    "i=1\n",
    "while i<=15:\n",
    "    num = random.randint(10,100)\n",
    "    a.append(num)\n",
    "    i +=1\n",
    "    print(a)\n",
    "    for num in a:\n",
    "        if num>20 and num <50:\n",
    "            a.remove(num)\n",
    "            print(a)"
   ]
  },
  {
   "cell_type": "code",
   "execution_count": null,
   "metadata": {},
   "outputs": [],
   "source": [
    "###Problem 6.6 Write a program to add two 3 x 4 matrices using\n",
    "#(a) lists (b) list comprehension\n",
    " \n",
    "mat1 = [[ 1, 2, 3, 4], [5, 6, 7, 8], [9, 10, 11, 12]] \n",
    "mat2 = [[ 1, 2, 3, 4], [5, 6, 7, 8], [9, 10, 11, 12]]\n",
    "mat3 = [[ 0, 0, 0, 0], [0, 0, 0, 0], [0, 0, 0, 0]]\n",
    "\n",
    "for i in range (len(mat1)):\n",
    "    for j in range(len(mat1[0])):\n",
    "        mat3 [i][j] = mat1[i][j] + mat2[i][j]\n",
    "print(mat3)\n",
    "mat3 [i][j] = [mat1[i][j] + mat2[i][j] for j in range(len(mat1[0]))for i in range( len( mat1))]\n",
    "print(mat3)"
   ]
  },
  {
   "cell_type": "markdown",
   "metadata": {},
   "source": [
    "# Excercise"
   ]
  },
  {
   "cell_type": "code",
   "execution_count": null,
   "metadata": {},
   "outputs": [],
   "source": [
    "#[A] Answer the following: \n",
    "#(a) Write a program to create a list of 5 odd integers. \n",
    "#Replace the third element with a list of 4 even integers. \n",
    "#Flatten, sort and print the list.\n",
    "\n",
    "l = ['1','3','5','7','9']\n",
    "x = l[0:2]+['2','4','6','8'] + l[2:4]\n",
    "print(x)\n",
    "x.sort()\n",
    "print(x)"
   ]
  },
  {
   "cell_type": "code",
   "execution_count": null,
   "metadata": {},
   "outputs": [],
   "source": [
    "#(b) Write a program that generates a list of integer \n",
    "#coordinates for all points in the first quadrant from (1, 1) to (5, 5). \n",
    "#Use list comprehension. \n",
    "\n",
    "l = [[i,j] for i in range(1,6) for j in range(1,6)]\n",
    "print(l)"
   ]
  },
  {
   "cell_type": "code",
   "execution_count": null,
   "metadata": {},
   "outputs": [],
   "source": [
    "#(c) Write a program to flatten the following list using list comprehension:\n",
    "#mat1 = [[ 1, 2, 3, 4], [5, 6, 7, 8], [9, 10, 11, 12]] \n",
    "\n",
    "mat1 = [[ 1, 2, 3, 4], [5, 6, 7, 8], [9, 10, 11, 12]] \n",
    "mat2 = [*mat1[0],*mat1[1],*mat1[2]]\n",
    "print(mat2)\n",
    "mat3 = [n for ele in mat1 for n in ele]\n",
    "print(mat3)"
   ]
  },
  {
   "cell_type": "code",
   "execution_count": null,
   "metadata": {},
   "outputs": [],
   "source": [
    "#(d) Write a program using list comprehension to generate a list of numbers in \n",
    "#the range 2 to 50 that are divisible by 2 and 4. \n",
    "\n",
    "k = [i for i in range (2,52,2) if i%2 is 0 and i%4 ==0 ]\n",
    "print(k)"
   ]
  },
  {
   "cell_type": "code",
   "execution_count": null,
   "metadata": {},
   "outputs": [],
   "source": [
    "#(e) Write a program using list comprehension to create a \n",
    "#list by multiplying each element in the list by 10. \n",
    "\n",
    "m = [i*10 for i in range(1,11)]\n",
    "print(m)"
   ]
  },
  {
   "cell_type": "code",
   "execution_count": null,
   "metadata": {},
   "outputs": [],
   "source": [
    "#(f) Suppose there are two lists, each holding 5 strings. \n",
    "#Write a program to generate a list using list comprehension that consists of strings \n",
    "#that are concatenated by picking corresponding elements from the two lists. \n",
    "\n",
    "x = [1,2,3,4,5]\n",
    "y = [6,7,8,9,10]\n",
    "\n",
    "w = [(x + y) for n in x for ele in y]\n",
    "print(w)"
   ]
  },
  {
   "cell_type": "code",
   "execution_count": null,
   "metadata": {},
   "outputs": [],
   "source": [
    "#(g) Write a program to generate first 20 Fibonacci numbers \n",
    "#using list comprehension.\n",
    "\n",
    "z = [(i-1)+(i-2) for i in range(10)]\n",
    "print(z)\n",
    "\n"
   ]
  },
  {
   "cell_type": "code",
   "execution_count": null,
   "metadata": {},
   "outputs": [],
   "source": [
    "#(h) Suppose a list contains 20 integers generated randomly.\n",
    "#Receive a number from the keyboard and report position of \n",
    "#all occurrences of this number in the list.\n",
    "h = input('enter number 1 to 20: ')\n",
    "v = random.randint(1,20)\n",
    "if h==v:\n",
    "    print('true')\n",
    "else:\n",
    "    print('not match')\n",
    "print('random number',v)\n",
    "\n",
    "\n"
   ]
  },
  {
   "cell_type": "code",
   "execution_count": null,
   "metadata": {},
   "outputs": [],
   "source": [
    "#(i) Suppose there are two lists— one contains questions \n",
    "#and another contains lists of 4 possible answers for each \n",
    "#question. Write a program to generate a list that contains \n",
    "#lists of question and its 4 possible answers.\n",
    "\n",
    "#question is odd number and answer is even number\n",
    "x = [1,3,5,7]\n",
    "y = [2,4,6,8]\n",
    "z = x+y\n",
    "z.sort()\n",
    "print(z)\n"
   ]
  },
  {
   "cell_type": "code",
   "execution_count": null,
   "metadata": {},
   "outputs": [],
   "source": [
    "#(j) Suppose a list has 20 numbers. Write a program that \n",
    "#removes all duplicates from this list.\n",
    "\n",
    "d = [1,1,1,2,3,4,5,5,8,1,3,4,3,]\n",
    "d = list(dict.fromkeys(d))\n",
    "print(d)"
   ]
  },
  {
   "cell_type": "code",
   "execution_count": null,
   "metadata": {},
   "outputs": [],
   "source": [
    "t = [1,1,1,2,3,4,5,5,8,1,3,4,3,]\n",
    "u = list(set(t))\n",
    "print(u)"
   ]
  },
  {
   "cell_type": "code",
   "execution_count": null,
   "metadata": {},
   "outputs": [],
   "source": [
    "f = [1,1,1,2,3,4,5,5,8,1,3,4,3,]\n",
    "g = []\n",
    "for x in f:\n",
    "    if x not in g:\n",
    "        g.append(x)\n",
    "f = g\n",
    "print(f)\n",
    "    "
   ]
  },
  {
   "cell_type": "code",
   "execution_count": null,
   "metadata": {},
   "outputs": [],
   "source": [
    "f = [1,1,1,2,3,4,5,5,5,8,1,3,4,3]\n",
    "g = []\n",
    "t = [g.append(x) for x in f if x not in g]\n",
    "print(g)"
   ]
  },
  {
   "cell_type": "code",
   "execution_count": null,
   "metadata": {},
   "outputs": [],
   "source": [
    "f = [1,1,1,2,3,4,5,5,5,8,1,3]\n",
    "\n",
    "for x in f:\n",
    "    if f.count(x)>1:\n",
    "        f.remove(x)\n",
    "print(f)"
   ]
  },
  {
   "cell_type": "code",
   "execution_count": null,
   "metadata": {},
   "outputs": [],
   "source": [
    "#(k) Write a program to generate two lists using list \n",
    "#comprehension. One list should contain first 20 odd \n",
    "#numbers and another should contain first 20 even numbers. \n",
    "y = []\n",
    "z = []\n",
    "x = [y.append(i) for i in range(1,20) if i%2 ==0]\n",
    "a = [z.append(j) for j in range(1,20) if j%2 !=0]\n",
    "print(y)\n",
    "print(z)"
   ]
  },
  {
   "cell_type": "code",
   "execution_count": null,
   "metadata": {},
   "outputs": [],
   "source": [
    "#(l) Suppose a list contains positive and negative numbers. \n",
    "#Write a program to create two lists— one containing \n",
    "#positive numbers and another containing negative numbers.\n",
    "\n",
    "l = [-1,-2,1,2]\n",
    "m = []\n",
    "n = []\n",
    "for i in l:\n",
    "    if i==-1*i:\n",
    "        m.append(l)\n",
    "    elif i>0:\n",
    "        n.append(l)\n",
    "print(m)\n",
    "print(n)"
   ]
  },
  {
   "cell_type": "code",
   "execution_count": null,
   "metadata": {},
   "outputs": [],
   "source": [
    "#(m) Suppose a list contains 5 strings. Write a program to\n",
    "#convert all these strings to uppercase. \n",
    "\n",
    "name = ['ram','shyam','kumar','om','sam']\n",
    "name1 = [x.upper() for x in name]\n",
    "print(name1)"
   ]
  },
  {
   "cell_type": "code",
   "execution_count": null,
   "metadata": {},
   "outputs": [],
   "source": [
    "#(n) Write a program that converts list of temperatures in \n",
    "#Fahrenheit degrees to equivalent Celsius degrees. \n",
    "\n",
    "x = [32,35,40]\n",
    "for i in x:\n",
    "    print((i-32)*.55)\n",
    "\n"
   ]
  },
  {
   "cell_type": "code",
   "execution_count": null,
   "metadata": {},
   "outputs": [],
   "source": [
    "#(o) Write a program to obtain a median value of a list of \n",
    "#numbers, without disturbing the order of the numbers in \n",
    "#the list. \n",
    "\n",
    "f = [3,5,7]\n",
    "for i in f:\n",
    "    print(i/2)"
   ]
  },
  {
   "cell_type": "code",
   "execution_count": null,
   "metadata": {},
   "outputs": [],
   "source": [
    "#(p) A list contains only positive and negative integers.\n",
    "#Write a program to obtain the number of negative numbers \n",
    "#present in the list, without using a loop.\n",
    "list1 = [-1,-2,1,2,3]\n",
    "\n",
    "\n"
   ]
  },
  {
   "cell_type": "code",
   "execution_count": null,
   "metadata": {},
   "outputs": [],
   "source": [
    "list1 = [-1,-2,1,2,3]\n",
    "only_pos = [num for num in list1 if num >= 1] \n",
    "pos_count = len(only_pos)\n",
    "\n",
    "print(\"Positive numbers in the list: \", pos_count) \n",
    "print(\"Negative numbers in the list: \", len(list1) - pos_count)\n"
   ]
  }
 ],
 "metadata": {
  "celltoolbar": "Raw Cell Format",
  "kernelspec": {
   "display_name": "Python 3",
   "language": "python",
   "name": "python3"
  },
  "language_info": {
   "codemirror_mode": {
    "name": "ipython",
    "version": 3
   },
   "file_extension": ".py",
   "mimetype": "text/x-python",
   "name": "python",
   "nbconvert_exporter": "python",
   "pygments_lexer": "ipython3",
   "version": "3.7.3"
  }
 },
 "nbformat": 4,
 "nbformat_minor": 2
}
