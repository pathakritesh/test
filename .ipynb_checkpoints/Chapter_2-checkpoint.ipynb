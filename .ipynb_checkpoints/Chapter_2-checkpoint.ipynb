{
 "cells": [
  {
   "cell_type": "markdown",
   "metadata": {},
   "source": [
    "# Chapter_2"
   ]
  },
  {
   "cell_type": "markdown",
   "metadata": {},
   "source": [
    "## Demonstrate use of integer types and operators that can be used on them."
   ]
  },
  {
   "cell_type": "code",
   "execution_count": 1,
   "metadata": {},
   "outputs": [
    {
     "name": "stdout",
     "output_type": "stream",
     "text": [
      "0.75\n",
      "3\n",
      "0\n",
      "81\n",
      "20 900 3\n",
      "5432099999999999945679\n"
     ]
    }
   ],
   "source": [
    "# Demonstrate use of integer types and operators that can be used on them.\n",
    "\n",
    "print(3 / 4) \n",
    "print(3 % 4) \n",
    "print(3 // 4) \n",
    "print(3 ** 4)\n",
    "a = 10 ; b = 25 ; c = 15 ; d = 30 ; e = 2 ; f = 3 ; g = 5 \n",
    "w = a + b - c \n",
    "x = d ** e \n",
    "y = f % g \n",
    "print(w, x, y)\n",
    "h = 99999999999999999 \n",
    "i = 54321\n",
    "print(h * i)\n",
    " \n",
    "#Notes\n",
    "#• 3 / 4 doesn't yield 0. \n",
    "#• Multiple statements in a line should be separated using ; \n",
    "#• print(w, x, y) prints values separated by a space. \n",
    "#• There is no precision limit on integers.\n"
   ]
  },
  {
   "cell_type": "markdown",
   "metadata": {},
   "source": [
    "## Demonstrate use of float, complex and bool types and operators that can be used on them. "
   ]
  },
  {
   "cell_type": "code",
   "execution_count": 3,
   "metadata": {},
   "outputs": [
    {
     "name": "stdout",
     "output_type": "stream",
     "text": [
      "1.1\n",
      "(1+2j)\n",
      "(3+6j)\n",
      "(-9+12j)\n",
      "1.0\n",
      "2.0\n",
      "(1-2j)\n",
      "(1+2j)\n",
      "True\n",
      "False\n"
     ]
    }
   ],
   "source": [
    "#Demonstrate use of float, complex and bool types and operators that can be used on them.\n",
    "\n",
    "i = 3.5 \n",
    "j = 1.2 \n",
    "print(i % j) \n",
    "\n",
    "# use of complex \n",
    "a = 1 + 2j \n",
    "b = 3 *(1 + 2j) \n",
    "c = a * b \n",
    "print(a) \n",
    "print(b)\n",
    "print(c) \n",
    "print(a.real) \n",
    "print(a.imag) \n",
    "print(a.conjugate( )) \n",
    "\n",
    "# use of bool \n",
    "x = True \n",
    "print(a) \n",
    "y = 3 > 4 \n",
    "print(x) \n",
    "print(y)\n",
    "\n",
    "#Notes\n",
    "#• % works on floats. \n",
    "#• It is possible to obtain real and imag part from a complex number. \n",
    "#• On evaluation of a condition it replaced by True or False.\n"
   ]
  },
  {
   "cell_type": "markdown",
   "metadata": {},
   "source": [
    "## 2.3 Demonstrate how to convert from one number type to another."
   ]
  },
  {
   "cell_type": "code",
   "execution_count": 7,
   "metadata": {},
   "outputs": [
    {
     "name": "stdout",
     "output_type": "stream",
     "text": [
      "3\n",
      "1253\n",
      "11\n",
      "225\n",
      "33\n",
      "35.0\n",
      "12.53\n",
      "(35+0j)\n",
      "(12.53+3.2j)\n",
      "True\n",
      "True\n",
      "1\n",
      "0\n"
     ]
    }
   ],
   "source": [
    "# 2.3 Demonstrate how to convert from one number type to another.\n",
    "\n",
    "#convert to int \n",
    "print(int(3.14)) # from float to int \n",
    "a = int('485') # from numeric string to int \n",
    "b = int('768') # from numeric string to int \n",
    "c = a + b \n",
    "print(c) \n",
    "print(int('1011', 2)) # convert from binary to decimal int \n",
    "print(int('341', 8)) # convert from octal to decimal int \n",
    "print(int('21', 16)) # convert from hex to decimal int\n",
    "# convert to float \n",
    "print(float(35)) # from int to float \n",
    "i = float('4.85') # from numeric string to float \n",
    "j = float('7.68') # from numeric string to float \n",
    "k = i + j \n",
    "print(k) # convert to complex \n",
    "print(complex(35)) # from int to float \n",
    "x = complex(4.85, 1.1) # from numeric string to float \n",
    "y = complex(7.68, 2.1) # from numeric string to float \n",
    "z = x + y \n",
    "print(z)\n",
    "\n",
    "# convert to bool \n",
    "print(bool(35)) \n",
    "print(bool(1.2)) \n",
    "print(int(True)) \n",
    "print(int(False))\n",
    "\n",
    "#Notes\n",
    "#• It is possible to convert a binary numeric string, octal numeric string or hexadecimal numeric string to equivalent decimal integer. Same cannot be done for a float. \n",
    "#• While converting to complex if only one argument is used, imaginary part is considered to be 0. \n",
    "#• Any non-zero number (int or float) is treated as True. 0 is treated as False.\n"
   ]
  },
  {
   "cell_type": "markdown",
   "metadata": {},
   "source": [
    "## 2.4 Write a program that makes use of built-in mathematical functions.\n",
    " "
   ]
  },
  {
   "cell_type": "code",
   "execution_count": 8,
   "metadata": {},
   "outputs": [
    {
     "name": "stdout",
     "output_type": "stream",
     "text": [
      "25\n",
      "16\n",
      "10\n",
      "50\n",
      "(5, 2)\n",
      "0b1000000 0o100 0x40\n",
      "3 2.57\n"
     ]
    }
   ],
   "source": [
    "# 2.4 Write a program that makes use of built-in mathematical functions.\n",
    "\n",
    "# built-in math functions \n",
    "print(abs(-25)) \n",
    "print(pow(2, 4)) \n",
    "print(min(10, 20, 30, 40, 50)) \n",
    "print(max(10, 20, 30, 40, 50)) \n",
    "print(divmod(17, 3)) \n",
    "print(bin(64), oct(64), hex(64)) \n",
    "print(round(2.567), round(2.5678, 2))\n",
    "\n",
    "#Notes\n",
    "#• divmod(a, b) yields a pair (a // b, a % b). \n",
    "#• bin( ), oct( ), hex( ) return binary, octal and hexadecimal equivalents. \n",
    "#• round(x) assumes that rounding-off has to be done with 0 places beyond decimal point.\n"
   ]
  },
  {
   "cell_type": "markdown",
   "metadata": {},
   "source": [
    "## 2.5 Write a program that makes use of functions in the math module. "
   ]
  },
  {
   "cell_type": "code",
   "execution_count": 10,
   "metadata": {},
   "outputs": [
    {
     "name": "stdout",
     "output_type": "stream",
     "text": [
      "3.141592653589793 2.718281828459045\n",
      "1.2392336341465238\n",
      "720\n",
      "1.5357\n",
      "0.42898630314951025\n",
      "0.1863063842699079\n",
      "4.644575595215059\n",
      "1\n",
      "1\n",
      "2\n",
      "-1\n",
      "-2\n",
      "-1\n",
      "(0.5357000000000001, 1.0)\n"
     ]
    }
   ],
   "source": [
    "# 2.5 Write a program that makes use of functions in the math module.\n",
    "\n",
    "# mathematical functions from math module \n",
    "import math \n",
    "x = 1.5357 \n",
    "print ( math.pi, math.e) \n",
    "print(math.sqrt( x)) \n",
    "print(math.factorial(6)) \n",
    "print(math.fabs(x)) \n",
    "print(math.log(x)) \n",
    "print(math.log10(x)) \n",
    "print(math.exp(x)) \n",
    "print(math.trunc(x)) \n",
    "print(math.floor(x)) \n",
    "print(math.ceil(x)) \n",
    "print(math.trunc(-x)) \n",
    "print(math.floor(-x)) \n",
    "print(math.ceil(-x))\n",
    "print(math.modf(x))\n",
    "\n",
    "#Notes\n",
    "#• floor( ) rounds down towards negative infinity, ceil( ) rounds up towards positive infinity, trunc( ) rounds up or down towards 0. \n",
    "#• trunc( ) is like floor( ) for positive numbers. \n",
    "#• trunc( ) is like ceil( ) for negative numbers."
   ]
  },
  {
   "cell_type": "markdown",
   "metadata": {},
   "source": [
    "## 2.6 Write a program that generates float and integer random numbers."
   ]
  },
  {
   "cell_type": "code",
   "execution_count": 11,
   "metadata": {},
   "outputs": [
    {
     "name": "stdout",
     "output_type": "stream",
     "text": [
      "0.23796462709189137\n",
      "0.5442292252959519\n",
      "57\n"
     ]
    }
   ],
   "source": [
    "# 2.6 Write a program that generates float and integer random numbers.\n",
    "\n",
    "# random number operations using random module \n",
    "import random \n",
    "random.seed(3) \n",
    "print(random.random( )) \n",
    "print(random.random( )) \n",
    "print(random.randint(10, 100))\n",
    "\n",
    "#Notes\n",
    "#• It is necessary to import random module. \n",
    "#• Even after seeding the randome number generation logic, \n",
    "#we get the same set of random numbers on multiple executions of the program. \n",
    "#Thus, the numbers are pseudo-random and not true random numbers.\n"
   ]
  },
  {
   "cell_type": "markdown",
   "metadata": {},
   "source": [
    "# Excercise "
   ]
  },
  {
   "cell_type": "markdown",
   "metadata": {},
   "source": [
    "## A(a) Write a program that swaps the values of variables a and b. You are not allowed to use a third variable. You are not allowed to perform arithmetic on a and b. "
   ]
  },
  {
   "cell_type": "code",
   "execution_count": 29,
   "metadata": {},
   "outputs": [
    {
     "ename": "NameError",
     "evalue": "name 'swap' is not defined",
     "output_type": "error",
     "traceback": [
      "\u001b[1;31m---------------------------------------------------------------------------\u001b[0m",
      "\u001b[1;31mNameError\u001b[0m                                 Traceback (most recent call last)",
      "\u001b[1;32m<ipython-input-29-97cb8c428a6e>\u001b[0m in \u001b[0;36m<module>\u001b[1;34m\u001b[0m\n\u001b[0;32m      5\u001b[0m \u001b[0mvari_a\u001b[0m \u001b[1;33m=\u001b[0m \u001b[1;34m'x'\u001b[0m\u001b[1;33m\u001b[0m\u001b[1;33m\u001b[0m\u001b[0m\n\u001b[0;32m      6\u001b[0m \u001b[0mvari_b\u001b[0m \u001b[1;33m=\u001b[0m \u001b[1;34m'y'\u001b[0m\u001b[1;33m\u001b[0m\u001b[1;33m\u001b[0m\u001b[0m\n\u001b[1;32m----> 7\u001b[1;33m \u001b[0mprint\u001b[0m\u001b[1;33m(\u001b[0m\u001b[0mswap\u001b[0m\u001b[1;33m(\u001b[0m\u001b[0mvari_a\u001b[0m\u001b[1;33m,\u001b[0m\u001b[0mvari_b\u001b[0m\u001b[1;33m)\u001b[0m\u001b[1;33m)\u001b[0m\u001b[1;33m\u001b[0m\u001b[1;33m\u001b[0m\u001b[0m\n\u001b[0m",
      "\u001b[1;31mNameError\u001b[0m: name 'swap' is not defined"
     ]
    }
   ],
   "source": [
    "# A(a). Write a program that swaps the values of variables a and b. \n",
    "#You are not allowed to use a third variable. \n",
    "#You are not allowed to perform arithmetic on a and b.\n",
    "\n",
    "vari_a = 'x'\n",
    "vari_b = 'y'\n"
   ]
  },
  {
   "cell_type": "markdown",
   "metadata": {},
   "source": [
    "## A(b) Write a program that makes use of trigonometric functions available in math module."
   ]
  },
  {
   "cell_type": "code",
   "execution_count": 31,
   "metadata": {},
   "outputs": [
    {
     "name": "stdout",
     "output_type": "stream",
     "text": [
      "1.0\n"
     ]
    }
   ],
   "source": [
    "# A(b).Write a program that makes use of trigonometric functions available in math module.\n",
    "\n",
    "import math\n",
    "trigo = math.sin(0)+math.cos(0)\n",
    "print(trigo)\n",
    "\n",
    "\n",
    "# sin(0) = 0\n",
    "# cos(0) = 1"
   ]
  },
  {
   "cell_type": "markdown",
   "metadata": {},
   "source": [
    "## A(c)  Write a program that generates 5 random numbers in the range 10 to 50. Use a seed value of 6. Make a provision to change this seed value every time you execute the program by associating it with time of execution?"
   ]
  },
  {
   "cell_type": "code",
   "execution_count": 43,
   "metadata": {},
   "outputs": [
    {
     "name": "stdout",
     "output_type": "stream",
     "text": [
      "0.6229016948897019\n",
      "0.7417869892607294\n",
      "43\n"
     ]
    }
   ],
   "source": [
    "# A(c).Write a program that generates 5 random numbers in the range 10 to 50. \n",
    "#   Use a seed value of 6. \n",
    "#   Make a provision to change this seed value every time you execute the program by associating it with time of execution?\n",
    "\n",
    "import random \n",
    "random.seed(random.randint(1,6))\n",
    "print(random.random( )) \n",
    "print(random.random( )) \n",
    "print(random.randint(10, 50))"
   ]
  },
  {
   "cell_type": "markdown",
   "metadata": {},
   "source": [
    "## A(d) Use trunc( ), floor( ) and ceil( ) for numbers -2.8, -0.5, 0.2, 1.5 and 2.9 to understand the difference between these functions clearly."
   ]
  },
  {
   "cell_type": "code",
   "execution_count": 51,
   "metadata": {},
   "outputs": [
    {
     "name": "stdout",
     "output_type": "stream",
     "text": [
      "-2\n",
      "2\n",
      "2\n"
     ]
    }
   ],
   "source": [
    "# D. (d) Use trunc( ), floor( ) and ceil( ) \n",
    "#for numbers -2.8, -0.5, 0.2, 1.5 and 2.9 to understand the difference between these functions clearly.\n",
    "import math\n",
    "print(math.trunc(-2.8 ))\n",
    "print(math.floor(2.9 ))\n",
    "print(math.ceil(1.5 ))\n"
   ]
  },
  {
   "cell_type": "markdown",
   "metadata": {},
   "source": [
    "## A(e) Assume a suitable value for Ramesh's basic salary. His dearness allowance is 40% of basic salary, and house rent allowance is 20% of basic salary. Write a program to calculate his gross salary.\n"
   ]
  },
  {
   "cell_type": "code",
   "execution_count": 53,
   "metadata": {},
   "outputs": [
    {
     "name": "stdout",
     "output_type": "stream",
     "text": [
      "60.0\n"
     ]
    }
   ],
   "source": [
    "# A(e) Assume a suitable value for Ramesh's basic salary. \n",
    "#His dearness allowance is 40% of basic salary, and house rent allowance is 20% of basic salary. \n",
    "#Write a program to calculate his gross salary.\n",
    "\n",
    "ramesh_salary = 100\n",
    "dearness_allowance = ramesh_salary*.4\n",
    "gross_salary = ramesh_salary - dearness_allowance\n",
    "rent_allowance = ramesh_salary * 0.2\n",
    "\n",
    "print(gross_salary)\n"
   ]
  },
  {
   "cell_type": "markdown",
   "metadata": {},
   "source": [
    "## A(f) Assume a suitable value for distance between two cities (in km.). Write a program to convert and print this distance in meters, feet, inches and centimeters. "
   ]
  },
  {
   "cell_type": "code",
   "execution_count": 56,
   "metadata": {},
   "outputs": [
    {
     "name": "stdout",
     "output_type": "stream",
     "text": [
      "distance in km 1\n",
      "distance in meter 1000\n",
      "distance in feet 33.333333333333336\n",
      "distance in inches 393.7007874015748\n",
      "distance in cm 100000\n"
     ]
    }
   ],
   "source": [
    "# A(f) Assume a suitable value for distance between two cities (in km.). \n",
    "#Write a program to convert and print this distance in meters, feet, inches and centimeters.\n",
    "\n",
    "distance_km = 1\n",
    "distance_m = distance_km * 1000\n",
    "distance_feet = distance_m/30\n",
    "distance_inches = distance_m/2.54\n",
    "distance_cm = distance_m*100\n",
    "\n",
    "print('distance in km',distance_km)\n",
    "print('distance in meter',distance_m)\n",
    "print('distance in feet',distance_feet)\n",
    "print('distance in inches',distance_inches)\n",
    "print('distance in cm',distance_cm)\n"
   ]
  },
  {
   "cell_type": "markdown",
   "metadata": {},
   "source": [
    "## A(g) Assume a suitable value for temperature of a city in Fahrenheit degrees. Write a program to convert this temperature into Centigrade degrees and print both temperatures."
   ]
  },
  {
   "cell_type": "code",
   "execution_count": 57,
   "metadata": {},
   "outputs": [
    {
     "name": "stdout",
     "output_type": "stream",
     "text": [
      "farenhite temp 21\n",
      "Centigrade temp -6.111111111111112\n"
     ]
    }
   ],
   "source": [
    "# A(g) Assume a suitable value for temperature of a city in Fahrenheit degrees. \n",
    "#Write a program to convert this temperature into Centigrade degrees and print both temperatures.\n",
    "\n",
    "temp_fahrenheit = 21\n",
    "temp_centigrade = (temp_fahrenheit - 32) * (5/9)\n",
    "print(\"farenhite temp\",temp_fahrenheit)\n",
    "print(\"Centigrade temp\",temp_centigrade)"
   ]
  },
  {
   "cell_type": "markdown",
   "metadata": {},
   "source": [
    "## [B] How will you perform the following operations:"
   ]
  },
  {
   "cell_type": "code",
   "execution_count": 76,
   "metadata": {},
   "outputs": [
    {
     "name": "stdout",
     "output_type": "stream",
     "text": [
      "3.0\n",
      "(4-2j)\n",
      "1550\n",
      "4.33\n",
      "4\n",
      "5\n",
      "34567 16\n",
      "46\n",
      "4\n",
      "17\n",
      "1.0100000000000002\n"
     ]
    }
   ],
   "source": [
    "#(a) print imaginary part out of 2 + 3j \n",
    "#(b) Obtain conjugate of 4 + 2j \n",
    "#(c) Convert binary '1100001110' into decimal int \n",
    "#(d) Convert a float value 4.33 into a numeric string \n",
    "#(e) Obtain integer quotient and remainder while dividing 29 with 5 \n",
    "#(f) Obtain hexadecimal equivalent of decimal 34567 \n",
    "#(g) Round-off 45.6782 to second decimal place \n",
    "#(h) Obtain 4 from 3.556 \n",
    "#(i) Obtain 17 from 16.7844 \n",
    "#(j) Obtain remainder on dividing 3.45 with 1.22\n",
    "\n",
    "a = 2 + 3j \n",
    "b = 4+2j\n",
    "print(a.imag)  #(a) print imaginary part out of 2 + 3j \n",
    "print(b.conjugate())  #Obtain conjugate of 4 + 2j \n",
    "print(int('11000001110',2))   #Convert binary '1100001110' into decimal int \n",
    "print('4.33')   # Convert a float value 4.33 into a numeric string\n",
    "print(29%5)  #Obtain integer quotient and remainder while dividing 29 with 5 \n",
    "print(29//5)\n",
    "print('34567',16)  #Obtain hexadecimal equivalent of decimal 34567 \n",
    "print(round(45.6782))  #Round-off 45.6782 to second decimal place\n",
    "print(round(3.556))  #Obtain 4 from 3.556\n",
    "print(round(16.7844))   #Obtain 17 from 16.7844 \n",
    "print(3.45%1.22)  #Obtain remainder on dividing 3.45 with 1.22"
   ]
  },
  {
   "cell_type": "code",
   "execution_count": null,
   "metadata": {},
   "outputs": [],
   "source": [
    "# [C] Which of the following is invalid variable name and why? \n",
    "\n",
    "#   BASICSALARY  = ok \n",
    "#   _basic       = ok\n",
    "#   basic-hra    = special character not allowed\n",
    "#   #MEAN        =special character not allowed\n",
    "#   group.       =special character not allowed\n",
    "#   422          =numbers not allowed\n",
    "#   pop in 2020  = space not allowed\n",
    "#   over         = ok\n",
    "#   timemindovermatter = ok\n",
    "#   SINGLE       = ok\n",
    "#   hELLO        = ok\n",
    "#   queue.       = special character not allowed\n",
    " "
   ]
  }
 ],
 "metadata": {
  "kernelspec": {
   "display_name": "Python 3",
   "language": "python",
   "name": "python3"
  },
  "language_info": {
   "codemirror_mode": {
    "name": "ipython",
    "version": 3
   },
   "file_extension": ".py",
   "mimetype": "text/x-python",
   "name": "python",
   "nbconvert_exporter": "python",
   "pygments_lexer": "ipython3",
   "version": "3.7.3"
  }
 },
 "nbformat": 4,
 "nbformat_minor": 2
}
