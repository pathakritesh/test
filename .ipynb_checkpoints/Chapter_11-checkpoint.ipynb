{
 "cells": [
  {
   "cell_type": "code",
   "execution_count": 7,
   "metadata": {},
   "outputs": [
    {
     "ename": "IndentationError",
     "evalue": "unexpected indent (<ipython-input-7-b76793e27d87>, line 9)",
     "output_type": "error",
     "traceback": [
      "\u001b[1;36m  File \u001b[1;32m\"<ipython-input-7-b76793e27d87>\"\u001b[1;36m, line \u001b[1;32m9\u001b[0m\n\u001b[1;33m    _init_.py\u001b[0m\n\u001b[1;37m    ^\u001b[0m\n\u001b[1;31mIndentationError\u001b[0m\u001b[1;31m:\u001b[0m unexpected indent\n"
     ]
    }
   ],
   "source": [
    "#Problem 11.3 \n",
    "#Write a Python program that is organized as follows:\n",
    "#Packages: messages.funny messages.curt Modules: modf1.py, modf2.py, modf3.py in package messages.funny modc1.py, modc2.py, \n",
    "#modc3.py in package messages.curt Functions: funf1( ) in module modf1 funf1( ) in module modf1 funf1( ) in module modf1\n",
    "#funf1( ) in module modf1 funf1( ) in module modf1 funf1( ) in module modf1 Use all the functions in a program client.py. \n",
    "#Program Directory structure will be as follows: \n",
    "\n",
    "messages\n",
    "    _init_.py\n",
    "funny\n",
    "    _init_.py \n",
    "    modf1.py \n",
    "    modf2.py \n",
    "    modf3.py\n",
    "curt\n",
    "    _init_.py \n",
    "    modc1.py \n",
    "    modc2.py \n",
    "    modc3.py \n",
    "client.py \n",
    "#Of these, messages, funny and curt are directories, rest are files. All _init_.py are empty files. \n",
    "# modf1.py \n",
    "def funf1( ) : \n",
    "    print('The ability to speak several languages is an asset...') \n",
    "    print('ability to keep your mouth shut in any language is priceless') \n",
    "# modf2.py \n",
    "def funf2( ) : \n",
    "    print('If you cut off your left arm...') \n",
    "    print('then your right arm would be left') \n",
    "# modf3.py \n",
    "def funf3( ) : \n",
    "    print('Alcohol is a solution!') \n",
    "# modc1.py \n",
    "def func1( ) : \n",
    "    print('The ability to speak several languages is an asset...') \n",
    "    print('but the ability to keep your mouth shut in any language is priceless') \n",
    "# modc2.py \n",
    "def func2( ) :                     \n",
    "    print('There is no physical evidence to say that today is Tuesday...') \n",
    "    print('We have to trust someone who kept the count since first day') \n",
    "# modc3.py \n",
    "def func3( ) : \n",
    "    print('We spend five days a week pretending to be someone else...') \n",
    "    print('in order to spend two days being who we are') \n",
    "# client.py \n",
    "import messages.funny.modf1 \n",
    "import messages.funny.modf2 \n",
    "import messages.funny.modf3 \n",
    "import messages.curt.modc1 \n",
    "import messages.curt.modc2 \n",
    "import messages.curt.modc3 \n",
    "messages.funny.modf1.funf1( ) \n",
    "messages.funny.modf2.funf2( ) \n",
    "messages.funny.modf3.funf3( ) \n",
    "messages.curt.modc1.func1( ) \n",
    "messages.curt.modc2.func2( ) \n",
    "messages.curt.modc3.func3( )\n",
    "\n"
   ]
  },
  {
   "cell_type": "markdown",
   "metadata": {},
   "source": [
    "# Excercise 11"
   ]
  },
  {
   "cell_type": "code",
   "execution_count": null,
   "metadata": {},
   "outputs": [],
   "source": [
    "#[A] Answer the following: \n",
    "#(a) Suppose there are three modules m1. py, m2. py, m3. py, containing functions \n",
    "#f1( ), f2( ) and f3( ) respectively. How will you use those functions in your program? \n",
    " \n",
    "m1.py\n",
    "def f1():\n",
    "    print('m1')\n",
    "m2.py\n",
    "def f2():\n",
    "    print('m2')\n",
    "m3.py\n",
    "def f3():\n",
    "    print('m3')"
   ]
  },
  {
   "cell_type": "code",
   "execution_count": null,
   "metadata": {},
   "outputs": [],
   "source": [
    "#(b) Write a program containing functions fun1( ), fun2( ), fun3( ) and some statements. \n",
    "#Add suitable code to the program such that you can use it as a module or a normal program.\n",
    "\n",
    "calc.py\n",
    "def add(a,b):\n",
    "    return a+b\n",
    "def sub(a,b):\n",
    "    return a-b\n",
    "def mul(a,b):\n",
    "    return a*b\n",
    "def div(a,b):\n",
    "    return a/b\n",
    "\n",
    "cal2.py\n",
    "import calc\n",
    "a = 5\n",
    "b = 2\n",
    "c = calc.mul(a,b)\n",
    "print(c)"
   ]
  },
  {
   "cell_type": "code",
   "execution_count": null,
   "metadata": {},
   "outputs": [],
   "source": [
    "#(c) Suppose a module mod.py contains functions f1( ), f2( ) and f3( ). \n",
    "#Write 4 forms of import statements to use these functions in your program.\n",
    "\n",
    "calc.py\n",
    "def add(a,b):\n",
    "    return a+b\n",
    "def sub(a,b):\n",
    "    return a-b\n",
    "def mul(a,b):\n",
    "    return a*b\n",
    "def div(a,b):\n",
    "    return a/b\n",
    "\n",
    "import calc\n",
    "from calc import add\n",
    "from calc import *\n",
    "import calc as cal\n",
    "from calc import add as suma"
   ]
  },
  {
   "cell_type": "code",
   "execution_count": null,
   "metadata": {},
   "outputs": [],
   "source": [
    "#[B] Attempt the following: \n",
    "#(a) What is the purpose behind creating multiple packages and modules? \n",
    "\n",
    "Ans: The way drives, folders, subfolders help us organize files in an OS, packages help us organize sub-packages \n",
    "     and modules. • A particular directory is treated as a package if it contains a file named\n",
    "     _init_.py in it. The directory may contain other sub-packages and modules in it._init_.py \n",
    "    file may be empty or it may contain some initialization code for the package.\n"
   ]
  },
  {
   "cell_type": "code",
   "execution_count": null,
   "metadata": {},
   "outputs": [],
   "source": [
    "#(b) By default, to which module do the statements in a program belong? \n",
    "#How do we access the name of this module? \n",
    "\n"
   ]
  },
  {
   "cell_type": "code",
   "execution_count": null,
   "metadata": {},
   "outputs": [],
   "source": [
    "#(c) In the following statement what do a, b, c, x represent? import a.b.c.x \n",
    "\n",
    "Ans: Modules"
   ]
  },
  {
   "cell_type": "code",
   "execution_count": 8,
   "metadata": {},
   "outputs": [
    {
     "ename": "ModuleNotFoundError",
     "evalue": "No module named 'm'",
     "output_type": "error",
     "traceback": [
      "\u001b[1;31m---------------------------------------------------------------------------\u001b[0m",
      "\u001b[1;31mModuleNotFoundError\u001b[0m                       Traceback (most recent call last)",
      "\u001b[1;32m<ipython-input-8-e9126ee23d6e>\u001b[0m in \u001b[0;36m<module>\u001b[1;34m\u001b[0m\n\u001b[0;32m      2\u001b[0m \u001b[1;31m#what is wrong with the following statements? import m fun( )\u001b[0m\u001b[1;33m\u001b[0m\u001b[1;33m\u001b[0m\u001b[1;33m\u001b[0m\u001b[0m\n\u001b[0;32m      3\u001b[0m \u001b[1;33m\u001b[0m\u001b[0m\n\u001b[1;32m----> 4\u001b[1;33m \u001b[1;32mimport\u001b[0m \u001b[0mm\u001b[0m\u001b[1;33m\u001b[0m\u001b[1;33m\u001b[0m\u001b[0m\n\u001b[0m\u001b[0;32m      5\u001b[0m \u001b[0mfun\u001b[0m\u001b[1;33m(\u001b[0m\u001b[1;33m)\u001b[0m\u001b[1;33m\u001b[0m\u001b[1;33m\u001b[0m\u001b[0m\n",
      "\u001b[1;31mModuleNotFoundError\u001b[0m: No module named 'm'"
     ]
    }
   ],
   "source": [
    "#(d) If module m contains a function fun( ), \n",
    "#what is wrong with the following statements? \n",
    "#import m \n",
    "#fun( ) \n",
    "\n",
    "Ans: correct syntax m.fun()"
   ]
  },
  {
   "cell_type": "code",
   "execution_count": null,
   "metadata": {},
   "outputs": [],
   "source": [
    "#(e) What is the purpose of built-in functions dir( ), vars( ), global( ) and local( )? \n",
    "\n",
    "Ans:\n",
    "#dir() return details extension modules in list form\n",
    "#var() return details extension modules in dict form\n",
    "#global() for global standard modules form\n",
    "#local() for local modules form"
   ]
  },
  {
   "cell_type": "code",
   "execution_count": null,
   "metadata": {},
   "outputs": [],
   "source": [
    "#(f) What are the contents of PYTHONPATH variable? How can we access its contents \n",
    "#programmatically? \n",
    "\n",
    "for p in sys.path \n",
    "print(p)\n"
   ]
  },
  {
   "cell_type": "code",
   "execution_count": null,
   "metadata": {},
   "outputs": [],
   "source": [
    "#(g) What does the content of sys.path signify? What does the order of contents of \n",
    "#sys.path signify? \n",
    "\n",
    "Ans:sys.path variable contains directory from where the script has been executed\n"
   ]
  },
  {
   "cell_type": "code",
   "execution_count": 10,
   "metadata": {},
   "outputs": [
    {
     "name": "stdout",
     "output_type": "stream",
     "text": [
      "1.1\n",
      "2.2\n",
      "1.1\n"
     ]
    }
   ],
   "source": [
    "#(h) What will be the output of the following program? var = 1.1 print( var) def fun( ) : \n",
    "#var = 2.2 print( var) fun( ) print( var) \n",
    "\n",
    "var = 1.1 \n",
    "print(var) \n",
    "def fun(): \n",
    "    var = 2.2 \n",
    "    print(var) \n",
    "fun() \n",
    "print(var)\n",
    "\n",
    "\n"
   ]
  },
  {
   "cell_type": "code",
   "execution_count": null,
   "metadata": {},
   "outputs": [],
   "source": [
    "#(i)  Do the following import statements serve the same purpose? funtions/ classes defined in a module.'\n",
    "\n",
    "Ans: Yes"
   ]
  },
  {
   "cell_type": "code",
   "execution_count": null,
   "metadata": {},
   "outputs": [],
   "source": [
    "#[C] State whether the following statements are True or False: \n",
    "#(a) A variable with same name may be present in local namespace as well as the global namespace. \n",
    "\n",
    "Ans:True \n"
   ]
  },
  {
   "cell_type": "code",
   "execution_count": null,
   "metadata": {},
   "outputs": [],
   "source": [
    "#(b) A function can belong to a module and the module can belong to a package. \n",
    "\n",
    "Ans: True"
   ]
  },
  {
   "cell_type": "code",
   "execution_count": null,
   "metadata": {},
   "outputs": [],
   "source": [
    "#(c) A package can contain one or more modules in it. \n",
    "\n",
    "Ans: True"
   ]
  },
  {
   "cell_type": "code",
   "execution_count": null,
   "metadata": {},
   "outputs": [],
   "source": [
    "#(d) Nested packages are allowed. \n",
    "\n",
    "Ans: True"
   ]
  },
  {
   "cell_type": "code",
   "execution_count": null,
   "metadata": {},
   "outputs": [],
   "source": [
    "#(e) Contents of sys.path variable cannot be modified.\n",
    "\n",
    "Ans: Flase"
   ]
  },
  {
   "cell_type": "code",
   "execution_count": null,
   "metadata": {},
   "outputs": [],
   "source": [
    "#(f) In the statement import a.b.c, c cannot be a function. \n",
    "\n",
    "Ans: False"
   ]
  },
  {
   "cell_type": "code",
   "execution_count": null,
   "metadata": {},
   "outputs": [],
   "source": [
    "#(g) It is a good idea to use * to import all the funtions/classes defined in a module.\n",
    "\n",
    "Ans: True"
   ]
  },
  {
   "cell_type": "code",
   "execution_count": null,
   "metadata": {},
   "outputs": [],
   "source": [
    "#[D] Match the following: \n",
    "#dir( )                           :  Nested packages                        #   Returns list \n",
    "#vars( )                          :  Identifiers,their type and scope       #   Returns dictionary \n",
    "#Variables in a function          :  Returns dictionary                     #   Local namespace \n",
    "#import a.b.c                     :  Local namespace                        #   Nested packages\n",
    "#Symbol table                     :  Returns list                           #   Identifiers,their type and scope\n",
    "#Variables outside all functions  :  Global namespace                       #    \n",
    "\n"
   ]
  },
  {
   "cell_type": "code",
   "execution_count": null,
   "metadata": {},
   "outputs": [],
   "source": [
    "#"
   ]
  }
 ],
 "metadata": {
  "kernelspec": {
   "display_name": "Python 3",
   "language": "python",
   "name": "python3"
  },
  "language_info": {
   "codemirror_mode": {
    "name": "ipython",
    "version": 3
   },
   "file_extension": ".py",
   "mimetype": "text/x-python",
   "name": "python",
   "nbconvert_exporter": "python",
   "pygments_lexer": "ipython3",
   "version": "3.7.3"
  },
  "toc": {
   "base_numbering": 1,
   "nav_menu": {},
   "number_sections": true,
   "sideBar": true,
   "skip_h1_title": false,
   "title_cell": "Table of Contents",
   "title_sidebar": "Contents",
   "toc_cell": false,
   "toc_position": {},
   "toc_section_display": true,
   "toc_window_display": false
  },
  "varInspector": {
   "cols": {
    "lenName": 16,
    "lenType": 16,
    "lenVar": 40
   },
   "kernels_config": {
    "python": {
     "delete_cmd_postfix": "",
     "delete_cmd_prefix": "del ",
     "library": "var_list.py",
     "varRefreshCmd": "print(var_dic_list())"
    },
    "r": {
     "delete_cmd_postfix": ") ",
     "delete_cmd_prefix": "rm(",
     "library": "var_list.r",
     "varRefreshCmd": "cat(var_dic_list()) "
    }
   },
   "types_to_exclude": [
    "module",
    "function",
    "builtin_function_or_method",
    "instance",
    "_Feature"
   ],
   "window_display": false
  }
 },
 "nbformat": 4,
 "nbformat_minor": 2
}
