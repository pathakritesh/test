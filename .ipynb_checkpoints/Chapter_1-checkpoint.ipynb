{
 "cells": [
  {
   "cell_type": "markdown",
   "metadata": {},
   "source": [
    "# Chapter 1"
   ]
  },
  {
   "cell_type": "markdown",
   "metadata": {},
   "source": [
    "## Mention 5 fields in which Python is popularly used.\n",
    "\n",
    "1.Google - In Web search System\n",
    "2.YouTube - Video Sharing Service \n",
    "3.Bit-torrent - Peer to Peer file sharing system \n",
    "4.Hardware testing - Intel, HP, Seagate, IBM, \n",
    "5.Qualcomm Movie Animation - Pixar, Industrial Light and Magic\n",
    "6.UBS Scientific programming - NASA, FermiLab"
   ]
  },
  {
   "cell_type": "markdown",
   "metadata": {},
   "source": [
    "## Which of the following is not a feature of Python?\n",
    "\n",
    "Options:\n",
    "a)Static typing,\n",
    "b)Variable declaration before use,\n",
    "c)Destruction of objects after use through destructor  \n",
    "d)Run-time error handling through error numbers \n",
    "e)Library support for containers like Lists, Dictionaries, Tuples\n",
    "\n",
    "Ans: a)Static typing\n"
   ]
  },
  {
   "cell_type": "code",
   "execution_count": null,
   "metadata": {},
   "outputs": [],
   "source": []
  }
 ],
 "metadata": {
  "kernelspec": {
   "display_name": "Python 3",
   "language": "python",
   "name": "python3"
  },
  "language_info": {
   "codemirror_mode": {
    "name": "ipython",
    "version": 3
   },
   "file_extension": ".py",
   "mimetype": "text/x-python",
   "name": "python",
   "nbconvert_exporter": "python",
   "pygments_lexer": "ipython3",
   "version": "3.7.3"
  }
 },
 "nbformat": 4,
 "nbformat_minor": 2
}
