{
 "cells": [
  {
   "cell_type": "markdown",
   "metadata": {
    "heading_collapsed": true
   },
   "source": [
    "# Examples"
   ]
  },
  {
   "cell_type": "code",
   "execution_count": 5,
   "metadata": {
    "hidden": true
   },
   "outputs": [
    {
     "name": "stdout",
     "output_type": "stream",
     "text": [
      "{33, 70, 40, 10, 44, 50, 51, 20, 60, 30}\n",
      "{10, 50, 20, 30}\n",
      "{40, 60, 70}\n",
      "{33, 51, 44}\n",
      "{70, 33, 40, 44, 51, 60}\n",
      "False\n",
      "False\n"
     ]
    }
   ],
   "source": [
    "# Example 1\n",
    "a = {10,20,30,40,50,60,70}\n",
    "b = {33,44,51,10,20,50,30,33}\n",
    "print(a|b)\n",
    "print(a&b)\n",
    "print(a-b)\n",
    "print(b-a)\n",
    "print(a^b)\n",
    "print(a==b)\n",
    "print(a<=b)"
   ]
  },
  {
   "cell_type": "code",
   "execution_count": null,
   "metadata": {
    "hidden": true
   },
   "outputs": [],
   "source": [
    "# Example 8.2\n",
    "a = {1,2,3,4,5,6,7}\n",
    "b = {1,2,3,4,5,6,7}\n",
    "c = {1,2,3,4,5,6,7}\n",
    "d = {1,2,3,4,5,6,7}\n",
    "e = {3,4,1,0,2,5,8,9}\n",
    "a|= e  #a = a|e\n",
    "a = a|e\n",
    "print(a)\n",
    "b &=e\n",
    "print(b)\n",
    "c -=e\n",
    "print(c)\n",
    "d^=e\n",
    "print(d)\n",
    "\n",
    "\n"
   ]
  },
  {
   "cell_type": "code",
   "execution_count": null,
   "metadata": {
    "hidden": true
   },
   "outputs": [],
   "source": [
    "# Example 8.3\n",
    "\n",
    "s = {10,2,-3,4,5,88}\n",
    "print(len(s))\n",
    "print(max(s))\n",
    "print(min(s))\n",
    "print(sum(s))\n",
    "d  = s\n",
    "print(sorted(d))\n",
    "print(100 in (s))\n",
    "print(-3 in (s))"
   ]
  },
  {
   "cell_type": "code",
   "execution_count": null,
   "metadata": {
    "hidden": true
   },
   "outputs": [],
   "source": [
    "#Example 8.4\n",
    "l = [10,20,30,40,50]\n",
    "t = ('sunday',25,79.58)\n",
    "s = 'set theory'\n",
    "s1 = set(l)\n",
    "s2 = set(t)\n",
    "s3 = set(s)\n",
    "print(s1)\n",
    "print(s2)\n",
    "print(s3)"
   ]
  },
  {
   "cell_type": "markdown",
   "metadata": {},
   "source": [
    "# Excercise "
   ]
  },
  {
   "cell_type": "code",
   "execution_count": 10,
   "metadata": {},
   "outputs": [
    {
     "name": "stdout",
     "output_type": "stream",
     "text": [
      "{'aam1', 'aam2', 'aam3'}\n",
      "{'bot1', 'bot3', 'bot2'}\n"
     ]
    }
   ],
   "source": [
    "# [A] Answer the following: \n",
    "#(a) A set contains names which begin either with A or with B. \n",
    "#    write a program to separate out the names into two sets, \n",
    "#    one containing names beginning with A and another containing names beginning with B.\n",
    "\n",
    "lst = {'aam1','aam2','aam3','bot1','bot2','bot3'}\n",
    "t = set()\n",
    "s = set()\n",
    "for item in lst:\n",
    "    if item.startswith('a'):\n",
    "        t.add(item)\n",
    "    elif item.startswith('b'):\n",
    "        s.add(item)\n",
    "print(t)\n",
    "print(s)"
   ]
  },
  {
   "cell_type": "code",
   "execution_count": 2,
   "metadata": {},
   "outputs": [
    {
     "name": "stdout",
     "output_type": "stream",
     "text": [
      "{'x5', 'x4', 'x3', 'x1', 'x2'}\n",
      "{'x5', 'x4', 'x3'}\n",
      "{'x4', 'x3', 'g1'}\n"
     ]
    }
   ],
   "source": [
    "# (b)\n",
    "s = set()\n",
    "x = {'x1','x2','x3','x4','x5'}\n",
    "s.update(x)\n",
    "print(s)\n",
    "s.remove('x1')\n",
    "s.remove('x2')\n",
    "print(s)\n",
    "s.pop()\n",
    "s.add('g1')\n",
    "print(s)"
   ]
  },
  {
   "cell_type": "code",
   "execution_count": 4,
   "metadata": {},
   "outputs": [
    {
     "name": "stdout",
     "output_type": "stream",
     "text": [
      "{2, 3, 4, 5}\n",
      "{2, 3, 4, 5}\n",
      "{2, 4, 5}\n"
     ]
    },
    {
     "ename": "KeyError",
     "evalue": "10",
     "output_type": "error",
     "traceback": [
      "\u001b[1;31m---------------------------------------------------------------------------\u001b[0m",
      "\u001b[1;31mKeyError\u001b[0m                                  Traceback (most recent call last)",
      "\u001b[1;32m<ipython-input-4-93396bd8e9bd>\u001b[0m in \u001b[0;36m<module>\u001b[1;34m\u001b[0m\n\u001b[0;32m      7\u001b[0m \u001b[0ma\u001b[0m\u001b[1;33m.\u001b[0m\u001b[0mdiscard\u001b[0m\u001b[1;33m(\u001b[0m\u001b[1;36m3\u001b[0m\u001b[1;33m)\u001b[0m\u001b[1;33m\u001b[0m\u001b[1;33m\u001b[0m\u001b[0m\n\u001b[0;32m      8\u001b[0m \u001b[0mprint\u001b[0m\u001b[1;33m(\u001b[0m\u001b[0ma\u001b[0m\u001b[1;33m)\u001b[0m\u001b[1;33m\u001b[0m\u001b[1;33m\u001b[0m\u001b[0m\n\u001b[1;32m----> 9\u001b[1;33m \u001b[0ma\u001b[0m\u001b[1;33m.\u001b[0m\u001b[0mremove\u001b[0m\u001b[1;33m(\u001b[0m\u001b[1;36m10\u001b[0m\u001b[1;33m)\u001b[0m\u001b[1;33m\u001b[0m\u001b[1;33m\u001b[0m\u001b[0m\n\u001b[0m\u001b[0;32m     10\u001b[0m \u001b[0mprint\u001b[0m\u001b[1;33m(\u001b[0m\u001b[0ma\u001b[0m\u001b[1;33m)\u001b[0m\u001b[1;33m\u001b[0m\u001b[1;33m\u001b[0m\u001b[0m\n",
      "\u001b[1;31mKeyError\u001b[0m: 10"
     ]
    }
   ],
   "source": [
    "# (c)\n",
    "a = {1,2,3,4,5}\n",
    "a.remove(1)\n",
    "print(a)\n",
    "#a.remove(10)\n",
    "print(a)\n",
    "a.discard(3)\n",
    "print(a)\n",
    "a.remove(10)\n",
    "print(a)"
   ]
  },
  {
   "cell_type": "code",
   "execution_count": 24,
   "metadata": {},
   "outputs": [
    {
     "name": "stdout",
     "output_type": "stream",
     "text": [
      "orignal set: {32, 33, 36, 41, 43, 44, 15, 22, 24, 31}\n",
      "count of nos. less than 30: 3\n",
      "set after deleting elements >35: {32, 33, 15, 22, 24, 31}\n"
     ]
    }
   ],
   "source": [
    "# (d)\n",
    "import random\n",
    "s = set()\n",
    "while True:\n",
    "\ts.add(random.randint(15,45))\n",
    "\tif len(s) == 10:\n",
    "            break\n",
    "print('orignal set:',s)\n",
    "t = set()\n",
    "count = 0\n",
    "for item in s:\n",
    "    if item<30:\n",
    "        count += 1\n",
    "    if item <=35:\n",
    "        t.add(item)\n",
    "s = t\n",
    "print('count of nos. less than 30:',count)\n",
    "print('set after deleting elements >35:',s)\n"
   ]
  },
  {
   "cell_type": "code",
   "execution_count": 52,
   "metadata": {},
   "outputs": [
    {
     "name": "stdout",
     "output_type": "stream",
     "text": [
      "set()\n"
     ]
    },
    {
     "ename": "NameError",
     "evalue": "name 's' is not defined",
     "output_type": "error",
     "traceback": [
      "\u001b[1;31m---------------------------------------------------------------------------\u001b[0m",
      "\u001b[1;31mNameError\u001b[0m                                 Traceback (most recent call last)",
      "\u001b[1;32m<ipython-input-52-209cdc1b297b>\u001b[0m in \u001b[0;36m<module>\u001b[1;34m\u001b[0m\n\u001b[0;32m      4\u001b[0m \u001b[0mprint\u001b[0m\u001b[1;33m(\u001b[0m\u001b[0ms\u001b[0m\u001b[1;33m)\u001b[0m\u001b[1;33m\u001b[0m\u001b[1;33m\u001b[0m\u001b[0m\n\u001b[0;32m      5\u001b[0m \u001b[1;32mdel\u001b[0m\u001b[1;33m(\u001b[0m\u001b[0ms\u001b[0m\u001b[1;33m)\u001b[0m\u001b[1;33m\u001b[0m\u001b[1;33m\u001b[0m\u001b[0m\n\u001b[1;32m----> 6\u001b[1;33m \u001b[0mprint\u001b[0m\u001b[1;33m(\u001b[0m\u001b[0ms\u001b[0m\u001b[1;33m)\u001b[0m\u001b[1;33m\u001b[0m\u001b[1;33m\u001b[0m\u001b[0m\n\u001b[0m",
      "\u001b[1;31mNameError\u001b[0m: name 's' is not defined"
     ]
    }
   ],
   "source": [
    "# (e)\n",
    "s = {'mango','banana','guava','kiwi'}\n",
    "s.clear()\n",
    "print(s)\n",
    "del(s)\n",
    "print(s)"
   ]
  },
  {
   "cell_type": "code",
   "execution_count": null,
   "metadata": {},
   "outputs": [],
   "source": [
    "# (i)\n",
    "s1 = ()\n",
    "s2 = {}\n",
    "print(type(s1))\n",
    "print(type(s2))"
   ]
  },
  {
   "cell_type": "code",
   "execution_count": null,
   "metadata": {},
   "outputs": [],
   "source": []
  }
 ],
 "metadata": {
  "kernelspec": {
   "display_name": "Python 3",
   "language": "python",
   "name": "python3"
  },
  "language_info": {
   "codemirror_mode": {
    "name": "ipython",
    "version": 3
   },
   "file_extension": ".py",
   "mimetype": "text/x-python",
   "name": "python",
   "nbconvert_exporter": "python",
   "pygments_lexer": "ipython3",
   "version": "3.7.3"
  },
  "toc": {
   "base_numbering": 1,
   "nav_menu": {},
   "number_sections": true,
   "sideBar": true,
   "skip_h1_title": false,
   "title_cell": "Table of Contents",
   "title_sidebar": "Contents",
   "toc_cell": false,
   "toc_position": {},
   "toc_section_display": true,
   "toc_window_display": false
  },
  "varInspector": {
   "cols": {
    "lenName": 16,
    "lenType": 16,
    "lenVar": 40
   },
   "kernels_config": {
    "python": {
     "delete_cmd_postfix": "",
     "delete_cmd_prefix": "del ",
     "library": "var_list.py",
     "varRefreshCmd": "print(var_dic_list())"
    },
    "r": {
     "delete_cmd_postfix": ") ",
     "delete_cmd_prefix": "rm(",
     "library": "var_list.r",
     "varRefreshCmd": "cat(var_dic_list()) "
    }
   },
   "types_to_exclude": [
    "module",
    "function",
    "builtin_function_or_method",
    "instance",
    "_Feature"
   ],
   "window_display": false
  }
 },
 "nbformat": 4,
 "nbformat_minor": 2
}
