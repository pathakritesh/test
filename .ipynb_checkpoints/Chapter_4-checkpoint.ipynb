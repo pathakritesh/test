{
 "cells": [
  {
   "cell_type": "markdown",
   "metadata": {},
   "source": [
    "# Chapter_4"
   ]
  },
  {
   "cell_type": "markdown",
   "metadata": {},
   "source": [
    "## Examples "
   ]
  },
  {
   "cell_type": "code",
   "execution_count": null,
   "metadata": {},
   "outputs": [],
   "source": [
    "#Problem 4.1 \n",
    "#While purchasing certain items, \n",
    "#a discount of 10% is offered if the quantity purchased is more than 1000. \n",
    "#If quantity and price per item are input through the keyboard, \n",
    "#write a program to calculate the total expenses.\n",
    "\n",
    "qty = int(input('enter qty'))\n",
    "dis = 10\n",
    "price = float(input('enter price'))\n",
    "if qty >= 1000:\n",
    "    print(qty*price - qty*price*dis/100)\n",
    "else:\n",
    "    print('you are not eligible ')\n",
    "    \n"
   ]
  },
  {
   "cell_type": "code",
   "execution_count": null,
   "metadata": {},
   "outputs": [],
   "source": [
    "#Problem 4.2\n",
    "#In a company an employee is paid as under: \n",
    "#If his basic salary is less than Rs. 1500, \n",
    "#then HRA = 10% of basic salary and DA = 90% of basic salary. \n",
    "#If his salary is either equal to or above Rs. 1500, \n",
    "#then HRA = Rs. 500 and DA = 98% of basic salary. \n",
    "#If the employee's salary is input through the keyboard \n",
    "#write a program to find his gross salary.\n",
    "\n",
    "bs = int(input('enter your basic salary'))\n",
    "hr1 = 10\n",
    "hra2 = 500\n",
    "da1 = 90\n",
    "da2 = 98\n",
    "if bs<1500:\n",
    "    print(bs+(bs*hr1/100)+ (bs*da1/100))\n",
    "else:\n",
    "    print(bs+(bs+hra2)+ (bs*da2/100))"
   ]
  },
  {
   "cell_type": "code",
   "execution_count": null,
   "metadata": {},
   "outputs": [],
   "source": [
    "#Problem 4.3 \n",
    "#Percentage marks obtained by a student are input through the keyboard. \n",
    "#The student gets a division as per the following rules: \n",
    "#Percentage above or equal to 60 - First division \n",
    "#Percentage between 50 and 59 - Second division \n",
    "#Percentage between 40 and 49 - Third division \n",
    "#Percentage less than 40 - Fail \n",
    "#Write a program to calculate the division obtained by the student.\n",
    "\n",
    "\n",
    "marks_obtained = int(input('enter your marks'))\n",
    "if marks_obtained>= 60:\n",
    "    print('first division')\n",
    "elif marks_obtained>= 50:\n",
    "    print('second division')\n",
    "elif marks_obtained>= 40:\n",
    "    print('third division')\n",
    "else:\n",
    "    print('fail')"
   ]
  },
  {
   "cell_type": "code",
   "execution_count": null,
   "metadata": {},
   "outputs": [],
   "source": [
    "#Problem 4.4 \n",
    "#A company insures its drivers in the following cases: \n",
    "#- If the driver is married. \n",
    "#- If the driver is unmarried, male & above 30 years of age.\n",
    "#- If the driver is unmarried, female & above 25 years of age. \n",
    "#In all other cases, the driver is not insured. \n",
    "#If the marital status, sex and age of the driver are the inputs, write a program\n",
    "\n",
    "\n",
    "mrg = str(input('married or unmarried'))\n",
    "sex = str(input('male or female'))\n",
    "age = int(input('age'))\n",
    "if mrg=='married':\n",
    "    print('eligible')\n",
    "elif mrg=='unmarried':\n",
    "    if sex == 'male' and age >30:\n",
    "        print('eligible')\n",
    "    elif sex == 'female' and age > 25:\n",
    "        print('eligible')\n",
    "    else:\n",
    "        print('not eligible')\n",
    "else:\n",
    "    print('not eligible')"
   ]
  },
  {
   "cell_type": "code",
   "execution_count": 3,
   "metadata": {},
   "outputs": [
    {
     "name": "stdout",
     "output_type": "stream",
     "text": [
      " Enter value of p: 100\n",
      " Enter value of n: 5\n",
      " Enter value of r: 4\n",
      " Simple interest = Rs.  20.0\n",
      " Enter value of p: k\n"
     ]
    },
    {
     "ename": "ValueError",
     "evalue": "could not convert string to float: 'k'",
     "output_type": "error",
     "traceback": [
      "\u001b[1;31m---------------------------------------------------------------------------\u001b[0m",
      "\u001b[1;31mValueError\u001b[0m                                Traceback (most recent call last)",
      "\u001b[1;32m<ipython-input-3-400b891532a5>\u001b[0m in \u001b[0;36m<module>\u001b[1;34m\u001b[0m\n\u001b[0;32m      5\u001b[0m \u001b[0mi\u001b[0m \u001b[1;33m=\u001b[0m \u001b[1;36m1\u001b[0m\u001b[1;33m\u001b[0m\u001b[1;33m\u001b[0m\u001b[0m\n\u001b[0;32m      6\u001b[0m \u001b[1;32mwhile\u001b[0m \u001b[0mi\u001b[0m\u001b[1;33m<=\u001b[0m\u001b[1;36m3\u001b[0m\u001b[1;33m:\u001b[0m\u001b[1;33m\u001b[0m\u001b[1;33m\u001b[0m\u001b[0m\n\u001b[1;32m----> 7\u001b[1;33m     \u001b[0mp\u001b[0m \u001b[1;33m=\u001b[0m \u001b[0mfloat\u001b[0m\u001b[1;33m(\u001b[0m \u001b[0minput\u001b[0m\u001b[1;33m(\u001b[0m\u001b[1;34m' Enter value of p: '\u001b[0m\u001b[1;33m)\u001b[0m\u001b[1;33m)\u001b[0m\u001b[1;33m\u001b[0m\u001b[1;33m\u001b[0m\u001b[0m\n\u001b[0m\u001b[0;32m      8\u001b[0m     \u001b[0mn\u001b[0m \u001b[1;33m=\u001b[0m \u001b[0mint\u001b[0m\u001b[1;33m(\u001b[0m \u001b[0minput\u001b[0m\u001b[1;33m(\u001b[0m\u001b[1;34m' Enter value of n: '\u001b[0m\u001b[1;33m)\u001b[0m\u001b[1;33m)\u001b[0m\u001b[1;33m\u001b[0m\u001b[1;33m\u001b[0m\u001b[0m\n\u001b[0;32m      9\u001b[0m     \u001b[0mr\u001b[0m \u001b[1;33m=\u001b[0m \u001b[0mfloat\u001b[0m\u001b[1;33m(\u001b[0m \u001b[0minput\u001b[0m\u001b[1;33m(\u001b[0m\u001b[1;34m' Enter value of r: '\u001b[0m\u001b[1;33m)\u001b[0m\u001b[1;33m)\u001b[0m\u001b[1;33m\u001b[0m\u001b[1;33m\u001b[0m\u001b[0m\n",
      "\u001b[1;31mValueError\u001b[0m: could not convert string to float: 'k'"
     ]
    }
   ],
   "source": [
    "#Problem 4.5\n",
    "#Write a program that receives 3 sets of values of p, n and r and calculates simple interest for each.\n",
    "\n",
    "\n",
    "i = 1 \n",
    "while i<=3:\n",
    "    p = float( input(' Enter value of p: ')) \n",
    "    n = int( input(' Enter value of n: ')) \n",
    "    r = float( input(' Enter value of r: ')) \n",
    "    si = p * n * r / 100 \n",
    "    print(' Simple interest = Rs. ',(si))\n",
    "i = i+1\n",
    "   "
   ]
  },
  {
   "cell_type": "code",
   "execution_count": null,
   "metadata": {},
   "outputs": [],
   "source": [
    "#Problem 4.6 \n",
    "#Write a program that prints numbers from 1 to 10 using an infinite loop. \n",
    "#All numbers should get printed in the same line.\n",
    "\n",
    "while 1: \n",
    "    for i in range(11):\n",
    "        print(i,end=' ') \n",
    "    break\n",
    "\n",
    "\n"
   ]
  },
  {
   "cell_type": "code",
   "execution_count": null,
   "metadata": {},
   "outputs": [],
   "source": [
    "i = 1 \n",
    "while 1:\n",
    "    print(i,end =' ') \n",
    "    i += 1 \n",
    "    if i>10: \n",
    "        break"
   ]
  },
  {
   "cell_type": "code",
   "execution_count": 47,
   "metadata": {},
   "outputs": [
    {
     "ename": "KeyboardInterrupt",
     "evalue": "",
     "output_type": "error",
     "traceback": [
      "\u001b[1;31m---------------------------------------------------------------------------\u001b[0m",
      "\u001b[1;31mKeyboardInterrupt\u001b[0m                         Traceback (most recent call last)",
      "\u001b[1;32m<ipython-input-47-62fb19548307>\u001b[0m in \u001b[0;36m<module>\u001b[1;34m\u001b[0m\n\u001b[0;32m      4\u001b[0m \u001b[0mi\u001b[0m \u001b[1;33m=\u001b[0m \u001b[1;36m1\u001b[0m\u001b[1;33m\u001b[0m\u001b[1;33m\u001b[0m\u001b[0m\n\u001b[0;32m      5\u001b[0m \u001b[1;32mwhile\u001b[0m \u001b[0mi\u001b[0m \u001b[1;33m<=\u001b[0m \u001b[1;36m3\u001b[0m \u001b[1;33m:\u001b[0m\u001b[1;33m\u001b[0m\u001b[1;33m\u001b[0m\u001b[0m\n\u001b[1;32m----> 6\u001b[1;33m     \u001b[0mj\u001b[0m \u001b[1;33m=\u001b[0m \u001b[1;36m1\u001b[0m\u001b[1;33m\u001b[0m\u001b[1;33m\u001b[0m\u001b[0m\n\u001b[0m\u001b[0;32m      7\u001b[0m \u001b[1;32mwhile\u001b[0m \u001b[0mj\u001b[0m \u001b[1;33m<=\u001b[0m \u001b[1;36m3\u001b[0m \u001b[1;33m:\u001b[0m\u001b[1;33m\u001b[0m\u001b[1;33m\u001b[0m\u001b[0m\n\u001b[0;32m      8\u001b[0m         \u001b[0mk\u001b[0m \u001b[1;33m=\u001b[0m \u001b[1;36m1\u001b[0m\u001b[1;33m\u001b[0m\u001b[1;33m\u001b[0m\u001b[0m\n",
      "\u001b[1;31mKeyboardInterrupt\u001b[0m: "
     ]
    }
   ],
   "source": [
    "###Problem 4.7 \n",
    "#Write a program that prints all unique combinations of 1, 2 and 3.\n",
    "\n",
    "i = 1 \n",
    "while i <= 3 : \n",
    "    j = 1 \n",
    "while j <= 3 : \n",
    "        k = 1 \n",
    "while k <= 3 : \n",
    "    if i == j or j == k or k == i:\n",
    "        k += 1 \n",
    "        continue \n",
    "    else: \n",
    "        print( i, j, k) \n",
    "    k += 1 \n",
    "    j += 1 \n",
    "    i += 1\n"
   ]
  },
  {
   "cell_type": "code",
   "execution_count": 18,
   "metadata": {},
   "outputs": [
    {
     "name": "stdout",
     "output_type": "stream",
     "text": [
      "Decimal value = 1\n",
      "Decimal value = 3\n",
      "Decimal value = 7\n",
      "Decimal value = 15\n",
      "Decimal value = 31\n"
     ]
    }
   ],
   "source": [
    "#Problem 4.8 \n",
    "#Write a program that obtains decimal value of a binary numeric string. \n",
    "#Fr example, decimal value of '1111' is 15.\n",
    "\n",
    "b = '1111' \n",
    "i = 0 \n",
    "while b: \n",
    "    i = i * 2 + (ord(b[0]) - ord('0')) \n",
    "    b = b[1:] \n",
    "    print('Decimal value = '+str(i))\n"
   ]
  },
  {
   "cell_type": "code",
   "execution_count": 34,
   "metadata": {},
   "outputs": [
    {
     "name": "stdout",
     "output_type": "stream",
     "text": [
      " Enter value of num: 20\n",
      " Not a prime number\n"
     ]
    }
   ],
   "source": [
    "#Problem 4.9 \n",
    "#Write a program that receives an integer and determines whether it is a prime number or not.\n",
    "\n",
    "num = int(input(' Enter value of num: ')) \n",
    "i = 2 \n",
    "while i <= num - 1:\n",
    "    if num % i == 0:\n",
    "        print(' Not a prime number') \n",
    "        break\n",
    "    else:\n",
    "        print('Prime number')\n",
    "    i += 1 \n",
    "    break"
   ]
  },
  {
   "cell_type": "code",
   "execution_count": null,
   "metadata": {},
   "outputs": [],
   "source": [
    "num = int( input(' Enter value of num: ')) \n",
    "i = 2 \n",
    "while i <= num - 1 : \n",
    "    if num % i == 0 : \n",
    "        print(' Not a prime number') \n",
    "        break \n",
    "    i += 1\n",
    "else : \n",
    "    print(' Prime number')"
   ]
  },
  {
   "cell_type": "code",
   "execution_count": 35,
   "metadata": {},
   "outputs": [
    {
     "name": "stdout",
     "output_type": "stream",
     "text": [
      "A,B,C,D,E,F,G,H,I,J,K,L,M,N,O,P,Q,R,S,T,U,V,W,X,Y,Z,\n",
      "z,y,x,w,v,u,t,s,r,q,p,o,n,m,l,k,j,i,h,g,f,e,d,c,b,a,"
     ]
    }
   ],
   "source": [
    "#Problem 4.10 \n",
    "#Write a program that generates the following output using a for loop: \n",
    "#A, B, C, D, E, F, G, H, I, J, K, L, M, N, O, P, Q, R, S, T, U, V, W, X, Y, Z, \n",
    "#z, y, x, w, v, u, t, s, r, q, p, o, n, m, l, k, j, i, h, g, f, e, d, c, b, a,\n",
    "\n",
    "\n",
    "for alpha in range( 65,91) :\n",
    "    print( chr( alpha), end =',')\n",
    "print( ) \n",
    "for alpha in range( 122,96, -1) :\n",
    "    print( chr( alpha), end =',')\n",
    "\n",
    "\n"
   ]
  },
  {
   "cell_type": "code",
   "execution_count": 13,
   "metadata": {},
   "outputs": [
    {
     "name": "stdout",
     "output_type": "stream",
     "text": [
      " True\n",
      " True\n",
      " True\n",
      " True\n"
     ]
    }
   ],
   "source": [
    "#Problem 4.11 \n",
    "#Suppose there are four flag variables w, x, y, z. \n",
    "#Write a program to check in multiple ways whether one of them is true.\n",
    "\n",
    "w, x, y, z = 0, 1, 0, 1 \n",
    "if w == 1 or x == 1 or y == 1 or z == 1 :\n",
    "    print(' True') \n",
    "if w or x or y or z :\n",
    "    print(' True') \n",
    "if any(( w, x, y, z)):\n",
    "    print(' True') \n",
    "if 1 in (w, x, y, z) :\n",
    "    print(' True')\n",
    " "
   ]
  },
  {
   "cell_type": "code",
   "execution_count": 16,
   "metadata": {},
   "outputs": [
    {
     "name": "stdout",
     "output_type": "stream",
     "text": [
      " Enter a number: 0\n"
     ]
    }
   ],
   "source": [
    "#Problem 4.12 \n",
    "#Given a number n we wish to do the following: \n",
    "#If n is positive - print n * n, set a flag to true \n",
    "#If n is negative - print n * n * n, set a flag to true \n",
    "#if n is 0 - do nothing \n",
    "#Is the code given below correct for this logic? \n",
    "n = int( input(' Enter a number: ')) \n",
    "if n>0: \n",
    "    flag = True \n",
    "    print(n*n) \n",
    "elif n<0: \n",
    "    flag = True \n",
    "    print(n*n*n)\n",
    "else:\n",
    "    pass"
   ]
  },
  {
   "cell_type": "markdown",
   "metadata": {},
   "source": [
    "# Excercise "
   ]
  },
  {
   "cell_type": "code",
   "execution_count": 58,
   "metadata": {},
   "outputs": [
    {
     "ename": "SyntaxError",
     "evalue": "invalid syntax (<ipython-input-58-e0ac98432711>, line 8)",
     "output_type": "error",
     "traceback": [
      "\u001b[1;36m  File \u001b[1;32m\"<ipython-input-58-e0ac98432711>\"\u001b[1;36m, line \u001b[1;32m8\u001b[0m\n\u001b[1;33m    if a<10 or b==20:\u001b[0m\n\u001b[1;37m                    ^\u001b[0m\n\u001b[1;31mSyntaxError\u001b[0m\u001b[1;31m:\u001b[0m invalid syntax\n"
     ]
    }
   ],
   "source": [
    "#[A] Answer the following: \n",
    "#(a) Write conditional expressions for\n",
    "#- If a < 10 b = 20, else b = 30 - Print 'Morning' if time < 12, otherwise print 'Afternoon' \n",
    "\n",
    "a = int(input('enter value of a'))\n",
    "b = int(input('enter value of b'))\n",
    "time = int(input('enter value of time')\n",
    "if a<10 or b==20:\n",
    "    print('morning')\n",
    "elif b==30:\n",
    "    print('afternoon')\n",
    "elif time<12:\n",
    "    print('morning')\n",
    "else:\n",
    "    print('afternoon')\n",
    "\n",
    "\n"
   ]
  },
  {
   "cell_type": "code",
   "execution_count": 67,
   "metadata": {},
   "outputs": [
    {
     "name": "stdout",
     "output_type": "stream",
     "text": [
      " x and y are not equal\n"
     ]
    }
   ],
   "source": [
    "###(b) Rewrite the following code snippet in 1 line: \n",
    "#x = 3 y = 3.0 if x == y : print(' x and y are equal') else : print(' x and y are not equal')\n",
    "\n",
    "x = 3\n",
    "y = 3.0 \n",
    "if x is y:\n",
    "    print(' x and y are equal') \n",
    "else :\n",
    "    print(' x and y are not equal')"
   ]
  },
  {
   "cell_type": "code",
   "execution_count": 24,
   "metadata": {},
   "outputs": [
    {
     "name": "stdout",
     "output_type": "stream",
     "text": [
      "4 20 4 -1\n"
     ]
    }
   ],
   "source": [
    "#[B] What will be the output of the following programs: \n",
    "(a) \n",
    "i, j, k,l= 4, -1, 10, 20\n",
    "w = i or j or k and l\n",
    "x = i and j and k and l\n",
    "y = i or j and k and l\n",
    "z = i and j or k or l\n",
    "\n",
    "print(w,x,y,z)"
   ]
  },
  {
   "cell_type": "code",
   "execution_count": 22,
   "metadata": {},
   "outputs": [
    {
     "name": "stdout",
     "output_type": "stream",
     "text": [
      "4\n"
     ]
    }
   ],
   "source": [
    "i,j = -5,4\n",
    "print(i and j)"
   ]
  },
  {
   "cell_type": "code",
   "execution_count": 25,
   "metadata": {},
   "outputs": [
    {
     "name": "stdout",
     "output_type": "stream",
     "text": [
      "True\n"
     ]
    }
   ],
   "source": [
    "#(b) \n",
    "a = 10 \n",
    "a = not not a \n",
    "print(a) "
   ]
  },
  {
   "cell_type": "code",
   "execution_count": 26,
   "metadata": {},
   "outputs": [
    {
     "name": "stdout",
     "output_type": "stream",
     "text": [
      " biggest = 45\n"
     ]
    }
   ],
   "source": [
    "#(c) \n",
    "x, y, z = 20, 40, 45 \n",
    "if x > y and x > z : \n",
    "    print(' biggest = ' + str( x)) \n",
    "elif ( y > x and y > z ): \n",
    "    print(' biggest = ' + str( y)) \n",
    "elif ( z > x and z > y ):\n",
    "    print(' biggest = ' + str( z)) "
   ]
  },
  {
   "cell_type": "code",
   "execution_count": null,
   "metadata": {},
   "outputs": [],
   "source": [
    "#(d) \n",
    "num = 30 \n",
    "k = 100 \n",
    "if num <= 10:\n",
    "    pass\n",
    "else:\n",
    "    print( k)"
   ]
  },
  {
   "cell_type": "code",
   "execution_count": 27,
   "metadata": {},
   "outputs": [
    {
     "name": "stdout",
     "output_type": "stream",
     "text": [
      "not equal\n"
     ]
    }
   ],
   "source": [
    "#[C] Point out the errors, if any, in the following programs: \n",
    "#(a) \n",
    "a = 12.25\n",
    "b = 12.52 \n",
    "if a == b:  # : missing and a==b is missing\n",
    "    print(' a and b are equal')\n",
    "else:\n",
    "    print('not equal')  # no output msg if 'if'condition not satisfied "
   ]
  },
  {
   "cell_type": "code",
   "execution_count": 28,
   "metadata": {},
   "outputs": [
    {
     "name": "stdout",
     "output_type": "stream",
     "text": [
      " Unicode value of X is smaller than that of x\n"
     ]
    }
   ],
   "source": [
    "#(b)\n",
    "if ord('X') < ord('x'):  # : missing\n",
    "    print(' Unicode value of X is smaller than that of x') \n"
   ]
  },
  {
   "cell_type": "code",
   "execution_count": 29,
   "metadata": {},
   "outputs": [
    {
     "name": "stdout",
     "output_type": "stream",
     "text": [
      "x\n"
     ]
    }
   ],
   "source": [
    "#(c) \n",
    "x = 10 \n",
    "if x >= 2:  #  then # : missing and then is not a defined character \n",
    "    print('x')\n"
   ]
  },
  {
   "cell_type": "code",
   "execution_count": 30,
   "metadata": {},
   "outputs": [
    {
     "name": "stdout",
     "output_type": "stream",
     "text": [
      " Carpathians\n",
      "\n"
     ]
    }
   ],
   "source": [
    "#(d) \n",
    "x = 10 ; y = 15 \n",
    "if x%2 == y%3:  # : missing \n",
    "    print(' Carpathians\\n') "
   ]
  },
  {
   "cell_type": "code",
   "execution_count": 31,
   "metadata": {},
   "outputs": [
    {
     "name": "stdout",
     "output_type": "stream",
     "text": [
      " x is less than y\n"
     ]
    }
   ],
   "source": [
    "#(e) \n",
    "x, y = 30, 40 \n",
    "if x == y : \n",
    "    print('x is equal to y') \n",
    "elif x>y :  # wrong keyword elseif\n",
    "    print('x is greater than y') \n",
    "elif x<y :  # wrong keyword elseif\n",
    "    print('x is less than y')"
   ]
  },
  {
   "cell_type": "code",
   "execution_count": 32,
   "metadata": {},
   "outputs": [
    {
     "data": {
      "text/plain": [
       "True"
      ]
     },
     "execution_count": 32,
     "metadata": {},
     "output_type": "execute_result"
    }
   ],
   "source": [
    "#[D] \n",
    "#If a = 10, b = 12, c = 0, \n",
    "#find the values of the following expressions: \n",
    "#a != 6 and b > 5 a = = 9 or b < 3 not( a < 10 ) not ( a > 5 and c ) 5 and c != 8 or !c\n",
    "a = 10\n",
    "b = 12\n",
    "c = 0\n",
    "a != 6 and b>5\n",
    "a == 9 or b<3\n",
    "not(a<10)\n",
    "not(a>5 and c)\n",
    "5 and c != 8 or c"
   ]
  },
  {
   "cell_type": "code",
   "execution_count": null,
   "metadata": {},
   "outputs": [],
   "source": [
    "#[E] Attempt the following: "
   ]
  },
  {
   "cell_type": "code",
   "execution_count": 33,
   "metadata": {},
   "outputs": [
    {
     "name": "stdout",
     "output_type": "stream",
     "text": [
      "The number of digits is:\n",
      "6\n",
      "The number of characters is:\n",
      "6\n"
     ]
    }
   ],
   "source": [
    "#(a) Write a program to count the number of alphabets and number of digits in the string 'Nagpur-440010'\n",
    "\n",
    "val = 'Nagpur-440010'\n",
    "count1=0\n",
    "count2=0\n",
    "for i in val:\n",
    "    if(i.isdigit()):\n",
    "            count1+=1\n",
    "    elif(i.isalpha()):\n",
    "          count2+=1\n",
    "print(\"The number of digits is:\")\n",
    "print(count1)\n",
    "print(\"The number of characters is:\")\n",
    "print(count2)"
   ]
  },
  {
   "cell_type": "code",
   "execution_count": 34,
   "metadata": {},
   "outputs": [
    {
     "name": "stdout",
     "output_type": "stream",
     "text": [
      "enter number3\n",
      "odd number\n"
     ]
    }
   ],
   "source": [
    "#(b) Any integer is input through the keyboard. Write a program to find out whether it is an odd number or even number. \n",
    "\n",
    "v = int(input('enter number'))\n",
    "if v%2 == 0:\n",
    "    print('even number')\n",
    "else:\n",
    "    print('odd number')\n",
    "    "
   ]
  },
  {
   "cell_type": "code",
   "execution_count": 38,
   "metadata": {},
   "outputs": [
    {
     "name": "stdout",
     "output_type": "stream",
     "text": [
      "enter year2019\n",
      "not a leap year\n"
     ]
    }
   ],
   "source": [
    "#(c) Any year is input through the keyboard. Write a program to determine whether the year is a leap year or not. \n",
    "\n",
    "lp = int(input('enter year'))\n",
    "if lp%4 == 0:\n",
    "    print('leap year')\n",
    "else:\n",
    "    print('not a leap year')"
   ]
  },
  {
   "cell_type": "code",
   "execution_count": 2,
   "metadata": {},
   "outputs": [
    {
     "name": "stdout",
     "output_type": "stream",
     "text": [
      "Please Enter any Number: -111\n",
      "\n",
      " Reverse of entered number is = 0\n",
      "number is not same\n"
     ]
    }
   ],
   "source": [
    "\n",
    "#(d) A five-digit number is entered through the keyboard. \n",
    "#Write a program to obtain the reversed number and to determine whether the original and reversed numbers are equal or not.\n",
    "\n",
    "Number = int(input(\"Please Enter any Number: \"))    \n",
    "s = Number\n",
    "Reverse = 0    \n",
    "while(Number > 0):    \n",
    "    Reminder = Number %10    \n",
    "    Reverse = (Reverse *10) + Reminder    \n",
    "    Number = Number //10\n",
    "\n",
    "print(\"\\n Reverse of entered number is = %d\" %Reverse)\n",
    "n = s\n",
    "r = Reverse\n",
    "if n==r:\n",
    "    print('number is same')\n",
    "else:\n",
    "    print('number is not same')\n"
   ]
  },
  {
   "cell_type": "code",
   "execution_count": 43,
   "metadata": {},
   "outputs": [
    {
     "name": "stdout",
     "output_type": "stream",
     "text": [
      "enter Ram age20\n",
      "enter Shyam age15\n",
      "enter Ajay age12\n",
      "Ajay is younger\n"
     ]
    }
   ],
   "source": [
    "#(e) If ages of Ram, Shyam and Ajay are input through the keyboard, write a program to determine the youngest of the three.\n",
    "Ram = int(input('enter Ram age'))\n",
    "Shyam = int(input('enter Shyam age'))\n",
    "Ajay = int(input('enter Ajay age'))\n",
    "if Ram<Shyam and Ram<Ajay:\n",
    "    print('ram is younger')\n",
    "elif Ajay<Shyam and Ajay<Ram:\n",
    "    print('Ajay is younger')\n",
    "elif Shyam<Ram and Shyam<Ajay:\n",
    "    print('Shyam is younger')\n",
    "else:\n",
    "    print('all are equal age')"
   ]
  },
  {
   "cell_type": "code",
   "execution_count": 44,
   "metadata": {},
   "outputs": [
    {
     "name": "stdout",
     "output_type": "stream",
     "text": [
      "enter angle 1: 60\n",
      "enter angle 2: 60\n",
      "enter angle 3: 60\n",
      "valid triangle\n"
     ]
    }
   ],
   "source": [
    "#(f) Write a program to check whether a triangle is valid or not, \n",
    "#when the three angles of the triangle are entered through the keyboard. \n",
    "#A triangle is valid if the sum of all the three angles is equal to 180 degrees. \n",
    "a= int(input('enter angle 1: '))\n",
    "b = int(input('enter angle 2: '))\n",
    "c = int(input('enter angle 3: '))\n",
    "s = a+b+c\n",
    "if s==180:\n",
    "    print('valid triangle')\n",
    "else:\n",
    "    print('not valid')"
   ]
  },
  {
   "cell_type": "code",
   "execution_count": 46,
   "metadata": {},
   "outputs": [
    {
     "name": "stdout",
     "output_type": "stream",
     "text": [
      "enter number: -2.34\n",
      "2.34\n"
     ]
    }
   ],
   "source": [
    "#(g) Write a program to find the absolute value of a number entered through the keyboard. \n",
    "\n",
    "a= float(input('enter number: '))\n",
    "b= abs(a)\n",
    "print(b)"
   ]
  },
  {
   "cell_type": "code",
   "execution_count": 50,
   "metadata": {},
   "outputs": [
    {
     "name": "stdout",
     "output_type": "stream",
     "text": [
      "perimeter is greater than area\n"
     ]
    }
   ],
   "source": [
    "#(h) Given the length and breadth of a rectangle, \n",
    "#write a program to find whether the area of the rectangle is greater than its perimeter. \n",
    "#For example, the area of the rectangle with length = 5 and breadth = 4 is greater than its perimeter.\n",
    "import math\n",
    "l = 5\n",
    "b = 4\n",
    "p = 2*(l+b)\n",
    "if l>p and b>p:\n",
    "    print('area is greater than perimeter')\n",
    "else:\n",
    "    print('perimeter is greater than area')"
   ]
  },
  {
   "cell_type": "code",
   "execution_count": 73,
   "metadata": {},
   "outputs": [
    {
     "name": "stdout",
     "output_type": "stream",
     "text": [
      "enter value of x1: 1\n",
      "enter value of x2: 1\n",
      "enter value of x3: 1\n",
      "enter value of y1: 1\n",
      "enter value of y2: 1\n",
      "enter value of y3: 1\n"
     ]
    },
    {
     "ename": "ZeroDivisionError",
     "evalue": "float division by zero",
     "output_type": "error",
     "traceback": [
      "\u001b[1;31m---------------------------------------------------------------------------\u001b[0m",
      "\u001b[1;31mZeroDivisionError\u001b[0m                         Traceback (most recent call last)",
      "\u001b[1;32m<ipython-input-73-80563743ab32>\u001b[0m in \u001b[0;36m<module>\u001b[1;34m\u001b[0m\n\u001b[0;32m     10\u001b[0m \u001b[0my3\u001b[0m \u001b[1;33m=\u001b[0m \u001b[0mfloat\u001b[0m\u001b[1;33m(\u001b[0m\u001b[0minput\u001b[0m\u001b[1;33m(\u001b[0m\u001b[1;34m'enter value of y3: '\u001b[0m\u001b[1;33m)\u001b[0m\u001b[1;33m)\u001b[0m\u001b[1;33m\u001b[0m\u001b[1;33m\u001b[0m\u001b[0m\n\u001b[0;32m     11\u001b[0m \u001b[0mm\u001b[0m \u001b[1;33m=\u001b[0m \u001b[1;33m(\u001b[0m\u001b[0my2\u001b[0m\u001b[1;33m-\u001b[0m\u001b[0my1\u001b[0m\u001b[1;33m/\u001b[0m\u001b[0mx2\u001b[0m\u001b[1;33m-\u001b[0m\u001b[0mx1\u001b[0m\u001b[1;33m)\u001b[0m\u001b[1;33m\u001b[0m\u001b[1;33m\u001b[0m\u001b[0m\n\u001b[1;32m---> 12\u001b[1;33m \u001b[0mn\u001b[0m \u001b[1;33m=\u001b[0m \u001b[1;33m(\u001b[0m\u001b[0my3\u001b[0m\u001b[1;33m-\u001b[0m\u001b[0my2\u001b[0m\u001b[1;33m)\u001b[0m\u001b[1;33m/\u001b[0m\u001b[1;33m(\u001b[0m\u001b[0mx3\u001b[0m\u001b[1;33m-\u001b[0m\u001b[0mx2\u001b[0m\u001b[1;33m)\u001b[0m\u001b[1;33m\u001b[0m\u001b[1;33m\u001b[0m\u001b[0m\n\u001b[0m\u001b[0;32m     13\u001b[0m \u001b[1;33m\u001b[0m\u001b[0m\n\u001b[0;32m     14\u001b[0m \u001b[1;32mif\u001b[0m \u001b[0mm\u001b[0m\u001b[1;33m==\u001b[0m\u001b[0mn\u001b[0m\u001b[1;33m:\u001b[0m\u001b[1;33m\u001b[0m\u001b[1;33m\u001b[0m\u001b[0m\n",
      "\u001b[1;31mZeroDivisionError\u001b[0m: float division by zero"
     ]
    }
   ],
   "source": [
    "#(i) Given three points (x1, y1), (x2, y2) and (x3, y3), \n",
    "#write a program to check if all the three points fall on one straight line. \n",
    "\n",
    "\n",
    "x1 = float(input('enter value of x1: '))\n",
    "x2 = float(input('enter value of x2: '))\n",
    "x3 = float(input('enter value of x3: '))\n",
    "y1 = float(input('enter value of y1: '))\n",
    "y2 = float(input('enter value of y2: '))\n",
    "y3 = float(input('enter value of y3: '))\n",
    "m = (y2-y1/x2-x1)\n",
    "n = (y3-y2)/(x3-x2)\n",
    "\n",
    "if m==n:\n",
    "    print('all lines on one st line')\n",
    "else:\n",
    "    print('line not equal')"
   ]
  },
  {
   "cell_type": "code",
   "execution_count": 75,
   "metadata": {},
   "outputs": [
    {
     "name": "stdout",
     "output_type": "stream",
     "text": [
      "enter value of x5\n",
      "enter value of y6\n",
      "enter value of r4\n",
      "outside the circle\n"
     ]
    }
   ],
   "source": [
    "# (j) Given the coordinates (x, y) of center of a circle and its radius, \n",
    "\n",
    "#write a program that will determine whether a point lies inside the circle, on the circle or outside the circle. \n",
    "#(Hint: Use sqrt( ) and pow( ) functions) \n",
    "import math\n",
    "x = float(input('enter value of x'))\n",
    "y = float(input('enter value of y'))\n",
    "r = float(input('enter value of r'))\n",
    "l = math.pow(x,2)\n",
    "m = math.pow(y,2)\n",
    "n = math.pow(r,2)\n",
    "f = l+m\n",
    "g = math.sqrt(f)\n",
    "n = math.sqrt(n)\n",
    "if g<=n:\n",
    "    print('point inside the circle')\n",
    "else:\n",
    "    print('outside the circle')"
   ]
  },
  {
   "cell_type": "code",
   "execution_count": 78,
   "metadata": {},
   "outputs": [
    {
     "name": "stdout",
     "output_type": "stream",
     "text": [
      "enter value of x0\n",
      "enter value of y5\n",
      "point lies on y axis\n",
      "some where in x and y\n"
     ]
    }
   ],
   "source": [
    "#(k) Given a point (x, y), \n",
    "#write a program to find out if it lies on the X-axis, Y-axis or on the origin. \n",
    "x= float(input('enter value of x'))\n",
    "y= float(input('enter value of y'))\n",
    "if x==0 and y>0:\n",
    "    print('point lies on y axis')\n",
    "if y==0 and x>0:\n",
    "    print('point lies on x axis')\n",
    "if x==0 and y==0:\n",
    "    print('point lies on orgin')\n",
    "else:\n",
    "    print('some where in x and y')\n",
    "    "
   ]
  },
  {
   "cell_type": "code",
   "execution_count": 6,
   "metadata": {},
   "outputs": [
    {
     "name": "stdout",
     "output_type": "stream",
     "text": [
      "enter year100\n",
      "leap year\n"
     ]
    }
   ],
   "source": [
    "#(l) A year is entered through the keyboard, write a program to determine whether the year is leap or not. \n",
    "#Use the logical operators and and or.\n",
    "\n",
    "lp = int(input('enter year'))\n",
    "if lp%4 is 0 or lp/4 is 0 :\n",
    "    print('leap year')\n",
    "else:\n",
    "    print('not a leap year')"
   ]
  },
  {
   "cell_type": "code",
   "execution_count": null,
   "metadata": {},
   "outputs": [],
   "source": [
    "#(m) If the three sides of a triangle are entered through the keyboard, \n",
    "#write a program to check whether the triangle is valid or not. \n",
    "#The triangle is valid if the sum of two sides is greater than the largest of the three sides.\n",
    "\n",
    "a= int(input('enter angle 1: '))\n",
    "b = int(input('enter angle 2: '))\n",
    "c = int(input('enter angle 3: '))\n",
    "s = a+b\n",
    "if s>c:\n",
    "    print('valid triangle')\n",
    "else:\n",
    "    print('not valid')"
   ]
  },
  {
   "cell_type": "code",
   "execution_count": null,
   "metadata": {},
   "outputs": [],
   "source": [
    "#(n) If the three sides of a triangle are entered through the keyboard, \n",
    "#write a program to check whether the triangle is isosceles, equilateral, scalene or right angled triangle. \n",
    "a = int(input('enter angle 1: '))\n",
    "b = int(input('enter angle 2: '))\n",
    "c = int(input('enter angle 3: '))\n",
    "if a==b==c:\n",
    "    print('Equilateral triangle')\n",
    "if a==b:\n",
    "    print('isosceles triangles')\n",
    "if a!=b!=c:\n",
    "    print('scalene triangle')\n",
    "if a==90 or b==90 or c==90:\n",
    "    print('right triangle')\n",
    "if a>90 and b>90 and c>90:\n",
    "    print('obtus triangle')\n",
    "if a<90 and b<90 and c<90:\n",
    "    print('acute triangle') \n",
    "\n",
    "else:\n",
    "    print('enter valid keyword')\n",
    " \n"
   ]
  },
  {
   "cell_type": "code",
   "execution_count": 79,
   "metadata": {},
   "outputs": [
    {
     "name": "stdout",
     "output_type": "stream",
     "text": [
      "enter over time5\n",
      "total wage to pay 5400\n"
     ]
    }
   ],
   "source": [
    "#(o) Write a program to calculate overtime pay of 10 employees. \n",
    "#Overtime is paid at the rate of Rs. 12.00 per hour for every hour worked above 40 hours. \n",
    "#Assume that employees do not work for fractional part of an hour. \n",
    "\n",
    "emp_no = 10\n",
    "work_hour = 40\n",
    "ot = int(input('enter over time'))\n",
    "rate = 12\n",
    "total_work = work_hour + ot\n",
    "if work_hour<total_work:\n",
    "    print('total wage to pay',total_work*rate*emp_no)\n",
    "else:\n",
    "    print('error')\n"
   ]
  },
  {
   "cell_type": "code",
   "execution_count": 80,
   "metadata": {},
   "outputs": [
    {
     "name": "stdout",
     "output_type": "stream",
     "text": [
      "enter number for factorial: 8\n",
      "The factorial of 8 is 40320\n"
     ]
    }
   ],
   "source": [
    "#(p) Write a program to find the factorial value of any number entered through the keyboard.\n",
    "\n",
    "n = int(input('enter number for factorial: '))\n",
    "f = 1\n",
    "if n < 0:\n",
    "    print(\"factorial does not exist\")\n",
    "elif n == 0:\n",
    "    print(\"The factorial of 0 is 1\")\n",
    "else:\n",
    "    for i in range(1,n + 1):\n",
    "        f *= i\n",
    "    print(\"The factorial of\",n,\"is\",f)"
   ]
  },
  {
   "cell_type": "code",
   "execution_count": 81,
   "metadata": {},
   "outputs": [
    {
     "name": "stdout",
     "output_type": "stream",
     "text": [
      "0\n",
      "1\n",
      "153\n",
      "370\n",
      "371\n",
      "407\n"
     ]
    }
   ],
   "source": [
    "#solved##(q) Write a program to print out all Armstrong numbers between 1 and 500. \n",
    "#If sum of cubes of each digit of the number is equal to the number itself, then the number is called an Armstrong number. \n",
    "#For example, 153 = ( 1 * 1 * 1 ) + ( 5 * 5 * 5 ) + ( 3 * 3 * 3 ). \n",
    "for k in range(0,9):\n",
    "    o = str(k)\n",
    "    w = list(o)\n",
    "    w1 =int(w[0])\n",
    "    var1 = (w1*w1*w1)\n",
    "    if k ==var1:\n",
    "        print(var1)\n",
    "        \n",
    "for j in range(10,99):\n",
    "    n = str(j)\n",
    "    x = list(n)\n",
    "    y =int(x[0])\n",
    "    z = int(x[1])\n",
    "    var = (y*y*y) + (z*z*z)\n",
    "    if j ==var:\n",
    "        print(var)\n",
    "        \n",
    "for i in range(100,500):\n",
    "    m = str(i)\n",
    "    c = list(m)\n",
    "    d =int(c[0])\n",
    "    e = int(c[1])\n",
    "    f = int(c[2])\n",
    "    mult = (d*d*d) + (e*e*e) + (f*f*f)\n",
    "    if i ==mult:\n",
    "        print(mult)"
   ]
  },
  {
   "cell_type": "code",
   "execution_count": 27,
   "metadata": {},
   "outputs": [
    {
     "name": "stdout",
     "output_type": "stream",
     "text": [
      " Enter value of num: 15\n",
      " Not a prime number\n"
     ]
    }
   ],
   "source": [
    "#solved##(r) Write a program to print all prime numbers from 1 to 300. \n",
    "\n",
    "num = int( input(' Enter value of num: ')) \n",
    "i = 2 \n",
    "while i <= num - 1 : \n",
    "    if num % i == 0 : \n",
    "        print(' Not a prime number') \n",
    "        break \n",
    "    i += 1\n",
    "else : \n",
    "    print(' Prime number')"
   ]
  },
  {
   "cell_type": "code",
   "execution_count": 82,
   "metadata": {
    "scrolled": true
   },
   "outputs": [
    {
     "name": "stdout",
     "output_type": "stream",
     "text": [
      " Prime number 0\n",
      " Prime number 1\n",
      " Prime number 2\n",
      " Prime number 3\n",
      " Prime number 5\n",
      " Prime number 7\n",
      " Prime number 11\n",
      " Prime number 13\n",
      " Prime number 17\n",
      " Prime number 19\n",
      " Prime number 23\n",
      " Prime number 29\n",
      " Prime number 31\n",
      " Prime number 37\n",
      " Prime number 41\n",
      " Prime number 43\n",
      " Prime number 47\n",
      " Prime number 53\n",
      " Prime number 59\n",
      " Prime number 61\n",
      " Prime number 67\n",
      " Prime number 71\n",
      " Prime number 73\n",
      " Prime number 79\n",
      " Prime number 83\n",
      " Prime number 89\n",
      " Prime number 97\n",
      " Prime number 101\n",
      " Prime number 103\n",
      " Prime number 107\n",
      " Prime number 109\n",
      " Prime number 113\n",
      " Prime number 127\n",
      " Prime number 131\n",
      " Prime number 137\n",
      " Prime number 139\n",
      " Prime number 149\n",
      " Prime number 151\n",
      " Prime number 157\n",
      " Prime number 163\n",
      " Prime number 167\n",
      " Prime number 173\n",
      " Prime number 179\n",
      " Prime number 181\n",
      " Prime number 191\n",
      " Prime number 193\n",
      " Prime number 197\n",
      " Prime number 199\n",
      " Prime number 211\n",
      " Prime number 223\n",
      " Prime number 227\n",
      " Prime number 229\n",
      " Prime number 233\n",
      " Prime number 239\n",
      " Prime number 241\n",
      " Prime number 251\n",
      " Prime number 257\n",
      " Prime number 263\n",
      " Prime number 269\n",
      " Prime number 271\n",
      " Prime number 277\n",
      " Prime number 281\n",
      " Prime number 283\n",
      " Prime number 293\n"
     ]
    }
   ],
   "source": [
    "for num in range(300):\n",
    "    i = 2 \n",
    "    while i <= num - 1 : \n",
    "        if num % i == 0 : \n",
    "            #print(' Not a prime number',num) \n",
    "            break \n",
    "        i += 1\n",
    "    else : \n",
    "        print(' Prime number',num)"
   ]
  },
  {
   "cell_type": "code",
   "execution_count": 24,
   "metadata": {
    "collapsed": true
   },
   "outputs": [
    {
     "name": "stdout",
     "output_type": "stream",
     "text": [
      "1\n",
      "7\n",
      "13\n",
      "17\n",
      "19\n",
      "23\n",
      "29\n",
      "31\n",
      "37\n",
      "41\n",
      "43\n",
      "47\n",
      "49\n",
      "53\n",
      "59\n",
      "61\n",
      "67\n",
      "71\n",
      "73\n",
      "79\n",
      "83\n",
      "89\n",
      "91\n",
      "97\n",
      "101\n",
      "103\n",
      "107\n",
      "109\n",
      "113\n",
      "119\n",
      "127\n",
      "131\n",
      "133\n",
      "137\n",
      "139\n",
      "149\n",
      "151\n",
      "157\n",
      "161\n",
      "163\n",
      "167\n",
      "169\n",
      "173\n",
      "179\n",
      "181\n",
      "191\n",
      "193\n",
      "197\n",
      "199\n",
      "203\n",
      "211\n",
      "217\n",
      "221\n",
      "223\n",
      "227\n",
      "229\n",
      "233\n",
      "239\n",
      "241\n",
      "247\n",
      "251\n",
      "257\n",
      "259\n",
      "263\n",
      "269\n",
      "271\n",
      "277\n",
      "281\n",
      "283\n",
      "287\n",
      "289\n",
      "293\n",
      "299\n"
     ]
    }
   ],
   "source": [
    "#num = int( input(' Enter value of num: ')) \n",
    "i = 2 \n",
    "k = 3\n",
    "m = 5\n",
    "n = 11\n",
    "#while i <= num - 1 : \n",
    "for j in range(1,300):\n",
    "    if j % i != 0 and j % k != 0 and j % m != 0 and j% n: \n",
    "        print(j)"
   ]
  },
  {
   "cell_type": "code",
   "execution_count": 84,
   "metadata": {},
   "outputs": [
    {
     "name": "stdout",
     "output_type": "stream",
     "text": [
      "enter table of digit 100\n",
      "29 * 1 = 100\n",
      "29 * 2 = 200\n",
      "29 * 3 = 300\n",
      "29 * 4 = 400\n",
      "29 * 5 = 500\n",
      "29 * 6 = 600\n",
      "29 * 7 = 700\n",
      "29 * 8 = 800\n",
      "29 * 9 = 900\n",
      "29 * 10 = 1000\n"
     ]
    }
   ],
   "source": [
    "#(s) Write a program to print the multiplication table of the number entered by the user. \n",
    "#The table should get displayed in the following form: 29 * 1 = 29 29 * 2 = 58 & \n",
    "\n",
    "v = int(input('enter table of digit '))\n",
    "for i in range(10):\n",
    "    print('29 ''*',i+1,'=',v*(i+1))\n",
    "    \n"
   ]
  },
  {
   "cell_type": "code",
   "execution_count": null,
   "metadata": {},
   "outputs": [],
   "source": [
    "#(t) When interest compounds q times per year at an annual rate of r % for n years, \n",
    "#the principal p compounds to an amount a as per the following formula a = p ( 1 + r / q ) nq \n",
    "#Write a program to read 10 sets of p, r, n & q and calculate the corresponding as. \n",
    "\n",
    "\n",
    "\n",
    "n = 1\n",
    "while True :\n",
    "    if n<=10:\n",
    "        p = float(input('enter principle'))\n",
    "        q = float(input('enter time'))\n",
    "        r = float(input('enter rate'))\n",
    "        a = p*(1+(r/q))*n*q\n",
    "        n +=1\n",
    "        print('amount',a*n)\n",
    "    if n==11:\n",
    "        break"
   ]
  },
  {
   "cell_type": "code",
   "execution_count": 1,
   "metadata": {},
   "outputs": [
    {
     "name": "stdout",
     "output_type": "stream",
     "text": [
      "    3 ,  4 =  5\n",
      "    5 , 12 = 13\n",
      "    7 , 24 = 25\n",
      "    9 , 40 = 41\n",
      "   11 , 60 = 61\n",
      "   13 , 84 = 85\n",
      "   15 ,112 = 113\n",
      "   17 ,144 = 145\n",
      "   19 ,180 = 181\n",
      "   21 ,220 = 221\n",
      "   23 ,264 = 265\n",
      "   25 ,312 = 313\n",
      "   27 ,364 = 365\n",
      "   29 ,420 = 421\n"
     ]
    }
   ],
   "source": [
    "#solve# (u) Write a program to generate all Pythagorean Triplets with side length less than or equal to 30. \n",
    "import math\n",
    "\n",
    "for i in range(2,31):\n",
    "    a=i\n",
    "    b =int(((a**2)-1)/2)\n",
    "    c = int(b+1)\n",
    "    j = a**2\n",
    "    k=  b**2\n",
    "    m = j+k\n",
    "    n =math.sqrt(m)\n",
    "    if n==c:\n",
    "        print(f'{a:>5} ,{b:>3} = {c:>2}')\n",
    "    \n",
    "    \n",
    "    "
   ]
  },
  {
   "cell_type": "code",
   "execution_count": 21,
   "metadata": {},
   "outputs": [
    {
     "name": "stdout",
     "output_type": "stream",
     "text": [
      "1 first year of population 110000\n",
      "2 first year of population 121000\n",
      "3 first year of population 133100\n",
      "4 first year of population 146410\n",
      "5 first year of population 161051\n",
      "6 first year of population 177156\n",
      "7 first year of population 194871\n",
      "8 first year of population 214358\n",
      "9 first year of population 235794\n",
      "10 first year of population 259374\n"
     ]
    }
   ],
   "source": [
    "##Solve#(v) Population of a town today is 100000. \n",
    "#The population has increased steadily at the rate of 10 % per year for last 10 years. \n",
    "#Write a program to determine the population at the end of each year in the last decade. \n",
    "t = 0\n",
    "for i in range(1,11):\n",
    "    p = 100000\n",
    "    r = 11/10\n",
    "    t +=1\n",
    "    a = p*(r)**t\n",
    "    print(i,'first year of population',(int(a)))\n",
    "    \n"
   ]
  },
  {
   "cell_type": "code",
   "execution_count": 148,
   "metadata": {},
   "outputs": [],
   "source": [
    "###(w) Ramanujan number is the smallest number that can be expressed as sum of two cubes in two different ways. \n",
    "#Write a program to print all such numbers up to a reasonable limit. \n",
    "\n"
   ]
  },
  {
   "cell_type": "code",
   "execution_count": null,
   "metadata": {},
   "outputs": [],
   "source": [
    "#(x) Write a program to print 24 hours of day with suitable suffixes like AM, PM, Noon and Midnight.\n",
    "\n",
    "for i in range(24):\n",
    "    if i<=4:\n",
    "        print(i,'AM'' Mid Night')\n",
    "    elif i<12:\n",
    "        print(i,'AM'' Good Morning')\n",
    "    elif i<=16:\n",
    "        print(i,'PM'' Good Noon')\n",
    "    elif i>16:\n",
    "        print(i,'PM'' Good Evening')\n",
    "    else:\n",
    "        print('error')"
   ]
  }
 ],
 "metadata": {
  "kernelspec": {
   "display_name": "Python 3",
   "language": "python",
   "name": "python3"
  },
  "language_info": {
   "codemirror_mode": {
    "name": "ipython",
    "version": 3
   },
   "file_extension": ".py",
   "mimetype": "text/x-python",
   "name": "python",
   "nbconvert_exporter": "python",
   "pygments_lexer": "ipython3",
   "version": "3.7.3"
  }
 },
 "nbformat": 4,
 "nbformat_minor": 2
}
