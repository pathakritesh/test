{
 "cells": [
  {
   "cell_type": "markdown",
   "metadata": {
    "heading_collapsed": true
   },
   "source": [
    "# Example Chapter 9"
   ]
  },
  {
   "cell_type": "code",
   "execution_count": null,
   "metadata": {
    "hidden": true
   },
   "outputs": [],
   "source": [
    "# Example 9.1\n",
    "students = {'Anil':23,'Ram': '25','Ajay': '19'}\n",
    "stud = students\n",
    "students = {}\n",
    "print(stud)"
   ]
  },
  {
   "cell_type": "markdown",
   "metadata": {},
   "source": [
    "# Excercise Chapter 9"
   ]
  },
  {
   "cell_type": "markdown",
   "metadata": {
    "heading_collapsed": true
   },
   "source": [
    "### [A]State whether the following statements are True or False:"
   ]
  },
  {
   "cell_type": "code",
   "execution_count": null,
   "metadata": {
    "hidden": true
   },
   "outputs": [],
   "source": [
    "#(a) Dictonary elements can be accessed using position based index.\n",
    "\n",
    "#Ans: Flase     # Key or value based"
   ]
  },
  {
   "cell_type": "code",
   "execution_count": null,
   "metadata": {
    "hidden": true
   },
   "outputs": [],
   "source": [
    "#(b) Dictionaries are immutable\n",
    "\n",
    "# Ans: Flase"
   ]
  },
  {
   "cell_type": "code",
   "execution_count": null,
   "metadata": {
    "hidden": true
   },
   "outputs": [],
   "source": [
    "#(c) courses.clear() will delete the dictonary object called courses.\n",
    "\n",
    "# Ans: Flase    # It will clear dictionary elements"
   ]
  },
  {
   "cell_type": "code",
   "execution_count": null,
   "metadata": {
    "hidden": true
   },
   "outputs": [],
   "source": [
    "#(d) it is possible to next dictionaries\n",
    "\n",
    "# Ans: True"
   ]
  },
  {
   "cell_type": "code",
   "execution_count": null,
   "metadata": {
    "hidden": true
   },
   "outputs": [],
   "source": [
    "#(e) It is possible to hold multiple value against a key in a dictionary\n",
    "\n",
    "# Ans: True"
   ]
  },
  {
   "cell_type": "markdown",
   "metadata": {},
   "source": [
    "### [B] Attempt the following:"
   ]
  },
  {
   "cell_type": "code",
   "execution_count": null,
   "metadata": {},
   "outputs": [],
   "source": [
    "#(a)  Write a program that reads a string from a keyboard and creates dictionary \n",
    "#     contaning frequency of each character occurring in the string. Also print these\n",
    "#     occurrences in the form of a histogram\n",
    "\n",
    "s = input('enter any string:')\n",
    "freq = {}\n",
    "for ch in s:\n",
    "    if ch in freq:\n",
    "        freq[ch] +=1\n",
    "    else:\n",
    "        freq[ch] = 1\n",
    "print('count of all characters is:',freq)\n",
    "for k,v in freq.items():\n",
    "    print(k,':',end='')\n",
    "    for i in range(0,v):\n",
    "        print('*',end='')\n",
    "    print()"
   ]
  },
  {
   "cell_type": "code",
   "execution_count": null,
   "metadata": {
    "scrolled": true
   },
   "outputs": [],
   "source": [
    "#(b) \n",
    "# create a dictionary containing names of students and marks obtained by them in three subjects\n",
    "# write a program to replace the marks in three subjects \n",
    "# write the total in three in subjects and average marks. also report the topper of the class\n",
    "d = {'ram':[100,99,98],'shyam':[50,60,70],'joe':[45,67,87]}\n",
    "for raw in zip(*([k] + (v) for k,v in sorted(d.items()))):\n",
    "    print(*raw,sep='\\t')\n",
    "e = d['ram']\n",
    "p = d['shyam']\n",
    "q = d['joe']\n",
    "f = e[0]+e[1]+e[2]\n",
    "x = p[0]+p[1]+p[2]\n",
    "y = q[0]+q[1]+q[2]\n",
    "if f>x and f>y:\n",
    "    print('ram is topper')\n",
    "elif x>y and x>f:\n",
    "    print('shyam is topper')\n",
    "elif y>x and y>f:\n",
    "    print('joe is topper')\n",
    "print('ram total marks :',f,'average:',f/3)\n",
    "print('shyam total marks:',x,'average:',x/3)\n",
    "print('joe totalmarks :',y,'average:',y/3)\n"
   ]
  },
  {
   "cell_type": "code",
   "execution_count": null,
   "metadata": {},
   "outputs": [],
   "source": [
    "#(c) Given the following dictionary \n",
    "# portfolio = {'accounts' : ['sbi','iob']\n",
    "#'shares':'[hadfc,'icici','tm','tcs']\n",
    "#'ornaments':['1- gm gold','1 kg silver']}\n",
    "\n",
    "#Write a program to perform the following operations:\n",
    "# - Add a key to portfolio called 'mf' with values 'reliance' and 'ABSL'\n",
    "# - Set the value of 'accounts' to be a list containing 'axis' and 'bob'\n",
    "# - sort the items in the list sorted under the 'shares' key\n",
    "# - delete the list stored under 'ornaments' key.\n",
    "\n",
    "portfolio = {'accounts' : ['sbi','iob'],\n",
    "'shares':['hadfc','icici','tm','tcs'],\n",
    "'ornaments':['1- gm gold','1 kg silver']}\n",
    "portfolio['mf'] = ['reliance','ABSL']\n",
    "portfolio['accounts'] = ['axis','bob']\n",
    "print(sorted(portfolio['shares']))\n",
    "del(portfolio['ornaments'])\n",
    "print(portfolio)"
   ]
  },
  {
   "cell_type": "code",
   "execution_count": null,
   "metadata": {},
   "outputs": [],
   "source": [
    "#(d) create two dictionaries- \n",
    "# one containing grocery items and their prices and \n",
    "# Another containig grocery items and quantity purchased. \n",
    "# By using the values from these two dictionaries\n",
    "# compare the total bill\n",
    "\n",
    "grocery = {'apple':100,'mango':120,'pineapple':150}\n",
    "items = {'apple':10,'mango':5,'pineapple':15}\n",
    "g1,g2,g3 = grocery['apple'],grocery['mango'],grocery['pineapple']\n",
    "i1,i2,i3 = items['apple'],items['mango'],items['pineapple']\n",
    "price_apple = g1*i1\n",
    "price_mango = g2*i2\n",
    "price_pineapple = g3*i3\n",
    "total_price = price_apple + price_mango + price_pineapple\n",
    "print('total price:',total_price)"
   ]
  },
  {
   "cell_type": "code",
   "execution_count": null,
   "metadata": {},
   "outputs": [],
   "source": [
    "#(e) which functions will you use to fetch all keys, all values and key value pairs\n",
    "# from a given dictionary?\n",
    "courses = {'apple':10,'mango':5,'pineapple':15}\n",
    "# iterate over key-value pairs\n",
    "#for k,v in courses.items():\n",
    "    #print(k,v)\n",
    "    \n",
    "#iterate over key\n",
    "#for k in courses.keys():\n",
    "    #print(k)\n",
    "    \n",
    "# iterate over keys - shorter way\n",
    "for k in courses:\n",
    "    print(k)\n",
    "    \n",
    "#iterate over values\n",
    "for v in courses.values():\n",
    "   print(v)"
   ]
  },
  {
   "cell_type": "code",
   "execution_count": 56,
   "metadata": {},
   "outputs": [
    {
     "name": "stdout",
     "output_type": "stream",
     "text": [
      "{'tuple': ((1, 1), (1, 2), (1, 3), (1, 4), (1, 5), (1, 6), (2, 1), (2, 2), (2, 3), (2, 4), (2, 5), (2, 6), (3, 1), (3, 2), (3, 3), (3, 4), (3, 5), (3, 6), (4, 1), (4, 2), (4, 3), (4, 4), (4, 5), (4, 6), (5, 1), (5, 2), (5, 3), (5, 4), (5, 5), (5, 6), (6, 1), (6, 2), (6, 3), (6, 4), (6, 5), (6, 6))}\n"
     ]
    }
   ],
   "source": [
    "#(f) 36 unoque combinations can result from use of two dice. \n",
    "#create a dictionary which stores these combinations as tuple\n",
    "\n",
    "\n",
    "d = tuple((i,j) for i in range (1,7)for j in range (1,7))\n",
    "e = {}\n",
    "e['tuple'] = d\n",
    "print(e)"
   ]
  },
  {
   "cell_type": "code",
   "execution_count": null,
   "metadata": {},
   "outputs": [],
   "source": [
    "# (g) create a dictionary of 10 user name and passwords. \n",
    "#receive the user name and password from keyboards and search for them in the dictionary\n",
    "# print appropriate message on the screen based oon whether a match is found or not\n",
    "\n",
    "student = {101:'ram',102:'ram2',103:'ram3',\n",
    "       104:'ram4',105:'ram5',106:'ram6',\n",
    "       107:'ram7',108:'ram8',109:'ram9',110:'ram10'}\n",
    "name = input('enter name: ')\n",
    "password = int(input('enter password: '))\n",
    "check = student.get((name,password),'match found')\n",
    "print(f'{check}')\n",
    "name = input('enter name: ')\n",
    "password = int(input('enter password: '))\n",
    "check = student.get((name,password),'match not found')\n",
    "print(f'{check}')"
   ]
  },
  {
   "cell_type": "code",
   "execution_count": 1,
   "metadata": {},
   "outputs": [
    {
     "name": "stdout",
     "output_type": "stream",
     "text": [
      "{'list': [[0, 0, 0, 1, 0], [0, 0, 2, 1, 0], [0, 4, 0, 1, 0], [0, 0, 0, 0, 0], [0, 0, 0, 2, 8]]}\n"
     ]
    }
   ],
   "source": [
    "### (h) A sparse matrix is a matrix most of whose elemets have a value 0. \n",
    "# suppose we have 5*5 sparse matrix stored as a list of lists. \n",
    "# write a program to create a dictionary from this list of lists. \n",
    "# The dictionary should store the row and column of a non zero element as a tuple key \n",
    "# And the value of the non zero element as the value against the key tuple.\n",
    "lst = [[0,0,0,1,0],\n",
    "       [0,0,2,1,0],\n",
    "       [0,4,0,1,0],\n",
    "       [0,0,0,0,0],\n",
    "       [0,0,0,2,8]]\n",
    "a = {}\n",
    "a['list'] = lst\n",
    "print(a)\n",
    "\n"
   ]
  },
  {
   "cell_type": "code",
   "execution_count": null,
   "metadata": {},
   "outputs": [],
   "source": [
    "# (i) Given the following dictionary\n",
    "# marks = {'subu': {'maths':88,'eng':60,'sst':95},\n",
    "#'amol':{'maths':78,'eng':68,'sst':89},\n",
    "#'ratna':{'maths':68,'eng':66,'sst':87},\n",
    " #   'raka'}:{'maths':56,'eng':66,'sst':77}}\n",
    "        \n",
    "#Write a program to perform the following operations\n",
    "# - Print marks obtained by anmol in english\n",
    "# - set marks obtained by rama in maths to 77\n",
    "# - sort the dictonary by name\n",
    "\n",
    "marks = {'subu':{'maths':88,'eng':60,'sst':95},\n",
    "        'amol':{'maths':78,'eng':68,'sst':89},\n",
    "        'ratna':{'maths':68,'eng':66,'sst':87},\n",
    "        'rama':{'maths':56,'eng':66,'sst':77}}\n",
    "print(marks['amol']['eng'])\n",
    "marks['rama']['maths'] = 77\n",
    "m = sorted(marks.keys())\n",
    "print(m)"
   ]
  },
  {
   "cell_type": "code",
   "execution_count": null,
   "metadata": {},
   "outputs": [],
   "source": [
    "#not solved# (j) Create a dictionary which stores the following data:\n",
    "#interface: eth0,eth1,wlan0,wlan1\n",
    "#IP Adress: 1.1.1.1,2.2.2.2,3.3.3.3,4.4.4.4\n",
    "# Status: up,up,down,up\n",
    "#Write a program to perform the following operations\n",
    "# - find the status of a given interface\n",
    "# - find interface and IP of all interfaces which are up\n",
    "# - find the total number of interfaces\n",
    "# - add two new entries to the dictionary\n",
    "ifs = { 'eth0':{'status':'up','IP':'1.1.1.1'},\n",
    "       'eth1':{'status':'up','IP':'2.2.2.2'},\n",
    "       'wlan0':{'status':'down','IP':'3.3.3.3'},\n",
    "       'wlan1':{'status':'up','IP':'4.4.4.4'}}\n",
    "test = input('enter interface:')\n",
    "print(ifs[test]['status'])\n",
    "\n",
    "for k,v in ifs.items():\n",
    "    if v['status']=='up':\n",
    "        print(k,v['IP'])\n",
    "print('total interfaces =',len(ifs))\n",
    "ifs['eth2'] = {'IP':'5.5.5.5','status':'up'}\n",
    "ifs['wlan2'] = {'IP':'6.6.6.6','status':'up'}\n",
    "for k,v in ifs.items():\n",
    "    print(k,v)\n"
   ]
  },
  {
   "cell_type": "code",
   "execution_count": null,
   "metadata": {},
   "outputs": [],
   "source": []
  }
 ],
 "metadata": {
  "kernelspec": {
   "display_name": "Python 3",
   "language": "python",
   "name": "python3"
  },
  "language_info": {
   "codemirror_mode": {
    "name": "ipython",
    "version": 3
   },
   "file_extension": ".py",
   "mimetype": "text/x-python",
   "name": "python",
   "nbconvert_exporter": "python",
   "pygments_lexer": "ipython3",
   "version": "3.7.3"
  },
  "toc": {
   "base_numbering": 1,
   "nav_menu": {},
   "number_sections": true,
   "sideBar": true,
   "skip_h1_title": false,
   "title_cell": "Table of Contents",
   "title_sidebar": "Contents",
   "toc_cell": false,
   "toc_position": {},
   "toc_section_display": true,
   "toc_window_display": false
  },
  "varInspector": {
   "cols": {
    "lenName": 16,
    "lenType": 16,
    "lenVar": 40
   },
   "kernels_config": {
    "python": {
     "delete_cmd_postfix": "",
     "delete_cmd_prefix": "del ",
     "library": "var_list.py",
     "varRefreshCmd": "print(var_dic_list())"
    },
    "r": {
     "delete_cmd_postfix": ") ",
     "delete_cmd_prefix": "rm(",
     "library": "var_list.r",
     "varRefreshCmd": "cat(var_dic_list()) "
    }
   },
   "types_to_exclude": [
    "module",
    "function",
    "builtin_function_or_method",
    "instance",
    "_Feature"
   ],
   "window_display": false
  }
 },
 "nbformat": 4,
 "nbformat_minor": 2
}
