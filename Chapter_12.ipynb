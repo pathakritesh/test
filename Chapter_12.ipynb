{
 "cells": [
  {
   "cell_type": "markdown",
   "metadata": {},
   "source": [
    "# #[A] State whether the following statements are True or False:\n",
    "# #[B] Answer the following: "
   ]
  },
  {
   "cell_type": "code",
   "execution_count": null,
   "metadata": {},
   "outputs": [],
   "source": [
    " \n",
    "#(a) Class attributes and object attributes are same.\n",
    "Ans: False\n",
    "    \n",
    "#(b) A class data member is useful when all objects of the same class must share a common item of information. \n",
    "Ans: True\n",
    "    \n",
    "#(c) If a class has a data member and three objects are created from this class,then each object would have its own data member. \n",
    "Ans: True\n",
    "    \n",
    "#(d) A class can have class data as well as class functions. \n",
    "Ans: True\n",
    "    \n",
    "#(e) Usually data in a class is kept private and the data is accessed / manipulated through public member functions of the class\n",
    "Ans: True\n",
    "    \n",
    "#(f) Member functions of a class have to be called explicitly, whereas, the constructor constructor gets called automatically. \n",
    "Ans: True\n",
    "\n",
    "#(g) A constructor gets called whenever an object gets instantiated. \n",
    "Ans: True \n",
    "    \n",
    "#(h) A constructor never returns a value.\n",
    "\n",
    "#(i) When an object goes out of scope, its destructor gets called automatically. \n",
    "Ans: True\n",
    "\n",
    "#(j) The self variable always contains the address of the object using which the method/data is being accessed. \n",
    "Ans: True\n",
    "    \n",
    "#(k) The self variable can be used even outside the class. \n",
    "Ans: False\n",
    "    \n",
    "#(l) A constructor gets called only during the lifetime of an object.\n",
    "Ans: True\n",
    "    \n",
    "#(m) By default, instance data and methods in a class are public.\n",
    "Ans: True\n",
    "    \n",
    "#(n) In a class 2 constructors can exist—a 0-rgument constructor and 2-argument constructor can exist. \n",
    "Ans:\n",
    "\n",
    "#[B] Answer the following: \n",
    "#(a) Which methods in a class act as constructor and destructor? \n",
    "Ans:__init__ work as a constructer\n",
    "    __del__ work as a destructer\n",
    "    \n",
    "    \n",
    "#(b) What is the difference between the function vars( ) and dir( )? \n",
    "Ans: Vars() Return in dictonary form where as dir() return as list form\n",
    "\n",
    "#(c) How many object are created in the following code snippet? a = 10 ; b = a ; c = b \n",
    "Ans: one\n",
    "\n",
    "#(d) What is the difference between variables,_variables, age and _age? \n",
    "Ans: without underscore variable for public and  Underscore represent private data type\n"
   ]
  },
  {
   "cell_type": "markdown",
   "metadata": {},
   "source": [
    "## [C] Attempt the following:"
   ]
  },
  {
   "cell_type": "code",
   "execution_count": null,
   "metadata": {},
   "outputs": [],
   "source": [
    "#(a) Write a program to create a class that represents Complex numbers containing real and imaginary parts and then \n",
    "#use it to perform complex number addition, subtraction, multiplication and division. \n",
    "\n",
    "class Comp:\n",
    "    def __init__(self,real,imag):\n",
    "        self.real = real\n",
    "        self.imag = imag\n",
    "    def add(self):\n",
    "        c = self.real + self.real\n",
    "        print(c)\n",
    "    def sub(self):\n",
    "        f = self.imag - self.imag\n",
    "        print(f)\n",
    "r1 = Comp(1,5)\n",
    "print(r1.add())\n",
    "print(r1.sub())\n",
    "\n",
    "\n"
   ]
  },
  {
   "cell_type": "code",
   "execution_count": null,
   "metadata": {},
   "outputs": [],
   "source": [
    "class Complex: \n",
    "    def _init_ (self, r = 0.0, i = 0.0):\n",
    "        self._real = r\n",
    "        self._imag = i\n",
    "    def display(self):\n",
    "        print(self._real,self._imag)\n",
    "        \n",
    "    def _add_(self,other):\n",
    "        z = Complex()\n",
    "        z._real = self._real + other._real\n",
    "        z._imag = self._imag + other._imag\n",
    "        return z\n",
    "    def _sub_(self,other):\n",
    "        z = Complex()\n",
    "        z._real = self._real - other._real\n",
    "        z._imag = self._imag - other._imag\n",
    "        return z\n",
    "    \n",
    "c1 = Complex(1.1,0.2)\n",
    "c2 = Complex(1.1,0.2)\n",
    "c3 = c1 + c2 \n",
    "c3.display()\n",
    "c4 = c1 - c2 \n",
    "c4.display()\n"
   ]
  },
  {
   "cell_type": "code",
   "execution_count": 20,
   "metadata": {},
   "outputs": [
    {
     "ename": "SyntaxError",
     "evalue": "invalid syntax (<ipython-input-20-ade66376f558>, line 15)",
     "output_type": "error",
     "traceback": [
      "\u001b[1;36m  File \u001b[1;32m\"<ipython-input-20-ade66376f558>\"\u001b[1;36m, line \u001b[1;32m15\u001b[0m\n\u001b[1;33m    for i in range len(a):\u001b[0m\n\u001b[1;37m                     ^\u001b[0m\n\u001b[1;31mSyntaxError\u001b[0m\u001b[1;31m:\u001b[0m invalid syntax\n"
     ]
    }
   ],
   "source": [
    "#(b) Write a program that implements a Matrix class and performs addition, multiplication, and transpose operations on \n",
    "#3 x 3 matrices.\n",
    "\n",
    "\n",
    "a = [[1,2,3],   #[[a11,a12,a13],\n",
    "     [4,5,6],   # [b21,b22,b23],\n",
    "     [7,8,9]]   # [c31,c32,c33]]\n",
    "\n",
    "b =  [[1,2,3],   \n",
    "     [4,5,6],   \n",
    "     [7,8,9]] \n",
    "\n",
    "\n",
    "def add():\n",
    "    for i in range len(a):\n",
    "        for j in range len(b):\n",
    "            add1[i][j] = a[i][j] + b[i][j]\n",
    "    for r in add1:\n",
    "        print(r)\n",
    "        \n",
    "add()\n",
    "\n",
    "\n"
   ]
  },
  {
   "cell_type": "code",
   "execution_count": null,
   "metadata": {},
   "outputs": [],
   "source": [
    "#(c) Write a program to create a class that can calculate the surface area and volume of a solid. \n",
    "#The class should also have a provision to accept the data relevant to the solid.\n",
    "\n",
    "class Geo:\n",
    "    def __init__ (self,length,width,thickness):\n",
    "        self.length = length\n",
    "        self.width = width\n",
    "        self.thickness = thickness\n",
    "    \n",
    "    def solid_area(self):\n",
    "        area = 2*(self.length * self.width)\n",
    "        print('area is: ',area)\n",
    "        \n",
    "    def solid_vol(self):\n",
    "        volume = self.length*self.width*self.thickness\n",
    "        print('volume is: ',volume)\n",
    "        \n",
    "d = Geo(1,2,3)\n",
    "print(d.solid_area(),d.solid_vol())"
   ]
  },
  {
   "cell_type": "code",
   "execution_count": 3,
   "metadata": {
    "scrolled": true
   },
   "outputs": [
    {
     "name": "stdout",
     "output_type": "stream",
     "text": [
      "area is:  4\n",
      "volume is:  8\n",
      "None None\n"
     ]
    }
   ],
   "source": [
    "#(d) Write a program to create a class that can calculate the perimeter / circumference and area of a regular shape. \n",
    "#The class should also have a provision to accept the data relevant to the shape.\n",
    "class Geo2:\n",
    "    def __init__ (self,length,width):\n",
    "        self.length = length\n",
    "        self.width = width\n",
    "    \n",
    "    def reg_area(self):\n",
    "        area = self.length * self.width\n",
    "        print('area is: ',area)\n",
    "        \n",
    "    def reg_per(self):\n",
    "        perimeter = 2*(self.length*self.width)\n",
    "        print('volume is: ',perimeter)\n",
    "        \n",
    "d = Geo2(2,2)\n",
    "print(d.reg_area(),d.reg_per())"
   ]
  },
  {
   "cell_type": "code",
   "execution_count": null,
   "metadata": {},
   "outputs": [],
   "source": [
    "#(e) Write a program that creates and uses a Time class to perform various time arithmetic operations.\n",
    "\n",
    "class Time:\n",
    "    def __init__(self, hours=0, minutes=0, seconds=0):\n",
    "        self.hours = hours\n",
    "        self.minutes = minutes\n",
    "        self.seconds = seconds\n",
    "    def time_d(self):\n",
    "        print(f'time is hour: {self.hours} minute is: {self.minutes} and second is: {self.seconds}')\n",
    "current_time = Time(9, 14, 30)\n",
    "print(current_time.time_d())"
   ]
  },
  {
   "cell_type": "code",
   "execution_count": null,
   "metadata": {},
   "outputs": [],
   "source": []
  }
 ],
 "metadata": {
  "kernelspec": {
   "display_name": "Python 3",
   "language": "python",
   "name": "python3"
  },
  "language_info": {
   "codemirror_mode": {
    "name": "ipython",
    "version": 3
   },
   "file_extension": ".py",
   "mimetype": "text/x-python",
   "name": "python",
   "nbconvert_exporter": "python",
   "pygments_lexer": "ipython3",
   "version": "3.7.3"
  }
 },
 "nbformat": 4,
 "nbformat_minor": 2
}
