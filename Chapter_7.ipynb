{
 "cells": [
  {
   "cell_type": "markdown",
   "metadata": {
    "heading_collapsed": true
   },
   "source": [
    "# Examples"
   ]
  },
  {
   "cell_type": "code",
   "execution_count": 4,
   "metadata": {
    "hidden": true
   },
   "outputs": [
    {
     "name": "stdout",
     "output_type": "stream",
     "text": [
      "{('ram1', 20, 100), ('ram2', 22, 200), ('ram3', 24, 300)}\n",
      "(('ram1', 20, 100),)\n",
      "(('ram2', 22, 200),)\n",
      "(('ram3', 24, 300),)\n"
     ]
    }
   ],
   "source": [
    "# Example 7.1\n",
    "\n",
    "a = ['ram1','ram2','ram3']\n",
    "b = [20,22,24]\n",
    "c = [100,200,300]\n",
    "d = zip(a,b,c)\n",
    "\n",
    "e = list(d)\n",
    "print(e)\n",
    "\n",
    "f,g,h = zip(e)\n",
    "\n",
    "print(f)\n",
    "print(g)\n",
    "print(h)\n"
   ]
  },
  {
   "cell_type": "code",
   "execution_count": 11,
   "metadata": {
    "hidden": true
   },
   "outputs": [
    {
     "name": "stdout",
     "output_type": "stream",
     "text": [
      "[([1, 2, 3, 4], [5, 6, 7, 8], [9, 10, 11, 12])]\n"
     ]
    }
   ],
   "source": [
    "#Example 7.2\n",
    "\n",
    "mat = [[1,2,3,4],[5,6,7,8],[9,10,11,12]]\n",
    "a = zip(mat)\n",
    "x= zip(*a)\n",
    "y = list(x)\n",
    "print(y)\n",
    "#b = list(a)\n",
    "#print(b)"
   ]
  },
  {
   "cell_type": "code",
   "execution_count": 13,
   "metadata": {
    "hidden": true,
    "slideshow": {
     "slide_type": "slide"
    }
   },
   "outputs": [
    {
     "name": "stdout",
     "output_type": "stream",
     "text": [
      "[[1, 2, 3], [4, 5, 6]]\n",
      "[[146, 152], [335, 350]]\n"
     ]
    }
   ],
   "source": [
    "# Example 7.3\n",
    "\n",
    "x = [\n",
    "    [1,2,3],\n",
    "    [4,5,6]\n",
    "]\n",
    "\n",
    "y = [\n",
    "    [11,12],\n",
    "    [21,22],\n",
    "    [31,32]\n",
    "]\n",
    "\n",
    "m1 = [xrow for xrow in x]\n",
    "print(m1)\n",
    "\n",
    "m2 = [ (xrow, ycol) for ycol in zip(*y) for xrow in x]\n",
    "print(m2)\n",
    "\n",
    "m3 = [[sum(a*b for a,b in zip(xrow,ycol)) for ycol in zip(*y)] for xrow in x]\n",
    "print(m3)"
   ]
  },
  {
   "cell_type": "code",
   "execution_count": 14,
   "metadata": {
    "hidden": true
   },
   "outputs": [
    {
     "name": "stdout",
     "output_type": "stream",
     "text": [
      "(5, 2)\n",
      "(5, 2)\n"
     ]
    }
   ],
   "source": [
    "#Example 7.4\n",
    "\n",
    "result = divmod(17,3)\n",
    "print(result)\n",
    "t = (17,3)\n",
    "result = divmod(*t)\n",
    "print(result)\n"
   ]
  },
  {
   "cell_type": "code",
   "execution_count": 15,
   "metadata": {
    "hidden": true
   },
   "outputs": [
    {
     "name": "stdout",
     "output_type": "stream",
     "text": [
      "10 1.1\n",
      "20 2.2\n",
      "30 3.3\n",
      "40 4.4\n",
      "50 5.5\n"
     ]
    }
   ],
   "source": [
    "# Example 7.5\n",
    "\n",
    "integers = [10,20,30,40,50]\n",
    "floats = (1.1,2.2,3.3,4.4,5.5)\n",
    "\n",
    "m = zip(integers,floats)\n",
    "n = list(m)\n",
    "for i,f in n:\n",
    "    print(i,f)"
   ]
  },
  {
   "cell_type": "markdown",
   "metadata": {},
   "source": [
    "# Excercise"
   ]
  },
  {
   "cell_type": "code",
   "execution_count": 12,
   "metadata": {},
   "outputs": [
    {
     "name": "stdout",
     "output_type": "stream",
     "text": [
      "[2, 2, 1]\n"
     ]
    }
   ],
   "source": [
    "# Excercise [A] (a)\n",
    "\n",
    "a = (10,10,2019)\n",
    "b = (12,12,2020)\n",
    "m = [(b-a) for a,b in zip(a,b)]\n",
    "print(m)"
   ]
  },
  {
   "cell_type": "code",
   "execution_count": 7,
   "metadata": {},
   "outputs": [
    {
     "name": "stdout",
     "output_type": "stream",
     "text": [
      "[('mango', 'rice', 'water'), (20.2, 30.3, 15.1)]\n",
      "[15.1, 20.2, 30.3]\n",
      "('mango', 'rice', 'water')\n"
     ]
    }
   ],
   "source": [
    "# Excercise (b)\n",
    "a = ('mango',20.2)\n",
    "b = ('rice',30.3)\n",
    "c = ('water',15.1)\n",
    "d = zip(a,b,c)\n",
    "e = list(d)\n",
    "print(e)\n",
    "m = e [1]\n",
    "p = e[0]\n",
    "n = sorted(m)\n",
    "print(n)\n",
    "print(p)\n"
   ]
  },
  {
   "cell_type": "code",
   "execution_count": 52,
   "metadata": {},
   "outputs": [
    {
     "name": "stdout",
     "output_type": "stream",
     "text": [
      "1000\n",
      "100\n",
      "10.0\n"
     ]
    }
   ],
   "source": [
    "# Excercise (c)\n",
    "\n",
    "share_name = ('tata')\n",
    "dop = ('13Jun2019')\n",
    "cop = (100)\n",
    "number_shares = (10)\n",
    "selling_price = (110)\n",
    "\n",
    "total_cost = cop*number_shares\n",
    "total_selling_cost = selling_price*number_shares\n",
    "total_gained = total_selling_cost - total_cost\n",
    "per_profit = (total_gained/total_cost)*100\n",
    "\n",
    "print(total_cost)\n",
    "print(total_gained)\n",
    "print(per_profit)"
   ]
  },
  {
   "cell_type": "code",
   "execution_count": 57,
   "metadata": {},
   "outputs": [
    {
     "name": "stdout",
     "output_type": "stream",
     "text": [
      "(10, 20, 30)\n",
      "(150.55, 145.6, 157.65)\n",
      "('A1', 'B1', 'C1')\n"
     ]
    }
   ],
   "source": [
    "# Excercise (d)\n",
    "\n",
    "c,d,e = [(10,20,30), (150.55, 145.60, 157.65), ('A1','B1','C1')]\n",
    "print(c)\n",
    "print(d)\n",
    "print(e)\n"
   ]
  },
  {
   "cell_type": "code",
   "execution_count": 10,
   "metadata": {},
   "outputs": [
    {
     "name": "stdout",
     "output_type": "stream",
     "text": [
      "[('',), ('a', 'b'), ('a', 'b', 'c'), 'd']\n"
     ]
    }
   ],
   "source": [
    "# Excercise (e)\n",
    "L = [(), (), ('',), ('a', 'b'), ('a', 'b', 'c'), ('d')]\n",
    "L = [t for t in L if t]\n",
    "print(L)"
   ]
  },
  {
   "cell_type": "code",
   "execution_count": 12,
   "metadata": {},
   "outputs": [
    {
     "name": "stdout",
     "output_type": "stream",
     "text": [
      "intial_list [('b    ', 100), ('c ', 200), ('c', 45), ('d', 876), ('e', 75)]\n"
     ]
    }
   ],
   "source": []
  },
  {
   "cell_type": "code",
   "execution_count": 88,
   "metadata": {},
   "outputs": [
    {
     "name": "stdout",
     "output_type": "stream",
     "text": [
      "[('ram1', '001', '40'), ('ram2', '002', '50'), ('ram3', '002', '60')]\n",
      "('ram1', 'ram2', 'ram3')\n",
      "('001', '002', '002')\n",
      "('40', '50', '60')\n"
     ]
    }
   ],
   "source": [
    "# Excercise (f)\n",
    "name = ['ram1','ram2','ram3']\n",
    "roll = ['001','002','002']\n",
    "mark = ['40','50','60']\n",
    "\n",
    "x = zip(name,roll,mark)\n",
    "y = list(x)\n",
    "print(y)\n",
    "n,r,m = zip(*y)\n",
    "print(n)\n",
    "print(r)\n",
    "print(m)"
   ]
  },
  {
   "cell_type": "code",
   "execution_count": 92,
   "metadata": {},
   "outputs": [
    {
     "name": "stdout",
     "output_type": "stream",
     "text": [
      "[[1, 2, 3, 4], [4, 5, 6, 7]]\n",
      "[([1, 2, 3, 4], (1, 2, 3, 4)), ([4, 5, 6, 7], (1, 2, 3, 4)), ([1, 2, 3, 4], (1, 2, 3, 4)), ([4, 5, 6, 7], (1, 2, 3, 4))]\n"
     ]
    }
   ],
   "source": [
    "# Excercise (g)\n",
    "\n",
    "x = [[1,2,3,4],[4,5,6,7]]\n",
    "y = [[1,1],[2,2],[3,3],[4,4]]\n",
    "m = [xrow for xrow in x]\n",
    "print(m)\n",
    "n = [(xrow, ycol) for ycol in zip(*y) for xrow in x]\n",
    "print(n)"
   ]
  },
  {
   "cell_type": "code",
   "execution_count": null,
   "metadata": {},
   "outputs": [],
   "source": []
  }
 ],
 "metadata": {
  "kernelspec": {
   "display_name": "Python 3",
   "language": "python",
   "name": "python3"
  },
  "language_info": {
   "codemirror_mode": {
    "name": "ipython",
    "version": 3
   },
   "file_extension": ".py",
   "mimetype": "text/x-python",
   "name": "python",
   "nbconvert_exporter": "python",
   "pygments_lexer": "ipython3",
   "version": "3.7.3"
  },
  "toc": {
   "base_numbering": 1,
   "nav_menu": {},
   "number_sections": true,
   "sideBar": true,
   "skip_h1_title": false,
   "title_cell": "Table of Contents",
   "title_sidebar": "Contents",
   "toc_cell": false,
   "toc_position": {},
   "toc_section_display": true,
   "toc_window_display": false
  },
  "varInspector": {
   "cols": {
    "lenName": 16,
    "lenType": 16,
    "lenVar": 40
   },
   "kernels_config": {
    "python": {
     "delete_cmd_postfix": "",
     "delete_cmd_prefix": "del ",
     "library": "var_list.py",
     "varRefreshCmd": "print(var_dic_list())"
    },
    "r": {
     "delete_cmd_postfix": ") ",
     "delete_cmd_prefix": "rm(",
     "library": "var_list.r",
     "varRefreshCmd": "cat(var_dic_list()) "
    }
   },
   "types_to_exclude": [
    "module",
    "function",
    "builtin_function_or_method",
    "instance",
    "_Feature"
   ],
   "window_display": false
  }
 },
 "nbformat": 4,
 "nbformat_minor": 2
}
