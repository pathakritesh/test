{
 "cells": [
  {
   "cell_type": "markdown",
   "metadata": {},
   "source": [
    "# Chapter_3"
   ]
  },
  {
   "cell_type": "markdown",
   "metadata": {},
   "source": [
    "## Problem 3.1  Demonstrate how to create simple and multi-line strings and whether a string can change after creation."
   ]
  },
  {
   "cell_type": "code",
   "execution_count": 5,
   "metadata": {},
   "outputs": [
    {
     "name": "stdout",
     "output_type": "stream",
     "text": [
      "Hoopla\n",
      "He said, 'Let Us Python'.\n",
      "C:\\temp\\newfile\n",
      "C:\\temp\\newfile\n",
      "What is this life if full of care...\\We have no time to stand and stare\n",
      "What is this life if full of care... We have no time to stand and stare\n",
      "What is this life if full of care...We have no time to stand and stare\n",
      "HooplaHooplaHoopla\n",
      "UtopiaToday!!!\n",
      "14\n"
     ]
    }
   ],
   "source": [
    "# simple and multiline strings\n",
    "msg1 = 'Hoopla' \n",
    "print ( msg1 )\n",
    "\n",
    "# escape sequence\n",
    "msg2 = 'He said, \\'Let Us Python\\'.' \n",
    "print ( msg2 ) \n",
    "file1 = 'C:\\\\temp\\\\newfile' \n",
    "print ( file1 ) \n",
    "# raw string - prepend r \n",
    "file2 = r'C:\\temp\\newfile' \n",
    "print( file2 )\n",
    "\n",
    "# multiline strings \n",
    "# whitespace at beginning of second line becomes part of string \n",
    "msg3 = 'What is this life if full of care...\\We have no time to stand and stare'\n",
    "\n",
    "# enter at the end of first line becomes part of string\n",
    "msg4 = \"\"\"What is this life if full of care... We have no time to stand and stare\"\"\"\n",
    "\n",
    "# strings are concatenated properly. ( ) necessary \n",
    "msg5 = ( 'What is this life if full of care...' 'We have no time to stand and stare' ) \n",
    "print ( msg3 ) \n",
    "print ( msg4 ) \n",
    "print ( msg5 )\n",
    "\n",
    "# string replication during printing \n",
    "msg6 = 'MacLearn!!' \n",
    "print ( msg1 * 3 ) \n",
    "# immutability of strings\n",
    "# Utopia cannot change, msg7 can\n",
    "\n",
    "msg7 = 'Utopia' \n",
    "msg8 = 'Today!!!' \n",
    "msg7 = msg7 + msg8 # concatenation using + \n",
    "print ( msg7 ) # built-in string function \n",
    "print ( len ( msg7 ) )\n",
    "\n",
    "\n",
    "\n",
    "\n",
    "\n"
   ]
  },
  {
   "cell_type": "code",
   "execution_count": 52,
   "metadata": {},
   "outputs": [
    {
     "name": "stdout",
     "output_type": "stream",
     "text": [
      "Ba\n",
      "ed\n",
      "ed\n",
      "mboozled\n",
      "mboozled\n",
      "mboozled\n",
      "Bamboo\n",
      "Bamboo\n",
      "Bamboo\n",
      "Bamboozled\n",
      "Bmoze\n",
      "Bbzd\n",
      "Boe\n",
      "BamboozledHype\n",
      "BambooMongere\n"
     ]
    }
   ],
   "source": [
    "##Problem 3.2 \n",
    "#For a given string 'Bamboozled', write a program to obtain the following output : \n",
    "#B a \n",
    "#e d\n",
    "#e d \n",
    "#mboozled \n",
    "#mboozled \n",
    "#mboozled \n",
    "#Bamboo \n",
    "#Bamboo \n",
    "#Bamboo \n",
    "#Bamboo \n",
    "#Bamboozled \n",
    "#Bmoze \n",
    "#Bbzd \n",
    "#Boe \n",
    "#BamboozledHype! \n",
    "#BambooMonger! \n",
    "#Use multiple ways to get any of the above outputs.\n",
    "\n",
    "s = 'Bamboozled'\n",
    "print(s[0:2])\n",
    "print(s[8:10])\n",
    "print(s[-2:])\n",
    "\n",
    "print(s[2:10])\n",
    "print(s[-8:])\n",
    "print(s[2:])\n",
    "\n",
    "print(s[:6])\n",
    "print(s[-10:-4])\n",
    "print(s[:-4])\n",
    "print(s[0:10:1])\n",
    "print(s[0:10:2])\n",
    "print(s[0:10:3])\n",
    "print(s[0:10:4])\n",
    "s = s + 'Hype'\n",
    "print(s)\n",
    "s = s[:6] + 'Monger' + s[-1]\n",
    "print(s)\n"
   ]
  },
  {
   "cell_type": "code",
   "execution_count": 59,
   "metadata": {},
   "outputs": [
    {
     "name": "stdout",
     "output_type": "stream",
     "text": [
      "s1= NitiAayog\n",
      "s2= And Quiet flows the Don\n",
      "s3= 1234567890\n",
      "s4= Make $1000 a day\n",
      "check isalpha on s1, s2\n",
      "True\n",
      "False\n",
      "check isdigit on s3, s4\n",
      "True\n",
      "False\n",
      "check isalnum on s1, s2, s3, s4\n",
      "True\n",
      "False\n",
      "True\n",
      "False\n",
      "check islower on s1, s2\n",
      "False\n",
      "False\n",
      "check isupper on s1, s2\n",
      "False\n",
      "False\n",
      "check startswith and endswith on s2\n",
      "True\n",
      "False\n"
     ]
    }
   ],
   "source": [
    "##Problem 3.3 \n",
    "#For the following strings find out \n",
    "#which are having only alphabets, \n",
    "#which are numeric, \n",
    "#which are alphanumeric, \n",
    "#which are lowercase, \n",
    "#which are uppercase. \n",
    "#Also find out whether 'And Quiet flows the Don'begins with 'And' or ends with 'And': \n",
    "#'NitiAayog' \n",
    "#'And Quiet Flows The Don'\n",
    "#'1234567890' \n",
    "#'Make $1000 a day'\n",
    "\n",
    "s1 = 'NitiAayog'\n",
    "s2 = 'And Quiet flows the Don'\n",
    "s3 = '1234567890' \n",
    "s4 = 'Make $1000 a day'\n",
    "\n",
    "print('s1=',s1)\n",
    "print('s2=',s2)\n",
    "print('s3=',s3)\n",
    "print('s4=',s4 )\n",
    "\n",
    "#For only alphanumeric\n",
    "print('check isalpha on s1, s2')\n",
    "print(s1.isalpha())\n",
    "print(s2.isalpha())\n",
    "\n",
    "print ('check isdigit on s3, s4') \n",
    "print (s3.isdigit()) \n",
    "print (s4.isdigit())\n",
    "\n",
    "print ('check isalnum on s1, s2, s3, s4' ) \n",
    "print (s1.isalnum()) \n",
    "print (s2.isalnum()) \n",
    "print (s3.isalnum()) \n",
    "print (s4.isalnum())\n",
    "\n",
    "print ( 'check islower on s1, s2' ) \n",
    "print ( s1.islower( ) ) \n",
    "print ( s2.islower( ) )\n",
    "\n",
    "print ( 'check isupper on s1, s2' )\n",
    "print ( s1.isupper( ) ) \n",
    "print ( s2.isupper( ) )\n",
    "\n",
    "print ( 'check startswith and endswith on s2' ) \n",
    "print ( s2.startswith ( 'And' ) ) \n",
    "print ( s2.endswith ( 'And' ) )\n"
   ]
  },
  {
   "cell_type": "code",
   "execution_count": 82,
   "metadata": {},
   "outputs": [
    {
     "name": "stdout",
     "output_type": "stream",
     "text": [
      "BRING IT ON\n",
      "bring it on\n",
      "Bring it on\n",
      "bRING iT oN\n",
      "6\n",
      "9\n",
      "Bring him On\n",
      "Flanked by spaces on either side \n",
      " Flanked by spaces on either side\n",
      "['C:', 'Users', 'Kanetkar', 'Documents']\n"
     ]
    }
   ],
   "source": [
    "##Problem 3.4 \n",
    "#Given the following string: \n",
    "#'Bring It On' \n",
    "#' Flanked by spaces on either side ' \n",
    "#'C:\\\\Users\\\\Kanetkar\\\\Documents' \n",
    "\n",
    "#write a program to produce the following output using appropriate string functions. \n",
    "#BRING IT ON \n",
    "#bring it on \n",
    "#Bring it on \n",
    "#bRING iT oN \n",
    "#6 \n",
    "#9 \n",
    "#Bring Him On\n",
    "\n",
    "s = 'Bring It On' \n",
    "s8 =' Flanked by spaces on either side ' \n",
    "s3 ='C:\\\\Users\\\\Kanetkar\\\\Documents' \n",
    "#conversions\n",
    "print(s.upper())\n",
    "print(s.lower())\n",
    "print(s.capitalize())\n",
    "print(s.swapcase())\n",
    "\n",
    "#search and replace\n",
    "print(s.find('I')) \n",
    "print(s.find('On'))\n",
    "print(s.replace('It','him'))\n",
    "\n",
    "#trim and split\n",
    "print(s8.lstrip())\n",
    "print(s8.rstrip())\n",
    "print(s3.split('\\\\'))\n"
   ]
  },
  {
   "cell_type": "markdown",
   "metadata": {},
   "source": [
    "## Excercise "
   ]
  },
  {
   "cell_type": "code",
   "execution_count": 96,
   "metadata": {},
   "outputs": [
    {
     "name": "stdout",
     "output_type": "stream",
     "text": [
      "Sh\n",
      "an\n",
      "enanigan\n",
      "Shenan\n",
      "Shenan\n",
      "Shenan\n",
      "Shenanigan\n",
      "Seaia\n",
      "Snin\n",
      "Saa\n",
      "ShenaniganType\n",
      "ShenanWabbite\n"
     ]
    }
   ],
   "source": [
    "## [A] Answer the following: \n",
    "#(a) Write a program that generates the following output from the string 'Shenanigan'.\n",
    "#S h\n",
    "#a n\n",
    "#enanigan\n",
    "#Shenan\n",
    "#Shenan\n",
    "#Shenan\n",
    "#Shenan\n",
    "#Shenanigan\n",
    "#Seaia\n",
    "#Snin\n",
    "#Saa\n",
    "#ShenaniganType\n",
    "#ShenanWabbite\n",
    "\n",
    "s = 'Shenanigan'\n",
    "print(s[0:2])\n",
    "print(s[-2:])\n",
    "print(s[2:])\n",
    "\n",
    "print(s[0:6])\n",
    "print(s[:6])\n",
    "print(s[-10:-4])\n",
    "\n",
    "print(s)\n",
    "print(s[0:10:2])\n",
    "print(s[0:10:3])\n",
    "print(s[0:10:4])\n",
    "print(s + 'Type')\n",
    "print(s[0:6] + 'Wabbite')\n",
    "\n",
    " "
   ]
  },
  {
   "cell_type": "code",
   "execution_count": 97,
   "metadata": {},
   "outputs": [
    {
     "name": "stdout",
     "output_type": "stream",
     "text": [
      "An Inferior Lawyer With Dubious Practices\n"
     ]
    }
   ],
   "source": [
    "#(b) Write a program to convert the following string\n",
    "#'an inferior lawyer with dubious practices'\n",
    "#into\n",
    "#'An Inferior Lawyer With Dubious Practices' \n",
    "\n",
    "s = 'an inferior lawyer with dubious practices'\n",
    "print(s.title())\n",
    "\n",
    "\n"
   ]
  },
  {
   "cell_type": "code",
   "execution_count": 102,
   "metadata": {},
   "outputs": [
    {
     "name": "stdout",
     "output_type": "stream",
     "text": [
      "LIGHT travels faster than sound. This is why some people appear bright until you hear them speak.\n",
      "Light travels faster than SOUND. This is why some people appear bright until you hear them speak.\n"
     ]
    }
   ],
   "source": [
    "#(c) Write a program to convert the following string\n",
    "#'Light travels faster than sound. This is why some people appear bright until you hear them speak.'\n",
    "#into\n",
    "#'LIGHT travels faster than SOUND. This is why some people appear bright until you hear them speak.'\n",
    "\n",
    "s= 'Light travels faster than sound. This is why some people appear bright until you hear them speak.'\n",
    "print(s.replace('Light','LIGHT'))\n",
    "print(s.replace('sound','SOUND'))"
   ]
  },
  {
   "cell_type": "code",
   "execution_count": 103,
   "metadata": {},
   "outputs": [
    {
     "name": "stdout",
     "output_type": "stream",
     "text": [
      "s =  HumptyDumpty\n",
      "True\n",
      "False\n",
      "True\n",
      "False\n",
      "False\n",
      "True\n",
      "False\n"
     ]
    }
   ],
   "source": [
    "#(d) What will be the output of the following program?\n",
    "s = 'HumptyDumpty'\n",
    "print ( 's = ', s )\n",
    "print ( s.isalpha( ) )\n",
    "print ( s.isdigit( ) )\n",
    "print ( s.isalnum( ) )\n",
    "print ( s.islower( ) )\n",
    "print ( s.isupper( ) )\n",
    "print ( s.startswith ( 'Hump' ) )\n",
    "print ( s.endswith ( 'Dump' ) )\n",
    "\n"
   ]
  },
  {
   "cell_type": "code",
   "execution_count": 117,
   "metadata": {},
   "outputs": [
    {
     "name": "stdout",
     "output_type": "stream",
     "text": [
      "He said, 'Let Us Python.Y\n",
      "He said,'Let Us Python.\n"
     ]
    }
   ],
   "source": [
    "#(e) What is the purpose of a raw string? \n",
    " \n",
    "#(b) Prepend the string with a 'r' indicating that it is a raw string\n",
    "msg = 'He said, \\'Let Us Python.Y' \n",
    "msg1 = r\"He said,'Let Us Python.\"\n",
    "\n",
    "print(msg)\n",
    "print(msg1)\n",
    "\n"
   ]
  },
  {
   "cell_type": "code",
   "execution_count": null,
   "metadata": {},
   "outputs": [],
   "source": [
    "#(f) What is the difference between the functions ord( ) and chr( )? \n",
    "\n",
    "chr( ) returns a string representing its Unicode value (known as code point). ord( ) does the reverse.\n",
    "ord ( 'A' ) # yields 65\n",
    "chr ( 65 ) # yields A"
   ]
  },
  {
   "cell_type": "code",
   "execution_count": 113,
   "metadata": {},
   "outputs": [
    {
     "name": "stdout",
     "output_type": "stream",
     "text": [
      "<class 'str'>\n"
     ]
    }
   ],
   "source": [
    "#(g) Each string is an object of a built-in type called str.\n",
    "\n",
    "s = 'exp'\n",
    "print(type(s))"
   ]
  },
  {
   "cell_type": "code",
   "execution_count": 110,
   "metadata": {},
   "outputs": [
    {
     "name": "stdout",
     "output_type": "stream",
     "text": [
      "['The', 'difference', 'between', 'stupidity', 'and', 'genius', 'is', 'that', 'genius', 'has', 'its', 'limits']\n"
     ]
    }
   ],
   "source": [
    "#(h) If we are to work with individual word in the following string, how will you separate them out:\n",
    "#'The difference between stupidity and genius is that genius has its limits'\n",
    "s = 'The difference between stupidity and genius is that genius has its limits'\n",
    "print(s.split())"
   ]
  }
 ],
 "metadata": {
  "kernelspec": {
   "display_name": "Python 3",
   "language": "python",
   "name": "python3"
  },
  "language_info": {
   "codemirror_mode": {
    "name": "ipython",
    "version": 3
   },
   "file_extension": ".py",
   "mimetype": "text/x-python",
   "name": "python",
   "nbconvert_exporter": "python",
   "pygments_lexer": "ipython3",
   "version": "3.7.3"
  }
 },
 "nbformat": 4,
 "nbformat_minor": 2
}
