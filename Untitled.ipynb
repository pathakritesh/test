{
 "cells": [
  {
   "cell_type": "code",
   "execution_count": null,
   "metadata": {},
   "outputs": [],
   "source": [
    "#not Solved# (b) Write a program that uses a generator to find out maximum marks obtained by a student \n",
    "#     and his name from tuples of multiple students.\n",
    "\n",
    "class student():\n",
    "    def __init__(self,name,marks)\n",
    "    self.name = name\n",
    "    self.marks = marks\n",
    "    \n",
    "    def display(self):\n",
    "        print(self.name)\n",
    "        print(self.marks)\n",
    "st = []\n",
    "\n"
   ]
  },
  {
   "cell_type": "code",
   "execution_count": null,
   "metadata": {},
   "outputs": [],
   "source": [
    "class Complex : \n",
    "    def _init_(self,r,i):\n",
    "        self._real = r\n",
    "        self._imag = i\n",
    "    def _add_(self,other):\n",
    "        #z = Complex()\n",
    "        z1 = self._real + other._real\n",
    "        z2 = self._imag + other._imag\n",
    "        return print(z1,z2)\n",
    "    def _sub_(self,other):\n",
    "        z = Complex()\n",
    "        z._real = self._real - other._real\n",
    "        z._imag = self._imag - other._imag\n",
    "        return z \n",
    "    def display(self):\n",
    "        print(self._real, self._imag)\n",
    "c1 = Complex()\n",
    "print(c1._add_(1))\n"
   ]
  },
  {
   "cell_type": "code",
   "execution_count": null,
   "metadata": {},
   "outputs": [],
   "source": []
  },
  {
   "cell_type": "code",
   "execution_count": null,
   "metadata": {},
   "outputs": [],
   "source": []
  }
 ],
 "metadata": {
  "kernelspec": {
   "display_name": "Python 3",
   "language": "python",
   "name": "python3"
  },
  "language_info": {
   "codemirror_mode": {
    "name": "ipython",
    "version": 3
   },
   "file_extension": ".py",
   "mimetype": "text/x-python",
   "name": "python",
   "nbconvert_exporter": "python",
   "pygments_lexer": "ipython3",
   "version": "3.7.3"
  }
 },
 "nbformat": 4,
 "nbformat_minor": 2
}
