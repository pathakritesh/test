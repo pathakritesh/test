{
 "cells": [
  {
   "cell_type": "markdown",
   "metadata": {},
   "source": [
    "# Chapter_4"
   ]
  },
  {
   "cell_type": "markdown",
   "metadata": {},
   "source": [
    "## Examples "
   ]
  },
  {
   "cell_type": "code",
   "execution_count": null,
   "metadata": {},
   "outputs": [],
   "source": [
    "#Problem 4.1 \n",
    "#While purchasing certain items, \n",
    "#a discount of 10% is offered if the quantity purchased is more than 1000. \n",
    "#If quantity and price per item are input through the keyboard, \n",
    "#write a program to calculate the total expenses.\n",
    "\n",
    "qty = int(input('enter qty'))\n",
    "dis = 10\n",
    "price = float(input('enter price'))\n",
    "if qty >= 1000:\n",
    "    print(qty*price - qty*price*dis/100)\n",
    "else:\n",
    "    print('you are not eligible ')\n",
    "    \n"
   ]
  },
  {
   "cell_type": "code",
   "execution_count": null,
   "metadata": {},
   "outputs": [],
   "source": [
    "#Problem 4.2\n",
    "#In a company an employee is paid as under: \n",
    "#If his basic salary is less than Rs. 1500, \n",
    "#then HRA = 10% of basic salary and DA = 90% of basic salary. \n",
    "#If his salary is either equal to or above Rs. 1500, \n",
    "#then HRA = Rs. 500 and DA = 98% of basic salary. \n",
    "#If the employee's salary is input through the keyboard \n",
    "#write a program to find his gross salary.\n",
    "\n",
    "bs = int(input('enter your basic salary'))\n",
    "hr1 = 10\n",
    "hra2 = 500\n",
    "da1 = 90\n",
    "da2 = 98\n",
    "if bs<1500:\n",
    "    print(bs+(bs*hr1/100)+ (bs*da1/100))\n",
    "else:\n",
    "    print(bs+(bs+hra2)+ (bs*da2/100))"
   ]
  },
  {
   "cell_type": "code",
   "execution_count": null,
   "metadata": {},
   "outputs": [],
   "source": [
    "#Problem 4.3 \n",
    "#Percentage marks obtained by a student are input through the keyboard. \n",
    "#The student gets a division as per the following rules: \n",
    "#Percentage above or equal to 60 - First division \n",
    "#Percentage between 50 and 59 - Second division \n",
    "#Percentage between 40 and 49 - Third division \n",
    "#Percentage less than 40 - Fail \n",
    "#Write a program to calculate the division obtained by the student.\n",
    "\n",
    "\n",
    "marks_obtained = int(input('enter your marks'))\n",
    "if marks_obtained>= 60:\n",
    "    print('first division')\n",
    "elif marks_obtained>= 50:\n",
    "    print('second division')\n",
    "elif marks_obtained>= 40:\n",
    "    print('third division')\n",
    "else:\n",
    "    print('fail')"
   ]
  },
  {
   "cell_type": "code",
   "execution_count": null,
   "metadata": {},
   "outputs": [],
   "source": [
    "#Problem 4.4 \n",
    "#A company insures its drivers in the following cases: \n",
    "#- If the driver is married. \n",
    "#- If the driver is unmarried, male & above 30 years of age.\n",
    "#- If the driver is unmarried, female & above 25 years of age. \n",
    "#In all other cases, the driver is not insured. \n",
    "#If the marital status, sex and age of the driver are the inputs, write a program\n",
    "\n",
    "\n",
    "mrg = str(input('married or unmarried'))\n",
    "sex = str(input('male or female'))\n",
    "age = int(input('age'))\n",
    "if mrg=='married':\n",
    "    print('eligible')\n",
    "elif mrg=='unmarried':\n",
    "    if sex == 'male' and age >30:\n",
    "        print('eligible')\n",
    "    elif sex == 'female' and age > 25:\n",
    "        print('eligible')\n",
    "    else:\n",
    "        print('not eligible')\n",
    "else:\n",
    "    print('not eligible')"
   ]
  },
  {
   "cell_type": "code",
   "execution_count": null,
   "metadata": {},
   "outputs": [],
   "source": [
    "#Problem 4.5\n",
    "#Write a program that receives 3 sets of values of p, n and r and calculates simple interest for each.\n",
    "\n",
    "\n",
    "i = 1 \n",
    "while i<=3:\n",
    "    p = float( input(' Enter value of p: ')) \n",
    "    n = int( input(' Enter value of n: ')) \n",
    "    r = float( input(' Enter value of r: ')) \n",
    "    si = p * n * r / 100 \n",
    "    print(' Simple interest = Rs. ',(si))\n",
    "i = i+1\n",
    "   "
   ]
  },
  {
   "cell_type": "code",
   "execution_count": null,
   "metadata": {},
   "outputs": [],
   "source": [
    "#Problem 4.6 \n",
    "#Write a program that prints numbers from 1 to 10 using an infinite loop. \n",
    "#All numbers should get printed in the same line.\n",
    "\n",
    "while 1: \n",
    "    for i in range(11):\n",
    "\n",
    "        print(i,end=' ') \n",
    "    break\n",
    "\n",
    "\n"
   ]
  },
  {
   "cell_type": "code",
   "execution_count": null,
   "metadata": {},
   "outputs": [],
   "source": [
    "i = 1 \n",
    "while 1:\n",
    "    print(i,end =' ') \n",
    "    i += 1 \n",
    "    if i>10: \n",
    "        break"
   ]
  },
  {
   "cell_type": "code",
   "execution_count": null,
   "metadata": {},
   "outputs": [],
   "source": [
    "#Problem 4.7 \n",
    "#Write a program that prints all unique combinations of 1, 2 and 3.\n",
    "\n",
    "i = 1 \n",
    "while i <= 3 : \n",
    "    j = 1 \n",
    "    while j <= 3 : \n",
    "        k = 1 \n",
    "        while k <= 3 : \n",
    "            if i == j or j == k or k == i : \n",
    "                k += 1 \n",
    "            continue \n",
    "        else: \n",
    "                    print( i, j, k) \n",
    "k += 1 \n",
    "j += 1 \n",
    "i += 1\n"
   ]
  },
  {
   "cell_type": "code",
   "execution_count": null,
   "metadata": {},
   "outputs": [],
   "source": [
    "#Problem 4.8 \n",
    "#Write a program that obtains decimal value of a binary numeric string. \n",
    "#Fr example, decimal value of '1111' is 15.\n",
    "\n",
    "b = '1111' \n",
    "i = 0 \n",
    "while b: \n",
    "    i = i * 2 + (ord(b[0]) - ord('0')) \n",
    "    b = b[1:] \n",
    "    print('Decimal value = '+str(i))\n"
   ]
  },
  {
   "cell_type": "code",
   "execution_count": null,
   "metadata": {},
   "outputs": [],
   "source": [
    "#Problem 4.9 \n",
    "#Write a program that receives an integer and determines whether it is a prime number or not.\n",
    "\n",
    "num = int(input(' Enter value of num: ')) \n",
    "i = 2 \n",
    "while i <= num - 1:\n",
    "    if num % i == 0:\n",
    "        print(' Not a prime number') \n",
    "    break \n",
    "    i += 1 \n",
    "    else:\n",
    "        print(' Prime number')\n",
    " "
   ]
  },
  {
   "cell_type": "code",
   "execution_count": null,
   "metadata": {},
   "outputs": [],
   "source": [
    "#Problem 4.10 \n",
    "#Write a program that generates the following output using a for loop: \n",
    "#A, B, C, D, E, F, G, H, I, J, K, L, M, N, O, P, Q, R, S, T, U, V, W, X, Y, Z, \n",
    "#z, y, x, w, v, u, t, s, r, q, p, o, n, m, l, k, j, i, h, g, f, e, d, c, b, a,\n",
    "\n",
    "\n",
    "for alpha in range( 65,91) :\n",
    "    print( chr( alpha), end =',')\n",
    "print( ) \n",
    "for alpha in range( 122,96, -1) :\n",
    "    print( chr( alpha), end =',')\n",
    "\n",
    "\n"
   ]
  },
  {
   "cell_type": "code",
   "execution_count": null,
   "metadata": {},
   "outputs": [],
   "source": [
    "#Problem 4.11 \n",
    "#Suppose there are four flag variables w, x, y, z. \n",
    "#Write a program to check in multiple ways whether one of them is true.\n",
    "\n",
    "w, x, y, z = 0, 1, 0, 1 \n",
    "if w == 1 or x == 1 or y == 1 or z == 1 :\n",
    "    print(' True') \n",
    "if w or x or y or z :\n",
    "    print(' True') \n",
    "if any(( w, x, y, z)):\n",
    "    print(' True') \n",
    "if 1 in (w, x, y, z) :\n",
    "    print(' True')\n",
    " "
   ]
  },
  {
   "cell_type": "code",
   "execution_count": null,
   "metadata": {},
   "outputs": [],
   "source": [
    "#Problem 4.12 \n",
    "#Given a number n we wish to do the following: \n",
    "#If n is positive - print n * n, set a flag to true \n",
    "#If n is negative - print n * n * n, set a flag to true \n",
    "#if n is 0 - do nothing \n",
    "#Is the code given below correct for this logic? \n",
    "n = int( input(' Enter a number: ')) \n",
    "if n>0: \n",
    "    flag = True \n",
    "    print(n*n) \n",
    "elif n<0: \n",
    "    flag = True \n",
    "    print(n*n*n)\n",
    "else:\n",
    "    pass"
   ]
  },
  {
   "cell_type": "markdown",
   "metadata": {},
   "source": [
    "# Excercise "
   ]
  },
  {
   "cell_type": "code",
   "execution_count": null,
   "metadata": {},
   "outputs": [],
   "source": [
    "#[A] Answer the following: \n",
    "#(a) Write conditional expressions for\n",
    "#- If a < 10 b = 20, else b = 30 - Print 'Morning' if time < 12, otherwise print 'Afternoon' \n",
    "\n",
    "\n",
    "a=10\n",
    "b=20\n",
    "b =30\n",
    "#time = int(input('time'))\n",
    "if a < 12 or b<12 :\n",
    "    print('moring')\n",
    "else :\n",
    "    print('afternoon')\n",
    "\n",
    "\n"
   ]
  },
  {
   "cell_type": "code",
   "execution_count": null,
   "metadata": {},
   "outputs": [],
   "source": [
    "#(b) Rewrite the following code snippet in 1 line: \n",
    "#x = 3 y = 3.0 if x = = y : print(' x and y are equal') else : print(' x and y are not equal')\n",
    "\n",
    "x = 3; y = 3.0 \n",
    "if x == y:  print('x and y are equal')  \n",
    "else:  print(' x and y are not equal')"
   ]
  },
  {
   "cell_type": "code",
   "execution_count": null,
   "metadata": {},
   "outputs": [],
   "source": [
    "#[B] What will be the output of the following programs: \n",
    "#(a) \n",
    "i, j, k = 4, -1, 0 \n",
    "w = i or j or k \n",
    "x = i and j and k \n",
    "y = i or j and k \n",
    "z = i and j or k \n",
    "print( w, x, y, z)"
   ]
  },
  {
   "cell_type": "code",
   "execution_count": null,
   "metadata": {},
   "outputs": [],
   "source": [
    "#(b) \n",
    "a = 10 \n",
    "a = not not a \n",
    "print( a) "
   ]
  },
  {
   "cell_type": "code",
   "execution_count": null,
   "metadata": {},
   "outputs": [],
   "source": [
    "#(c) \n",
    "x, y, z = 20, 40, 45 \n",
    "if x > y and x > z : \n",
    "    print(' biggest = ' + str( x)) \n",
    "elif ( y > x and y > z ): \n",
    "    print(' biggest = ' + str( y)) \n",
    "elif ( z > x and z > y ):\n",
    "    print(' biggest = ' + str( z)) "
   ]
  },
  {
   "cell_type": "code",
   "execution_count": null,
   "metadata": {},
   "outputs": [],
   "source": [
    "#(d) \n",
    "num = 30 \n",
    "k = 100 \n",
    "if num <= 10:\n",
    "    pass\n",
    "else:\n",
    "    print( k)"
   ]
  },
  {
   "cell_type": "code",
   "execution_count": null,
   "metadata": {},
   "outputs": [],
   "source": [
    "#[C] Point out the errors, if any, in the following programs: \n",
    "#(a) \n",
    "a = 12.25\n",
    "b = 12.52 \n",
    "if a == b:  # : missing and a==b is missing\n",
    "    print(' a and b are equal')\n",
    "else:\n",
    "    print('not equal')  # no output msg if 'if'condition not satisfied "
   ]
  },
  {
   "cell_type": "code",
   "execution_count": null,
   "metadata": {},
   "outputs": [],
   "source": [
    "#(b)\n",
    "if ord('X') < ord('x'):  # : missing\n",
    "    print(' Unicode value of X is smaller than that of x') \n"
   ]
  },
  {
   "cell_type": "code",
   "execution_count": null,
   "metadata": {},
   "outputs": [],
   "source": [
    "#(c) \n",
    "x = 10 \n",
    "if x >= 2:  #  then # : missing and then is not a defined character \n",
    "    print('x')\n"
   ]
  },
  {
   "cell_type": "code",
   "execution_count": null,
   "metadata": {},
   "outputs": [],
   "source": [
    "#(d) \n",
    "x = 10 ; y = 15 \n",
    "if x%2 == y%3:  # : missing \n",
    "    print(' Carpathians\\n') "
   ]
  },
  {
   "cell_type": "code",
   "execution_count": null,
   "metadata": {},
   "outputs": [],
   "source": [
    "#(e) \n",
    "x, y = 30, 40 \n",
    "if x == y : \n",
    "    print(' x is equal to y') \n",
    "elif x>y :  # wrong keyword elseif\n",
    "    print(' x is greater than y') \n",
    "elif x<y :  # wrong keyword elseif\n",
    "    print(' x is less than y')"
   ]
  },
  {
   "cell_type": "code",
   "execution_count": null,
   "metadata": {},
   "outputs": [],
   "source": [
    "#[D] \n",
    "#If a = 10, b = 12, c = 0, \n",
    "#find the values of the following expressions: \n",
    "#a != 6 and b > 5 a = = 9 or b < 3 not( a < 10 ) not ( a > 5 and c ) 5 and c != 8 or !c\n",
    "a = 10\n",
    "b = 12\n",
    "c = 0\n",
    "a != 6 and b>5\n",
    "a == 9 or b<3\n",
    "not(a<10)\n",
    "not(a>5 and c)\n",
    "5 and c != 8 or c"
   ]
  },
  {
   "cell_type": "code",
   "execution_count": null,
   "metadata": {},
   "outputs": [],
   "source": [
    "#[E] Attempt the following: "
   ]
  },
  {
   "cell_type": "code",
   "execution_count": null,
   "metadata": {},
   "outputs": [],
   "source": [
    "#(a) Write a program to count the number of alphabets and number of digits in the string 'Nagpur-440010'\n",
    "\n",
    "val = 'Nagpur-440010'\n",
    "count1=0\n",
    "count2=0\n",
    "for i in val:\n",
    "      if(i.isdigit()):\n",
    "            count1=count1+1\n",
    "      elif(i.isalpha()):\n",
    "          count2=count2+1\n",
    "print(\"The number of digits is:\")\n",
    "print(count1)\n",
    "print(\"The number of characters is:\")\n",
    "print(count2)"
   ]
  },
  {
   "cell_type": "code",
   "execution_count": null,
   "metadata": {},
   "outputs": [],
   "source": [
    "#(b) Any integer is input through the keyboard. Write a program to find out whether it is an odd number or even number. \n",
    "\n",
    "v = int(input('enter number'))\n",
    "if v%2 == 0:\n",
    "    print('even number')\n",
    "else:\n",
    "    print('odd number')\n",
    "    "
   ]
  },
  {
   "cell_type": "code",
   "execution_count": null,
   "metadata": {},
   "outputs": [],
   "source": [
    "#(c) Any year is input through the keyboard. Write a program to determine whether the year is a leap year or not. \n",
    "\n",
    "lp = int(input('enter year'))\n",
    "if lp%4 == 0:\n",
    "    print('leap year')\n",
    "else:\n",
    "    print('not a leap year')"
   ]
  },
  {
   "cell_type": "code",
   "execution_count": null,
   "metadata": {},
   "outputs": [],
   "source": [
    "\n",
    "#(d) A five-digit number is entered through the keyboard. \n",
    "#Write a program to obtain the reversed number and to determine whether the original and reversed numbers are equal or not.\n",
    "\n",
    "Number = int(input(\"Please Enter any Number: \"))    \n",
    "s = Number\n",
    "Reverse = 0    \n",
    "while(Number > 0):    \n",
    "    Reminder = Number %10    \n",
    "    Reverse = (Reverse *10) + Reminder    \n",
    "    Number = Number //10\n",
    "\n",
    "print(\"\\n Reverse of entered number is = %d\" %Reverse)\n",
    "n = s\n",
    "r = Reverse\n",
    "if n==r:\n",
    "    print('number is same')\n",
    "else:\n",
    "    print('number is not same')\n"
   ]
  },
  {
   "cell_type": "code",
   "execution_count": null,
   "metadata": {},
   "outputs": [],
   "source": [
    "#(e) If ages of Ram, Shyam and Ajay are input through the keyboard, write a program to determine the youngest of the three.\n",
    "Ram = int(input('enter Ram age'))\n",
    "Shyam = int(input('enter Shyam age'))\n",
    "Ajay = int(input('enter Ajay age'))\n",
    "if Ram<Shyam and Ram<Ajay:\n",
    "    print('ram is younger')\n",
    "elif Ajay<Shyam and Ajay<Ram:\n",
    "    print('Ajay is younger')\n",
    "elif Shyam<Ram and Shyam<Ajay:\n",
    "    print('Shyam is younger')\n",
    "else:\n",
    "    print('all are equal age')"
   ]
  },
  {
   "cell_type": "code",
   "execution_count": null,
   "metadata": {},
   "outputs": [],
   "source": [
    "#(f) Write a program to check whether a triangle is valid or not, \n",
    "#when the three angles of the triangle are entered through the keyboard. \n",
    "#A triangle is valid if the sum of all the three angles is equal to 180 degrees. \n",
    "a= int(input('enter angle 1: '))\n",
    "b = int(input('enter angle 2: '))\n",
    "c = int(input('enter angle 3: '))\n",
    "s = a+b+c\n",
    "if s==180:\n",
    "    print('valid triangle')\n",
    "else:\n",
    "    print('not valid')"
   ]
  },
  {
   "cell_type": "code",
   "execution_count": null,
   "metadata": {},
   "outputs": [],
   "source": [
    "#(g) Write a program to find the absolute value of a number entered through the keyboard. \n",
    "\n",
    "a= float(input('enter number: '))\n",
    "b= abs(a)\n",
    "print(b)"
   ]
  },
  {
   "cell_type": "code",
   "execution_count": null,
   "metadata": {},
   "outputs": [],
   "source": [
    "#(h) Given the length and breadth of a rectangle, \n",
    "#write a program to find whether the area of the rectangle is greater than its perimeter. \n",
    "#For example, the area of the rectangle with length = 5 and breadth = 4 is greater than its perimeter.\n",
    "import math\n",
    "l = 3\n",
    "b = 4\n",
    "h = l**2 + b**2\n",
    "q = math.sqrt(h)\n",
    "if l>q and b>q:\n",
    "    print('area is greater than perimeter')\n",
    "elif h>q and h>q:\n",
    "    print('perimeter is greater than area')"
   ]
  },
  {
   "cell_type": "code",
   "execution_count": null,
   "metadata": {},
   "outputs": [],
   "source": [
    "#(i) Given three points (x1, y1), (x2, y2) and (x3, y3), \n",
    "#write a program to check if all the three points fall on one straight line. \n",
    "\n",
    "\n",
    "x1,x2,x3,y1,y2,y3 = 1,1,1,1,1,1\n",
    "if (x1,y1)==(x2,y2) == (x3,y3):\n",
    "    print('all lines on one st line')\n",
    "else:\n",
    "    print('line not equal')"
   ]
  },
  {
   "cell_type": "code",
   "execution_count": null,
   "metadata": {},
   "outputs": [],
   "source": [
    "#(j) Given the coordinates (x, y) of center of a circle and its radius, \n",
    "#write a program that will determine whether a point lies inside the circle, on the circle or outside the circle. \n",
    "#(Hint: Use sqrt( ) and pow( ) functions) \n",
    "import math\n",
    "x = float(input('enter value of x'))\n",
    "y = float(input('enter value of y'))\n",
    "r = float(input('enter value of r'))\n",
    "l = math.pow(x,2)\n",
    "m = math.pow(y,2)\n",
    "n = math.pow(r,2)\n",
    "f = l+m\n",
    "g = math.sqrt(f)\n",
    "n = math.sqrt(n)\n",
    "if g<=n:\n",
    "    print('point inside the circle')\n",
    "else:\n",
    "    print('outside the circle')"
   ]
  },
  {
   "cell_type": "code",
   "execution_count": null,
   "metadata": {},
   "outputs": [],
   "source": [
    "#(k) Given a point (x, y), \n",
    "#write a program to find out if it lies on the X-axis, Y-axis or on the origin. \n",
    "x= float(input('enter value of x'))\n",
    "y= float(input('enter value of y'))\n"
   ]
  },
  {
   "cell_type": "code",
   "execution_count": null,
   "metadata": {},
   "outputs": [],
   "source": [
    "#(l) A year is entered through the keyboard, write a program to determine whether the year is leap or not. \n",
    "#Use the logical operators and and or.\n",
    "\n",
    "lp = int(input('enter year'))\n",
    "if lp%4 is 0 and lp%4 is 0 :\n",
    "    print('leap year')\n",
    "elif lp%4 is 0 or lp/4 is 0 :\n",
    "    rint('leap year')\n",
    "else:\n",
    "    print('not a leap year')"
   ]
  },
  {
   "cell_type": "code",
   "execution_count": null,
   "metadata": {},
   "outputs": [],
   "source": [
    "#(m) If the three sides of a triangle are entered through the keyboard, \n",
    "#write a program to check whether the triangle is valid or not. \n",
    "#The triangle is valid if the sum of two sides is greater than the largest of the three sides.\n",
    "\n",
    "a= int(input('enter angle 1: '))\n",
    "b = int(input('enter angle 2: '))\n",
    "c = int(input('enter angle 3: '))\n",
    "s = a+b\n",
    "if s>c:\n",
    "    print('valid triangle')\n",
    "else:\n",
    "    print('not valid')"
   ]
  },
  {
   "cell_type": "code",
   "execution_count": null,
   "metadata": {},
   "outputs": [],
   "source": [
    "#(n) If the three sides of a triangle are entered through the keyboard, \n",
    "#write a program to check whether the triangle is isosceles, equilateral, scalene or right angled triangle. \n",
    "a = int(input('enter angle 1: '))\n",
    "b = int(input('enter angle 2: '))\n",
    "c = int(input('enter angle 3: '))\n",
    "if a==b==c:\n",
    "    print('Equilateral triangle')\n",
    "if a==b:\n",
    "    print('isosceles triangles')\n",
    "if a!=b!=c:\n",
    "    print('scalene triangle')\n",
    "if a==90 or b==90 or c==90:\n",
    "    print('right triangle')\n",
    "if a>90 and b>90 and c>90:\n",
    "    print('obtus triangle')\n",
    "if a<90 and b<90 and c<90:\n",
    "    print('acute triangle') \n",
    "\n",
    "else:\n",
    "    print('enter valid keyword')\n",
    " \n"
   ]
  },
  {
   "cell_type": "code",
   "execution_count": null,
   "metadata": {},
   "outputs": [],
   "source": [
    "#(o) Write a program to calculate overtime pay of 10 employees. \n",
    "#Overtime is paid at the rate of Rs. 12.00 per hour for every hour worked above 40 hours. \n",
    "#Assume that employees do not work for fractional part of an hour. \n",
    "\n",
    "emp_no = 10\n",
    "work_hour = 40\n",
    "ot = int(input('enter over time'))\n",
    "rate = 12\n",
    "total_work = work_hour + ot\n",
    "if work_hour<total_work:\n",
    "    print('total wage to pay',total_work*rate*emp_no)\n",
    "else:\n",
    "    print('error')\n"
   ]
  },
  {
   "cell_type": "code",
   "execution_count": null,
   "metadata": {},
   "outputs": [],
   "source": [
    "#(p) Write a program to find the factorial value of any number entered through the keyboard.\n",
    "\n",
    "n = int(input('enter number for factorial: '))\n",
    "f = 1\n",
    "if n < 0:\n",
    "    print(\"factorial does not exist\")\n",
    "elif n == 0:\n",
    "    print(\"The factorial of 0 is 1\")\n",
    "else:\n",
    "    for i in range(1,n + 1):\n",
    "        f = f*i\n",
    "    print(\"The factorial of\",n,\"is\",f)"
   ]
  },
  {
   "cell_type": "code",
   "execution_count": null,
   "metadata": {},
   "outputs": [],
   "source": [
    "###(q) Write a program to print out all Armstrong numbers between 1 and 500. \n",
    "#If sum of cubes of each digit of the number is equal to the number itself, then the number is called an Armstrong number. \n",
    "#For example, 153 = ( 1 * 1 * 1 ) + ( 5 * 5 * 5 ) + ( 3 * 3 * 3 ). \n",
    "\n"
   ]
  },
  {
   "cell_type": "code",
   "execution_count": null,
   "metadata": {},
   "outputs": [],
   "source": [
    "###(r) Write a program to print all prime numbers from 1 to 300. \n",
    "n = 300\n",
    "k = 1\n",
    "for i in range(k,n):\n",
    "    \n",
    "    \n",
    "    \n"
   ]
  },
  {
   "cell_type": "code",
   "execution_count": null,
   "metadata": {},
   "outputs": [],
   "source": [
    "#(s) Write a program to print the multiplication table of the number entered by the user. \n",
    "#The table should get displayed in the following form: 29 * 1 = 29 29 * 2 = 58 & \n",
    "\n",
    "v = int(input('enter table of digit '))\n",
    "for i in range(10):\n",
    "    print('29 ''*',i+1,'=',v*(i+1))\n",
    "    \n"
   ]
  },
  {
   "cell_type": "code",
   "execution_count": null,
   "metadata": {},
   "outputs": [],
   "source": [
    "#(t) When interest compounds q times per year at an annual rate of r % for n years, \n",
    "#the principal p compounds to an amount a as per the following formula a = p ( 1 + r / q ) nq \n",
    "#Write a program to read 10 sets of p, r, n & q and calculate the corresponding as. \n",
    "\n",
    "\n",
    "\n",
    "n = 1\n",
    "while True :\n",
    "    if n<=10:\n",
    "        p = float(input('enter principle'))\n",
    "        q = float(input('enter time'))\n",
    "        r = float(input('enter rate'))\n",
    "        a = p*(1+(r/q))*n*q\n",
    "        n +=1\n",
    "        print('amount',a*n)"
   ]
  },
  {
   "cell_type": "code",
   "execution_count": null,
   "metadata": {},
   "outputs": [],
   "source": [
    "### (u) Write a program to generate all Pythagorean Triplets with side length less than or equal to 30. \n",
    "import math\n",
    "a=0\n",
    "b=0\n",
    "c=0\n",
    "x = a**2 \n",
    "y = b**2 \n",
    "z = c**2\n",
    "p = x+y\n",
    "m = math.sqrt(p)\n",
    "n = math.sqrt(z)\n",
    "while True:\n",
    "    if a<=30:\n",
    "        if m is n:\n",
    "            print('Triplet of:',a,b,'=',c)\n",
    "    \n",
    "    a +=1\n",
    "    b +=1\n",
    "    c +=1"
   ]
  },
  {
   "cell_type": "code",
   "execution_count": null,
   "metadata": {},
   "outputs": [],
   "source": [
    "###(v) Population of a town today is 100000. \n",
    "#The population has increased steadily at the rate of 10 % per year for last 10 years. \n",
    "#Write a program to determine the population at the end of each year in the last decade. \n",
    "\n",
    "\n",
    "q = 1\n",
    "while True :\n",
    "    if q<=10:\n",
    "        p = 100\n",
    "        r = .1\n",
    "        n = 1\n",
    "        a = p*(1+(r/q))*n*q\n",
    "        q +=1\n",
    "        print('population: ',int(a))\n"
   ]
  },
  {
   "cell_type": "code",
   "execution_count": null,
   "metadata": {},
   "outputs": [],
   "source": [
    "###(w) Ramanujan number is the smallest number that can be expressed as sum of two cubes in two different ways. \n",
    "#Write a program to print all such numbers up to a reasonable limit. \n",
    "\n"
   ]
  },
  {
   "cell_type": "code",
   "execution_count": null,
   "metadata": {},
   "outputs": [],
   "source": [
    "#(x) Write a program to print 24 hours of day with suitable suffixes like AM, PM, Noon and Midnight.\n",
    "\n",
    "for i in range(24):\n",
    "    if i<=4:\n",
    "        print(i,'AM'' Mid Night')\n",
    "    elif i<12:\n",
    "        print(i,'AM'' Good Morning')\n",
    "    elif i<=16:\n",
    "        print(i,'PM'' Good Noon')\n",
    "    elif i>16:\n",
    "        print(i,'PM'' Good Evening')\n",
    "    else:\n",
    "        print('error')"
   ]
  }
 ],
 "metadata": {
  "kernelspec": {
   "display_name": "Python 3",
   "language": "python",
   "name": "python3"
  },
  "language_info": {
   "codemirror_mode": {
    "name": "ipython",
    "version": 3
   },
   "file_extension": ".py",
   "mimetype": "text/x-python",
   "name": "python",
   "nbconvert_exporter": "python",
   "pygments_lexer": "ipython3",
   "version": "3.7.3"
  }
 },
 "nbformat": 4,
 "nbformat_minor": 2
}
